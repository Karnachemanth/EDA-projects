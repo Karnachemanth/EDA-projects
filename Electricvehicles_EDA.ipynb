{
 "cells": [
  {
   "cell_type": "code",
   "execution_count": 97,
   "id": "1df1820f-b6cf-40b2-b890-069bef7ab2f0",
   "metadata": {},
   "outputs": [],
   "source": [
    "import pandas as pd"
   ]
  },
  {
   "cell_type": "code",
   "execution_count": 98,
   "id": "adfd8578-41c3-4912-83bb-266d503b5312",
   "metadata": {},
   "outputs": [],
   "source": [
    "df=pd.read_csv(r\"C:\\Users\\karna\\Downloads\\dataset.csv\")"
   ]
  },
  {
   "cell_type": "code",
   "execution_count": 99,
   "id": "84b9d46e-e5a1-4cd1-a8ec-c79e104691be",
   "metadata": {},
   "outputs": [
    {
     "data": {
      "text/html": [
       "<div>\n",
       "<style scoped>\n",
       "    .dataframe tbody tr th:only-of-type {\n",
       "        vertical-align: middle;\n",
       "    }\n",
       "\n",
       "    .dataframe tbody tr th {\n",
       "        vertical-align: top;\n",
       "    }\n",
       "\n",
       "    .dataframe thead th {\n",
       "        text-align: right;\n",
       "    }\n",
       "</style>\n",
       "<table border=\"1\" class=\"dataframe\">\n",
       "  <thead>\n",
       "    <tr style=\"text-align: right;\">\n",
       "      <th></th>\n",
       "      <th>VIN (1-10)</th>\n",
       "      <th>County</th>\n",
       "      <th>City</th>\n",
       "      <th>State</th>\n",
       "      <th>Postal Code</th>\n",
       "      <th>Model Year</th>\n",
       "      <th>Make</th>\n",
       "      <th>Model</th>\n",
       "      <th>Electric Vehicle Type</th>\n",
       "      <th>Clean Alternative Fuel Vehicle (CAFV) Eligibility</th>\n",
       "      <th>Electric Range</th>\n",
       "      <th>Base MSRP</th>\n",
       "      <th>Legislative District</th>\n",
       "      <th>DOL Vehicle ID</th>\n",
       "      <th>Vehicle Location</th>\n",
       "      <th>Electric Utility</th>\n",
       "      <th>2020 Census Tract</th>\n",
       "    </tr>\n",
       "  </thead>\n",
       "  <tbody>\n",
       "    <tr>\n",
       "      <th>0</th>\n",
       "      <td>JTMEB3FV6N</td>\n",
       "      <td>Monroe</td>\n",
       "      <td>Key West</td>\n",
       "      <td>FL</td>\n",
       "      <td>33040</td>\n",
       "      <td>2022</td>\n",
       "      <td>TOYOTA</td>\n",
       "      <td>RAV4 PRIME</td>\n",
       "      <td>Plug-in Hybrid Electric Vehicle (PHEV)</td>\n",
       "      <td>Clean Alternative Fuel Vehicle Eligible</td>\n",
       "      <td>42</td>\n",
       "      <td>0</td>\n",
       "      <td>NaN</td>\n",
       "      <td>198968248</td>\n",
       "      <td>POINT (-81.80023 24.5545)</td>\n",
       "      <td>NaN</td>\n",
       "      <td>12087972100</td>\n",
       "    </tr>\n",
       "    <tr>\n",
       "      <th>1</th>\n",
       "      <td>1G1RD6E45D</td>\n",
       "      <td>Clark</td>\n",
       "      <td>Laughlin</td>\n",
       "      <td>NV</td>\n",
       "      <td>89029</td>\n",
       "      <td>2013</td>\n",
       "      <td>CHEVROLET</td>\n",
       "      <td>VOLT</td>\n",
       "      <td>Plug-in Hybrid Electric Vehicle (PHEV)</td>\n",
       "      <td>Clean Alternative Fuel Vehicle Eligible</td>\n",
       "      <td>38</td>\n",
       "      <td>0</td>\n",
       "      <td>NaN</td>\n",
       "      <td>5204412</td>\n",
       "      <td>POINT (-114.57245 35.16815)</td>\n",
       "      <td>NaN</td>\n",
       "      <td>32003005702</td>\n",
       "    </tr>\n",
       "    <tr>\n",
       "      <th>2</th>\n",
       "      <td>JN1AZ0CP8B</td>\n",
       "      <td>Yakima</td>\n",
       "      <td>Yakima</td>\n",
       "      <td>WA</td>\n",
       "      <td>98901</td>\n",
       "      <td>2011</td>\n",
       "      <td>NISSAN</td>\n",
       "      <td>LEAF</td>\n",
       "      <td>Battery Electric Vehicle (BEV)</td>\n",
       "      <td>Clean Alternative Fuel Vehicle Eligible</td>\n",
       "      <td>73</td>\n",
       "      <td>0</td>\n",
       "      <td>15.0</td>\n",
       "      <td>218972519</td>\n",
       "      <td>POINT (-120.50721 46.60448)</td>\n",
       "      <td>PACIFICORP</td>\n",
       "      <td>53077001602</td>\n",
       "    </tr>\n",
       "    <tr>\n",
       "      <th>3</th>\n",
       "      <td>1G1FW6S08H</td>\n",
       "      <td>Skagit</td>\n",
       "      <td>Concrete</td>\n",
       "      <td>WA</td>\n",
       "      <td>98237</td>\n",
       "      <td>2017</td>\n",
       "      <td>CHEVROLET</td>\n",
       "      <td>BOLT EV</td>\n",
       "      <td>Battery Electric Vehicle (BEV)</td>\n",
       "      <td>Clean Alternative Fuel Vehicle Eligible</td>\n",
       "      <td>238</td>\n",
       "      <td>0</td>\n",
       "      <td>39.0</td>\n",
       "      <td>186750406</td>\n",
       "      <td>POINT (-121.7515 48.53892)</td>\n",
       "      <td>PUGET SOUND ENERGY INC</td>\n",
       "      <td>53057951101</td>\n",
       "    </tr>\n",
       "    <tr>\n",
       "      <th>4</th>\n",
       "      <td>3FA6P0SU1K</td>\n",
       "      <td>Snohomish</td>\n",
       "      <td>Everett</td>\n",
       "      <td>WA</td>\n",
       "      <td>98201</td>\n",
       "      <td>2019</td>\n",
       "      <td>FORD</td>\n",
       "      <td>FUSION</td>\n",
       "      <td>Plug-in Hybrid Electric Vehicle (PHEV)</td>\n",
       "      <td>Not eligible due to low battery range</td>\n",
       "      <td>26</td>\n",
       "      <td>0</td>\n",
       "      <td>38.0</td>\n",
       "      <td>2006714</td>\n",
       "      <td>POINT (-122.20596 47.97659)</td>\n",
       "      <td>PUGET SOUND ENERGY INC</td>\n",
       "      <td>53061041500</td>\n",
       "    </tr>\n",
       "    <tr>\n",
       "      <th>...</th>\n",
       "      <td>...</td>\n",
       "      <td>...</td>\n",
       "      <td>...</td>\n",
       "      <td>...</td>\n",
       "      <td>...</td>\n",
       "      <td>...</td>\n",
       "      <td>...</td>\n",
       "      <td>...</td>\n",
       "      <td>...</td>\n",
       "      <td>...</td>\n",
       "      <td>...</td>\n",
       "      <td>...</td>\n",
       "      <td>...</td>\n",
       "      <td>...</td>\n",
       "      <td>...</td>\n",
       "      <td>...</td>\n",
       "      <td>...</td>\n",
       "    </tr>\n",
       "    <tr>\n",
       "      <th>112629</th>\n",
       "      <td>7SAYGDEF2N</td>\n",
       "      <td>King</td>\n",
       "      <td>Duvall</td>\n",
       "      <td>WA</td>\n",
       "      <td>98019</td>\n",
       "      <td>2022</td>\n",
       "      <td>TESLA</td>\n",
       "      <td>MODEL Y</td>\n",
       "      <td>Battery Electric Vehicle (BEV)</td>\n",
       "      <td>Eligibility unknown as battery range has not b...</td>\n",
       "      <td>0</td>\n",
       "      <td>0</td>\n",
       "      <td>45.0</td>\n",
       "      <td>217955265</td>\n",
       "      <td>POINT (-121.98609 47.74068)</td>\n",
       "      <td>PUGET SOUND ENERGY INC||CITY OF TACOMA - (WA)</td>\n",
       "      <td>53033032401</td>\n",
       "    </tr>\n",
       "    <tr>\n",
       "      <th>112630</th>\n",
       "      <td>1N4BZ1CP7K</td>\n",
       "      <td>San Juan</td>\n",
       "      <td>Friday Harbor</td>\n",
       "      <td>WA</td>\n",
       "      <td>98250</td>\n",
       "      <td>2019</td>\n",
       "      <td>NISSAN</td>\n",
       "      <td>LEAF</td>\n",
       "      <td>Battery Electric Vehicle (BEV)</td>\n",
       "      <td>Clean Alternative Fuel Vehicle Eligible</td>\n",
       "      <td>150</td>\n",
       "      <td>0</td>\n",
       "      <td>40.0</td>\n",
       "      <td>103663227</td>\n",
       "      <td>POINT (-123.01648 48.53448)</td>\n",
       "      <td>BONNEVILLE POWER ADMINISTRATION||ORCAS POWER &amp;...</td>\n",
       "      <td>53055960301</td>\n",
       "    </tr>\n",
       "    <tr>\n",
       "      <th>112631</th>\n",
       "      <td>1FMCU0KZ4N</td>\n",
       "      <td>King</td>\n",
       "      <td>Vashon</td>\n",
       "      <td>WA</td>\n",
       "      <td>98070</td>\n",
       "      <td>2022</td>\n",
       "      <td>FORD</td>\n",
       "      <td>ESCAPE</td>\n",
       "      <td>Plug-in Hybrid Electric Vehicle (PHEV)</td>\n",
       "      <td>Clean Alternative Fuel Vehicle Eligible</td>\n",
       "      <td>38</td>\n",
       "      <td>0</td>\n",
       "      <td>34.0</td>\n",
       "      <td>193878387</td>\n",
       "      <td>POINT (-122.4573 47.44929)</td>\n",
       "      <td>PUGET SOUND ENERGY INC||CITY OF TACOMA - (WA)</td>\n",
       "      <td>53033027702</td>\n",
       "    </tr>\n",
       "    <tr>\n",
       "      <th>112632</th>\n",
       "      <td>KNDCD3LD4J</td>\n",
       "      <td>King</td>\n",
       "      <td>Covington</td>\n",
       "      <td>WA</td>\n",
       "      <td>98042</td>\n",
       "      <td>2018</td>\n",
       "      <td>KIA</td>\n",
       "      <td>NIRO</td>\n",
       "      <td>Plug-in Hybrid Electric Vehicle (PHEV)</td>\n",
       "      <td>Not eligible due to low battery range</td>\n",
       "      <td>26</td>\n",
       "      <td>0</td>\n",
       "      <td>47.0</td>\n",
       "      <td>125039043</td>\n",
       "      <td>POINT (-122.09124 47.33778)</td>\n",
       "      <td>PUGET SOUND ENERGY INC||CITY OF TACOMA - (WA)</td>\n",
       "      <td>53033032007</td>\n",
       "    </tr>\n",
       "    <tr>\n",
       "      <th>112633</th>\n",
       "      <td>YV4BR0CL8N</td>\n",
       "      <td>King</td>\n",
       "      <td>Covington</td>\n",
       "      <td>WA</td>\n",
       "      <td>98042</td>\n",
       "      <td>2022</td>\n",
       "      <td>VOLVO</td>\n",
       "      <td>XC90</td>\n",
       "      <td>Plug-in Hybrid Electric Vehicle (PHEV)</td>\n",
       "      <td>Not eligible due to low battery range</td>\n",
       "      <td>18</td>\n",
       "      <td>0</td>\n",
       "      <td>47.0</td>\n",
       "      <td>194673692</td>\n",
       "      <td>POINT (-122.09124 47.33778)</td>\n",
       "      <td>PUGET SOUND ENERGY INC||CITY OF TACOMA - (WA)</td>\n",
       "      <td>53033032005</td>\n",
       "    </tr>\n",
       "  </tbody>\n",
       "</table>\n",
       "<p>112634 rows × 17 columns</p>\n",
       "</div>"
      ],
      "text/plain": [
       "        VIN (1-10)     County           City State  Postal Code  Model Year  \\\n",
       "0       JTMEB3FV6N     Monroe       Key West    FL        33040        2022   \n",
       "1       1G1RD6E45D      Clark       Laughlin    NV        89029        2013   \n",
       "2       JN1AZ0CP8B     Yakima         Yakima    WA        98901        2011   \n",
       "3       1G1FW6S08H     Skagit       Concrete    WA        98237        2017   \n",
       "4       3FA6P0SU1K  Snohomish        Everett    WA        98201        2019   \n",
       "...            ...        ...            ...   ...          ...         ...   \n",
       "112629  7SAYGDEF2N       King         Duvall    WA        98019        2022   \n",
       "112630  1N4BZ1CP7K   San Juan  Friday Harbor    WA        98250        2019   \n",
       "112631  1FMCU0KZ4N       King         Vashon    WA        98070        2022   \n",
       "112632  KNDCD3LD4J       King      Covington    WA        98042        2018   \n",
       "112633  YV4BR0CL8N       King      Covington    WA        98042        2022   \n",
       "\n",
       "             Make       Model                   Electric Vehicle Type  \\\n",
       "0          TOYOTA  RAV4 PRIME  Plug-in Hybrid Electric Vehicle (PHEV)   \n",
       "1       CHEVROLET        VOLT  Plug-in Hybrid Electric Vehicle (PHEV)   \n",
       "2          NISSAN        LEAF          Battery Electric Vehicle (BEV)   \n",
       "3       CHEVROLET     BOLT EV          Battery Electric Vehicle (BEV)   \n",
       "4            FORD      FUSION  Plug-in Hybrid Electric Vehicle (PHEV)   \n",
       "...           ...         ...                                     ...   \n",
       "112629      TESLA     MODEL Y          Battery Electric Vehicle (BEV)   \n",
       "112630     NISSAN        LEAF          Battery Electric Vehicle (BEV)   \n",
       "112631       FORD      ESCAPE  Plug-in Hybrid Electric Vehicle (PHEV)   \n",
       "112632        KIA        NIRO  Plug-in Hybrid Electric Vehicle (PHEV)   \n",
       "112633      VOLVO        XC90  Plug-in Hybrid Electric Vehicle (PHEV)   \n",
       "\n",
       "        Clean Alternative Fuel Vehicle (CAFV) Eligibility  Electric Range  \\\n",
       "0                 Clean Alternative Fuel Vehicle Eligible              42   \n",
       "1                 Clean Alternative Fuel Vehicle Eligible              38   \n",
       "2                 Clean Alternative Fuel Vehicle Eligible              73   \n",
       "3                 Clean Alternative Fuel Vehicle Eligible             238   \n",
       "4                   Not eligible due to low battery range              26   \n",
       "...                                                   ...             ...   \n",
       "112629  Eligibility unknown as battery range has not b...               0   \n",
       "112630            Clean Alternative Fuel Vehicle Eligible             150   \n",
       "112631            Clean Alternative Fuel Vehicle Eligible              38   \n",
       "112632              Not eligible due to low battery range              26   \n",
       "112633              Not eligible due to low battery range              18   \n",
       "\n",
       "        Base MSRP  Legislative District  DOL Vehicle ID  \\\n",
       "0               0                   NaN       198968248   \n",
       "1               0                   NaN         5204412   \n",
       "2               0                  15.0       218972519   \n",
       "3               0                  39.0       186750406   \n",
       "4               0                  38.0         2006714   \n",
       "...           ...                   ...             ...   \n",
       "112629          0                  45.0       217955265   \n",
       "112630          0                  40.0       103663227   \n",
       "112631          0                  34.0       193878387   \n",
       "112632          0                  47.0       125039043   \n",
       "112633          0                  47.0       194673692   \n",
       "\n",
       "                   Vehicle Location  \\\n",
       "0         POINT (-81.80023 24.5545)   \n",
       "1       POINT (-114.57245 35.16815)   \n",
       "2       POINT (-120.50721 46.60448)   \n",
       "3        POINT (-121.7515 48.53892)   \n",
       "4       POINT (-122.20596 47.97659)   \n",
       "...                             ...   \n",
       "112629  POINT (-121.98609 47.74068)   \n",
       "112630  POINT (-123.01648 48.53448)   \n",
       "112631   POINT (-122.4573 47.44929)   \n",
       "112632  POINT (-122.09124 47.33778)   \n",
       "112633  POINT (-122.09124 47.33778)   \n",
       "\n",
       "                                         Electric Utility  2020 Census Tract  \n",
       "0                                                     NaN        12087972100  \n",
       "1                                                     NaN        32003005702  \n",
       "2                                              PACIFICORP        53077001602  \n",
       "3                                  PUGET SOUND ENERGY INC        53057951101  \n",
       "4                                  PUGET SOUND ENERGY INC        53061041500  \n",
       "...                                                   ...                ...  \n",
       "112629      PUGET SOUND ENERGY INC||CITY OF TACOMA - (WA)        53033032401  \n",
       "112630  BONNEVILLE POWER ADMINISTRATION||ORCAS POWER &...        53055960301  \n",
       "112631      PUGET SOUND ENERGY INC||CITY OF TACOMA - (WA)        53033027702  \n",
       "112632      PUGET SOUND ENERGY INC||CITY OF TACOMA - (WA)        53033032007  \n",
       "112633      PUGET SOUND ENERGY INC||CITY OF TACOMA - (WA)        53033032005  \n",
       "\n",
       "[112634 rows x 17 columns]"
      ]
     },
     "execution_count": 99,
     "metadata": {},
     "output_type": "execute_result"
    }
   ],
   "source": [
    "df"
   ]
  },
  {
   "cell_type": "code",
   "execution_count": 100,
   "id": "07987610-0106-4cc2-a9f7-6824c8cc4e4d",
   "metadata": {},
   "outputs": [],
   "source": [
    "#Data cleaning"
   ]
  },
  {
   "cell_type": "code",
   "execution_count": 101,
   "id": "e943e911-b0dd-4763-97e2-1b0d14138d74",
   "metadata": {},
   "outputs": [
    {
     "data": {
      "text/html": [
       "<div>\n",
       "<style scoped>\n",
       "    .dataframe tbody tr th:only-of-type {\n",
       "        vertical-align: middle;\n",
       "    }\n",
       "\n",
       "    .dataframe tbody tr th {\n",
       "        vertical-align: top;\n",
       "    }\n",
       "\n",
       "    .dataframe thead th {\n",
       "        text-align: right;\n",
       "    }\n",
       "</style>\n",
       "<table border=\"1\" class=\"dataframe\">\n",
       "  <thead>\n",
       "    <tr style=\"text-align: right;\">\n",
       "      <th></th>\n",
       "      <th>VIN (1-10)</th>\n",
       "      <th>County</th>\n",
       "      <th>City</th>\n",
       "      <th>State</th>\n",
       "      <th>Postal Code</th>\n",
       "      <th>Model Year</th>\n",
       "      <th>Make</th>\n",
       "      <th>Model</th>\n",
       "      <th>Electric Vehicle Type</th>\n",
       "      <th>Clean Alternative Fuel Vehicle (CAFV) Eligibility</th>\n",
       "      <th>Electric Range</th>\n",
       "      <th>Base MSRP</th>\n",
       "      <th>Legislative District</th>\n",
       "      <th>DOL Vehicle ID</th>\n",
       "      <th>Vehicle Location</th>\n",
       "      <th>Electric Utility</th>\n",
       "      <th>2020 Census Tract</th>\n",
       "    </tr>\n",
       "  </thead>\n",
       "  <tbody>\n",
       "    <tr>\n",
       "      <th>0</th>\n",
       "      <td>JTMEB3FV6N</td>\n",
       "      <td>Monroe</td>\n",
       "      <td>Key West</td>\n",
       "      <td>FL</td>\n",
       "      <td>33040</td>\n",
       "      <td>2022</td>\n",
       "      <td>TOYOTA</td>\n",
       "      <td>RAV4 PRIME</td>\n",
       "      <td>Plug-in Hybrid Electric Vehicle (PHEV)</td>\n",
       "      <td>Clean Alternative Fuel Vehicle Eligible</td>\n",
       "      <td>42</td>\n",
       "      <td>0</td>\n",
       "      <td>NaN</td>\n",
       "      <td>198968248</td>\n",
       "      <td>POINT (-81.80023 24.5545)</td>\n",
       "      <td>NaN</td>\n",
       "      <td>12087972100</td>\n",
       "    </tr>\n",
       "    <tr>\n",
       "      <th>1</th>\n",
       "      <td>1G1RD6E45D</td>\n",
       "      <td>Clark</td>\n",
       "      <td>Laughlin</td>\n",
       "      <td>NV</td>\n",
       "      <td>89029</td>\n",
       "      <td>2013</td>\n",
       "      <td>CHEVROLET</td>\n",
       "      <td>VOLT</td>\n",
       "      <td>Plug-in Hybrid Electric Vehicle (PHEV)</td>\n",
       "      <td>Clean Alternative Fuel Vehicle Eligible</td>\n",
       "      <td>38</td>\n",
       "      <td>0</td>\n",
       "      <td>NaN</td>\n",
       "      <td>5204412</td>\n",
       "      <td>POINT (-114.57245 35.16815)</td>\n",
       "      <td>NaN</td>\n",
       "      <td>32003005702</td>\n",
       "    </tr>\n",
       "    <tr>\n",
       "      <th>2</th>\n",
       "      <td>JN1AZ0CP8B</td>\n",
       "      <td>Yakima</td>\n",
       "      <td>Yakima</td>\n",
       "      <td>WA</td>\n",
       "      <td>98901</td>\n",
       "      <td>2011</td>\n",
       "      <td>NISSAN</td>\n",
       "      <td>LEAF</td>\n",
       "      <td>Battery Electric Vehicle (BEV)</td>\n",
       "      <td>Clean Alternative Fuel Vehicle Eligible</td>\n",
       "      <td>73</td>\n",
       "      <td>0</td>\n",
       "      <td>15.0</td>\n",
       "      <td>218972519</td>\n",
       "      <td>POINT (-120.50721 46.60448)</td>\n",
       "      <td>PACIFICORP</td>\n",
       "      <td>53077001602</td>\n",
       "    </tr>\n",
       "    <tr>\n",
       "      <th>3</th>\n",
       "      <td>1G1FW6S08H</td>\n",
       "      <td>Skagit</td>\n",
       "      <td>Concrete</td>\n",
       "      <td>WA</td>\n",
       "      <td>98237</td>\n",
       "      <td>2017</td>\n",
       "      <td>CHEVROLET</td>\n",
       "      <td>BOLT EV</td>\n",
       "      <td>Battery Electric Vehicle (BEV)</td>\n",
       "      <td>Clean Alternative Fuel Vehicle Eligible</td>\n",
       "      <td>238</td>\n",
       "      <td>0</td>\n",
       "      <td>39.0</td>\n",
       "      <td>186750406</td>\n",
       "      <td>POINT (-121.7515 48.53892)</td>\n",
       "      <td>PUGET SOUND ENERGY INC</td>\n",
       "      <td>53057951101</td>\n",
       "    </tr>\n",
       "    <tr>\n",
       "      <th>4</th>\n",
       "      <td>3FA6P0SU1K</td>\n",
       "      <td>Snohomish</td>\n",
       "      <td>Everett</td>\n",
       "      <td>WA</td>\n",
       "      <td>98201</td>\n",
       "      <td>2019</td>\n",
       "      <td>FORD</td>\n",
       "      <td>FUSION</td>\n",
       "      <td>Plug-in Hybrid Electric Vehicle (PHEV)</td>\n",
       "      <td>Not eligible due to low battery range</td>\n",
       "      <td>26</td>\n",
       "      <td>0</td>\n",
       "      <td>38.0</td>\n",
       "      <td>2006714</td>\n",
       "      <td>POINT (-122.20596 47.97659)</td>\n",
       "      <td>PUGET SOUND ENERGY INC</td>\n",
       "      <td>53061041500</td>\n",
       "    </tr>\n",
       "  </tbody>\n",
       "</table>\n",
       "</div>"
      ],
      "text/plain": [
       "   VIN (1-10)     County      City State  Postal Code  Model Year       Make  \\\n",
       "0  JTMEB3FV6N     Monroe  Key West    FL        33040        2022     TOYOTA   \n",
       "1  1G1RD6E45D      Clark  Laughlin    NV        89029        2013  CHEVROLET   \n",
       "2  JN1AZ0CP8B     Yakima    Yakima    WA        98901        2011     NISSAN   \n",
       "3  1G1FW6S08H     Skagit  Concrete    WA        98237        2017  CHEVROLET   \n",
       "4  3FA6P0SU1K  Snohomish   Everett    WA        98201        2019       FORD   \n",
       "\n",
       "        Model                   Electric Vehicle Type  \\\n",
       "0  RAV4 PRIME  Plug-in Hybrid Electric Vehicle (PHEV)   \n",
       "1        VOLT  Plug-in Hybrid Electric Vehicle (PHEV)   \n",
       "2        LEAF          Battery Electric Vehicle (BEV)   \n",
       "3     BOLT EV          Battery Electric Vehicle (BEV)   \n",
       "4      FUSION  Plug-in Hybrid Electric Vehicle (PHEV)   \n",
       "\n",
       "  Clean Alternative Fuel Vehicle (CAFV) Eligibility  Electric Range  \\\n",
       "0           Clean Alternative Fuel Vehicle Eligible              42   \n",
       "1           Clean Alternative Fuel Vehicle Eligible              38   \n",
       "2           Clean Alternative Fuel Vehicle Eligible              73   \n",
       "3           Clean Alternative Fuel Vehicle Eligible             238   \n",
       "4             Not eligible due to low battery range              26   \n",
       "\n",
       "   Base MSRP  Legislative District  DOL Vehicle ID  \\\n",
       "0          0                   NaN       198968248   \n",
       "1          0                   NaN         5204412   \n",
       "2          0                  15.0       218972519   \n",
       "3          0                  39.0       186750406   \n",
       "4          0                  38.0         2006714   \n",
       "\n",
       "              Vehicle Location        Electric Utility  2020 Census Tract  \n",
       "0    POINT (-81.80023 24.5545)                     NaN        12087972100  \n",
       "1  POINT (-114.57245 35.16815)                     NaN        32003005702  \n",
       "2  POINT (-120.50721 46.60448)              PACIFICORP        53077001602  \n",
       "3   POINT (-121.7515 48.53892)  PUGET SOUND ENERGY INC        53057951101  \n",
       "4  POINT (-122.20596 47.97659)  PUGET SOUND ENERGY INC        53061041500  "
      ]
     },
     "execution_count": 101,
     "metadata": {},
     "output_type": "execute_result"
    }
   ],
   "source": [
    "df.head()"
   ]
  },
  {
   "cell_type": "code",
   "execution_count": 102,
   "id": "8bf89afc-f41e-43b6-9a5a-425ad24bfdb8",
   "metadata": {},
   "outputs": [
    {
     "data": {
      "text/plain": [
       "Index(['VIN (1-10)', 'County', 'City', 'State', 'Postal Code', 'Model Year',\n",
       "       'Make', 'Model', 'Electric Vehicle Type',\n",
       "       'Clean Alternative Fuel Vehicle (CAFV) Eligibility', 'Electric Range',\n",
       "       'Base MSRP', 'Legislative District', 'DOL Vehicle ID',\n",
       "       'Vehicle Location', 'Electric Utility', '2020 Census Tract'],\n",
       "      dtype='object')"
      ]
     },
     "execution_count": 102,
     "metadata": {},
     "output_type": "execute_result"
    }
   ],
   "source": [
    "df.columns"
   ]
  },
  {
   "cell_type": "code",
   "execution_count": 103,
   "id": "37da0922-1be3-40d4-ae63-479c9d5262e0",
   "metadata": {},
   "outputs": [
    {
     "data": {
      "text/plain": [
       "(112634, 17)"
      ]
     },
     "execution_count": 103,
     "metadata": {},
     "output_type": "execute_result"
    }
   ],
   "source": [
    "df.shape"
   ]
  },
  {
   "cell_type": "code",
   "execution_count": 104,
   "id": "b95d8078-9ffd-4848-a9bf-58283b8d3ba7",
   "metadata": {},
   "outputs": [
    {
     "name": "stdout",
     "output_type": "stream",
     "text": [
      "<class 'pandas.core.frame.DataFrame'>\n",
      "RangeIndex: 112634 entries, 0 to 112633\n",
      "Data columns (total 17 columns):\n",
      " #   Column                                             Non-Null Count   Dtype  \n",
      "---  ------                                             --------------   -----  \n",
      " 0   VIN (1-10)                                         112634 non-null  object \n",
      " 1   County                                             112634 non-null  object \n",
      " 2   City                                               112634 non-null  object \n",
      " 3   State                                              112634 non-null  object \n",
      " 4   Postal Code                                        112634 non-null  int64  \n",
      " 5   Model Year                                         112634 non-null  int64  \n",
      " 6   Make                                               112634 non-null  object \n",
      " 7   Model                                              112614 non-null  object \n",
      " 8   Electric Vehicle Type                              112634 non-null  object \n",
      " 9   Clean Alternative Fuel Vehicle (CAFV) Eligibility  112634 non-null  object \n",
      " 10  Electric Range                                     112634 non-null  int64  \n",
      " 11  Base MSRP                                          112634 non-null  int64  \n",
      " 12  Legislative District                               112348 non-null  float64\n",
      " 13  DOL Vehicle ID                                     112634 non-null  int64  \n",
      " 14  Vehicle Location                                   112610 non-null  object \n",
      " 15  Electric Utility                                   112191 non-null  object \n",
      " 16  2020 Census Tract                                  112634 non-null  int64  \n",
      "dtypes: float64(1), int64(6), object(10)\n",
      "memory usage: 14.6+ MB\n"
     ]
    }
   ],
   "source": [
    "df.info()"
   ]
  },
  {
   "cell_type": "code",
   "execution_count": 105,
   "id": "192fb0fe-0234-4379-b42f-000524ca9ee0",
   "metadata": {},
   "outputs": [
    {
     "data": {
      "text/plain": [
       "VIN (1-10)                                             0\n",
       "County                                                 0\n",
       "City                                                   0\n",
       "State                                                  0\n",
       "Postal Code                                            0\n",
       "Model Year                                             0\n",
       "Make                                                   0\n",
       "Model                                                 20\n",
       "Electric Vehicle Type                                  0\n",
       "Clean Alternative Fuel Vehicle (CAFV) Eligibility      0\n",
       "Electric Range                                         0\n",
       "Base MSRP                                              0\n",
       "Legislative District                                 286\n",
       "DOL Vehicle ID                                         0\n",
       "Vehicle Location                                      24\n",
       "Electric Utility                                     443\n",
       "2020 Census Tract                                      0\n",
       "dtype: int64"
      ]
     },
     "execution_count": 105,
     "metadata": {},
     "output_type": "execute_result"
    }
   ],
   "source": [
    "df.isna().sum()"
   ]
  },
  {
   "cell_type": "code",
   "execution_count": 106,
   "id": "617beace-3712-45d4-ae72-773a3f42791f",
   "metadata": {},
   "outputs": [],
   "source": [
    "#Percentages of missing values"
   ]
  },
  {
   "cell_type": "code",
   "execution_count": 107,
   "id": "41754234-1fa2-4965-92cd-514e08c17036",
   "metadata": {},
   "outputs": [
    {
     "data": {
      "text/plain": [
       "VIN (1-10)                                           0.000000\n",
       "County                                               0.000000\n",
       "City                                                 0.000000\n",
       "State                                                0.000000\n",
       "Postal Code                                          0.000000\n",
       "Model Year                                           0.000000\n",
       "Make                                                 0.000000\n",
       "Model                                                0.017757\n",
       "Electric Vehicle Type                                0.000000\n",
       "Clean Alternative Fuel Vehicle (CAFV) Eligibility    0.000000\n",
       "Electric Range                                       0.000000\n",
       "Base MSRP                                            0.000000\n",
       "Legislative District                                 0.253920\n",
       "DOL Vehicle ID                                       0.000000\n",
       "Vehicle Location                                     0.021308\n",
       "Electric Utility                                     0.393309\n",
       "2020 Census Tract                                    0.000000\n",
       "dtype: float64"
      ]
     },
     "execution_count": 107,
     "metadata": {},
     "output_type": "execute_result"
    }
   ],
   "source": [
    "df.isna().sum()/len(df)*100"
   ]
  },
  {
   "cell_type": "code",
   "execution_count": 108,
   "id": "99b6c752-65cb-4a41-bcd3-679177f3773c",
   "metadata": {},
   "outputs": [],
   "source": [
    "#finding unique values in each categorical column"
   ]
  },
  {
   "cell_type": "code",
   "execution_count": 109,
   "id": "1ae6ebac-6f38-4ed4-8b75-c874e9dc388a",
   "metadata": {},
   "outputs": [
    {
     "name": "stdout",
     "output_type": "stream",
     "text": [
      "VIN (1-10) the no of unique values are:7548\n",
      "County the no of unique values are:165\n",
      "City the no of unique values are:629\n",
      "State the no of unique values are:45\n",
      "Make the no of unique values are:34\n",
      "Model the no of unique values are:114\n",
      "Electric Vehicle Type the no of unique values are:2\n",
      "Clean Alternative Fuel Vehicle (CAFV) Eligibility the no of unique values are:3\n",
      "Vehicle Location the no of unique values are:758\n",
      "Electric Utility the no of unique values are:73\n"
     ]
    }
   ],
   "source": [
    "for i in df.columns:\n",
    "    if df[i].dtypes=='object':\n",
    "        print(f\"{i} the no of unique values are:{df[i].nunique()}\")"
   ]
  },
  {
   "cell_type": "code",
   "execution_count": 110,
   "id": "3ee5ab04-9335-4392-9183-694039658bb7",
   "metadata": {},
   "outputs": [],
   "source": [
    "#renaming column"
   ]
  },
  {
   "cell_type": "code",
   "execution_count": 111,
   "id": "9b56805d-2144-4d85-9a54-71cc535b1b16",
   "metadata": {},
   "outputs": [],
   "source": [
    "df.rename(columns={'Make': 'Maker'}, inplace=True)\n"
   ]
  },
  {
   "cell_type": "code",
   "execution_count": 112,
   "id": "e0072547-3917-4971-b77c-1c97d0754360",
   "metadata": {},
   "outputs": [
    {
     "data": {
      "text/plain": [
       "King          59000\n",
       "Snohomish     12434\n",
       "Pierce         8535\n",
       "Clark          6689\n",
       "Thurston       4126\n",
       "              ...  \n",
       "Pinal             1\n",
       "Elmore            1\n",
       "Portsmouth        1\n",
       "Kings             1\n",
       "Kootenai          1\n",
       "Name: County, Length: 165, dtype: int64"
      ]
     },
     "execution_count": 112,
     "metadata": {},
     "output_type": "execute_result"
    }
   ],
   "source": [
    "df['County'].value_counts()"
   ]
  },
  {
   "cell_type": "code",
   "execution_count": 113,
   "id": "87007d5d-5b53-4b2f-9f6e-ef516fdd79c7",
   "metadata": {},
   "outputs": [
    {
     "data": {
      "text/plain": [
       "WA    112348\n",
       "CA        76\n",
       "VA        36\n",
       "MD        26\n",
       "TX        14\n",
       "CO         9\n",
       "NV         8\n",
       "GA         7\n",
       "NC         7\n",
       "CT         6\n",
       "DC         6\n",
       "FL         6\n",
       "AZ         6\n",
       "IL         6\n",
       "SC         5\n",
       "OR         5\n",
       "NE         5\n",
       "HI         4\n",
       "UT         4\n",
       "AR         4\n",
       "NY         4\n",
       "TN         3\n",
       "KS         3\n",
       "MO         3\n",
       "PA         3\n",
       "MA         3\n",
       "LA         3\n",
       "NJ         3\n",
       "NH         2\n",
       "OH         2\n",
       "WY         2\n",
       "ID         2\n",
       "KY         1\n",
       "RI         1\n",
       "ME         1\n",
       "MN         1\n",
       "SD         1\n",
       "WI         1\n",
       "NM         1\n",
       "AK         1\n",
       "MS         1\n",
       "AL         1\n",
       "DE         1\n",
       "OK         1\n",
       "ND         1\n",
       "Name: State, dtype: int64"
      ]
     },
     "execution_count": 113,
     "metadata": {},
     "output_type": "execute_result"
    }
   ],
   "source": [
    "df['State'].value_counts()"
   ]
  },
  {
   "cell_type": "code",
   "execution_count": 114,
   "id": "2e77750a-9a5e-440e-a5d6-84921c2a5353",
   "metadata": {},
   "outputs": [
    {
     "data": {
      "text/plain": [
       "2022    26530\n",
       "2021    18364\n",
       "2018    14246\n",
       "2020    11038\n",
       "2019    10266\n",
       "2017     8644\n",
       "2016     5735\n",
       "2015     4940\n",
       "2013     4691\n",
       "2014     3685\n",
       "2023     1886\n",
       "2012     1705\n",
       "2011      840\n",
       "2010       24\n",
       "2008       23\n",
       "2000       10\n",
       "1999        3\n",
       "2002        2\n",
       "1997        1\n",
       "1998        1\n",
       "Name: Model Year, dtype: int64"
      ]
     },
     "execution_count": 114,
     "metadata": {},
     "output_type": "execute_result"
    }
   ],
   "source": [
    "df['Model Year'].value_counts()"
   ]
  },
  {
   "cell_type": "code",
   "execution_count": 115,
   "id": "5ffdbf34-6902-4c79-ba2c-3de1b8867a5d",
   "metadata": {},
   "outputs": [
    {
     "data": {
      "text/plain": [
       "WA    99.746080\n",
       "CA     0.067475\n",
       "VA     0.031962\n",
       "MD     0.023084\n",
       "TX     0.012430\n",
       "CO     0.007990\n",
       "NV     0.007103\n",
       "GA     0.006215\n",
       "NC     0.006215\n",
       "CT     0.005327\n",
       "DC     0.005327\n",
       "FL     0.005327\n",
       "AZ     0.005327\n",
       "IL     0.005327\n",
       "SC     0.004439\n",
       "OR     0.004439\n",
       "NE     0.004439\n",
       "HI     0.003551\n",
       "UT     0.003551\n",
       "AR     0.003551\n",
       "NY     0.003551\n",
       "TN     0.002663\n",
       "KS     0.002663\n",
       "MO     0.002663\n",
       "PA     0.002663\n",
       "MA     0.002663\n",
       "LA     0.002663\n",
       "NJ     0.002663\n",
       "NH     0.001776\n",
       "OH     0.001776\n",
       "WY     0.001776\n",
       "ID     0.001776\n",
       "KY     0.000888\n",
       "RI     0.000888\n",
       "ME     0.000888\n",
       "MN     0.000888\n",
       "SD     0.000888\n",
       "WI     0.000888\n",
       "NM     0.000888\n",
       "AK     0.000888\n",
       "MS     0.000888\n",
       "AL     0.000888\n",
       "DE     0.000888\n",
       "OK     0.000888\n",
       "ND     0.000888\n",
       "Name: State, dtype: float64"
      ]
     },
     "execution_count": 115,
     "metadata": {},
     "output_type": "execute_result"
    }
   ],
   "source": [
    "df['State'].value_counts()/len(df)*100"
   ]
  },
  {
   "cell_type": "code",
   "execution_count": 116,
   "id": "a94ebea3-6948-4a02-bf11-8773c5a93126",
   "metadata": {},
   "outputs": [],
   "source": [
    "# we can clearly see that the data 99.7 observationbs from only washington state itself so we create a dataset for washington and perform analysis"
   ]
  },
  {
   "cell_type": "code",
   "execution_count": 117,
   "id": "a9ce33db-0001-4aae-8efb-2394c75ef8f1",
   "metadata": {},
   "outputs": [],
   "source": [
    "df_wa=df[df['State']=='WA']"
   ]
  },
  {
   "cell_type": "code",
   "execution_count": 118,
   "id": "051a1a7e-ea4d-487f-9b98-2378548af651",
   "metadata": {},
   "outputs": [
    {
     "data": {
      "text/html": [
       "<div>\n",
       "<style scoped>\n",
       "    .dataframe tbody tr th:only-of-type {\n",
       "        vertical-align: middle;\n",
       "    }\n",
       "\n",
       "    .dataframe tbody tr th {\n",
       "        vertical-align: top;\n",
       "    }\n",
       "\n",
       "    .dataframe thead th {\n",
       "        text-align: right;\n",
       "    }\n",
       "</style>\n",
       "<table border=\"1\" class=\"dataframe\">\n",
       "  <thead>\n",
       "    <tr style=\"text-align: right;\">\n",
       "      <th></th>\n",
       "      <th>VIN (1-10)</th>\n",
       "      <th>County</th>\n",
       "      <th>City</th>\n",
       "      <th>State</th>\n",
       "      <th>Postal Code</th>\n",
       "      <th>Model Year</th>\n",
       "      <th>Maker</th>\n",
       "      <th>Model</th>\n",
       "      <th>Electric Vehicle Type</th>\n",
       "      <th>Clean Alternative Fuel Vehicle (CAFV) Eligibility</th>\n",
       "      <th>Electric Range</th>\n",
       "      <th>Base MSRP</th>\n",
       "      <th>Legislative District</th>\n",
       "      <th>DOL Vehicle ID</th>\n",
       "      <th>Vehicle Location</th>\n",
       "      <th>Electric Utility</th>\n",
       "      <th>2020 Census Tract</th>\n",
       "    </tr>\n",
       "  </thead>\n",
       "  <tbody>\n",
       "    <tr>\n",
       "      <th>2</th>\n",
       "      <td>JN1AZ0CP8B</td>\n",
       "      <td>Yakima</td>\n",
       "      <td>Yakima</td>\n",
       "      <td>WA</td>\n",
       "      <td>98901</td>\n",
       "      <td>2011</td>\n",
       "      <td>NISSAN</td>\n",
       "      <td>LEAF</td>\n",
       "      <td>Battery Electric Vehicle (BEV)</td>\n",
       "      <td>Clean Alternative Fuel Vehicle Eligible</td>\n",
       "      <td>73</td>\n",
       "      <td>0</td>\n",
       "      <td>15.0</td>\n",
       "      <td>218972519</td>\n",
       "      <td>POINT (-120.50721 46.60448)</td>\n",
       "      <td>PACIFICORP</td>\n",
       "      <td>53077001602</td>\n",
       "    </tr>\n",
       "    <tr>\n",
       "      <th>3</th>\n",
       "      <td>1G1FW6S08H</td>\n",
       "      <td>Skagit</td>\n",
       "      <td>Concrete</td>\n",
       "      <td>WA</td>\n",
       "      <td>98237</td>\n",
       "      <td>2017</td>\n",
       "      <td>CHEVROLET</td>\n",
       "      <td>BOLT EV</td>\n",
       "      <td>Battery Electric Vehicle (BEV)</td>\n",
       "      <td>Clean Alternative Fuel Vehicle Eligible</td>\n",
       "      <td>238</td>\n",
       "      <td>0</td>\n",
       "      <td>39.0</td>\n",
       "      <td>186750406</td>\n",
       "      <td>POINT (-121.7515 48.53892)</td>\n",
       "      <td>PUGET SOUND ENERGY INC</td>\n",
       "      <td>53057951101</td>\n",
       "    </tr>\n",
       "    <tr>\n",
       "      <th>4</th>\n",
       "      <td>3FA6P0SU1K</td>\n",
       "      <td>Snohomish</td>\n",
       "      <td>Everett</td>\n",
       "      <td>WA</td>\n",
       "      <td>98201</td>\n",
       "      <td>2019</td>\n",
       "      <td>FORD</td>\n",
       "      <td>FUSION</td>\n",
       "      <td>Plug-in Hybrid Electric Vehicle (PHEV)</td>\n",
       "      <td>Not eligible due to low battery range</td>\n",
       "      <td>26</td>\n",
       "      <td>0</td>\n",
       "      <td>38.0</td>\n",
       "      <td>2006714</td>\n",
       "      <td>POINT (-122.20596 47.97659)</td>\n",
       "      <td>PUGET SOUND ENERGY INC</td>\n",
       "      <td>53061041500</td>\n",
       "    </tr>\n",
       "    <tr>\n",
       "      <th>5</th>\n",
       "      <td>5YJ3E1EB5J</td>\n",
       "      <td>Snohomish</td>\n",
       "      <td>Bothell</td>\n",
       "      <td>WA</td>\n",
       "      <td>98021</td>\n",
       "      <td>2018</td>\n",
       "      <td>TESLA</td>\n",
       "      <td>MODEL 3</td>\n",
       "      <td>Battery Electric Vehicle (BEV)</td>\n",
       "      <td>Clean Alternative Fuel Vehicle Eligible</td>\n",
       "      <td>215</td>\n",
       "      <td>0</td>\n",
       "      <td>1.0</td>\n",
       "      <td>475635324</td>\n",
       "      <td>POINT (-122.18384 47.8031)</td>\n",
       "      <td>PUGET SOUND ENERGY INC</td>\n",
       "      <td>53061051916</td>\n",
       "    </tr>\n",
       "    <tr>\n",
       "      <th>6</th>\n",
       "      <td>1N4AZ0CP4D</td>\n",
       "      <td>Snohomish</td>\n",
       "      <td>Everett</td>\n",
       "      <td>WA</td>\n",
       "      <td>98203</td>\n",
       "      <td>2013</td>\n",
       "      <td>NISSAN</td>\n",
       "      <td>LEAF</td>\n",
       "      <td>Battery Electric Vehicle (BEV)</td>\n",
       "      <td>Clean Alternative Fuel Vehicle Eligible</td>\n",
       "      <td>75</td>\n",
       "      <td>0</td>\n",
       "      <td>38.0</td>\n",
       "      <td>253546023</td>\n",
       "      <td>POINT (-122.23019 47.94949)</td>\n",
       "      <td>PUGET SOUND ENERGY INC</td>\n",
       "      <td>53061040900</td>\n",
       "    </tr>\n",
       "    <tr>\n",
       "      <th>...</th>\n",
       "      <td>...</td>\n",
       "      <td>...</td>\n",
       "      <td>...</td>\n",
       "      <td>...</td>\n",
       "      <td>...</td>\n",
       "      <td>...</td>\n",
       "      <td>...</td>\n",
       "      <td>...</td>\n",
       "      <td>...</td>\n",
       "      <td>...</td>\n",
       "      <td>...</td>\n",
       "      <td>...</td>\n",
       "      <td>...</td>\n",
       "      <td>...</td>\n",
       "      <td>...</td>\n",
       "      <td>...</td>\n",
       "      <td>...</td>\n",
       "    </tr>\n",
       "    <tr>\n",
       "      <th>112629</th>\n",
       "      <td>7SAYGDEF2N</td>\n",
       "      <td>King</td>\n",
       "      <td>Duvall</td>\n",
       "      <td>WA</td>\n",
       "      <td>98019</td>\n",
       "      <td>2022</td>\n",
       "      <td>TESLA</td>\n",
       "      <td>MODEL Y</td>\n",
       "      <td>Battery Electric Vehicle (BEV)</td>\n",
       "      <td>Eligibility unknown as battery range has not b...</td>\n",
       "      <td>0</td>\n",
       "      <td>0</td>\n",
       "      <td>45.0</td>\n",
       "      <td>217955265</td>\n",
       "      <td>POINT (-121.98609 47.74068)</td>\n",
       "      <td>PUGET SOUND ENERGY INC||CITY OF TACOMA - (WA)</td>\n",
       "      <td>53033032401</td>\n",
       "    </tr>\n",
       "    <tr>\n",
       "      <th>112630</th>\n",
       "      <td>1N4BZ1CP7K</td>\n",
       "      <td>San Juan</td>\n",
       "      <td>Friday Harbor</td>\n",
       "      <td>WA</td>\n",
       "      <td>98250</td>\n",
       "      <td>2019</td>\n",
       "      <td>NISSAN</td>\n",
       "      <td>LEAF</td>\n",
       "      <td>Battery Electric Vehicle (BEV)</td>\n",
       "      <td>Clean Alternative Fuel Vehicle Eligible</td>\n",
       "      <td>150</td>\n",
       "      <td>0</td>\n",
       "      <td>40.0</td>\n",
       "      <td>103663227</td>\n",
       "      <td>POINT (-123.01648 48.53448)</td>\n",
       "      <td>BONNEVILLE POWER ADMINISTRATION||ORCAS POWER &amp;...</td>\n",
       "      <td>53055960301</td>\n",
       "    </tr>\n",
       "    <tr>\n",
       "      <th>112631</th>\n",
       "      <td>1FMCU0KZ4N</td>\n",
       "      <td>King</td>\n",
       "      <td>Vashon</td>\n",
       "      <td>WA</td>\n",
       "      <td>98070</td>\n",
       "      <td>2022</td>\n",
       "      <td>FORD</td>\n",
       "      <td>ESCAPE</td>\n",
       "      <td>Plug-in Hybrid Electric Vehicle (PHEV)</td>\n",
       "      <td>Clean Alternative Fuel Vehicle Eligible</td>\n",
       "      <td>38</td>\n",
       "      <td>0</td>\n",
       "      <td>34.0</td>\n",
       "      <td>193878387</td>\n",
       "      <td>POINT (-122.4573 47.44929)</td>\n",
       "      <td>PUGET SOUND ENERGY INC||CITY OF TACOMA - (WA)</td>\n",
       "      <td>53033027702</td>\n",
       "    </tr>\n",
       "    <tr>\n",
       "      <th>112632</th>\n",
       "      <td>KNDCD3LD4J</td>\n",
       "      <td>King</td>\n",
       "      <td>Covington</td>\n",
       "      <td>WA</td>\n",
       "      <td>98042</td>\n",
       "      <td>2018</td>\n",
       "      <td>KIA</td>\n",
       "      <td>NIRO</td>\n",
       "      <td>Plug-in Hybrid Electric Vehicle (PHEV)</td>\n",
       "      <td>Not eligible due to low battery range</td>\n",
       "      <td>26</td>\n",
       "      <td>0</td>\n",
       "      <td>47.0</td>\n",
       "      <td>125039043</td>\n",
       "      <td>POINT (-122.09124 47.33778)</td>\n",
       "      <td>PUGET SOUND ENERGY INC||CITY OF TACOMA - (WA)</td>\n",
       "      <td>53033032007</td>\n",
       "    </tr>\n",
       "    <tr>\n",
       "      <th>112633</th>\n",
       "      <td>YV4BR0CL8N</td>\n",
       "      <td>King</td>\n",
       "      <td>Covington</td>\n",
       "      <td>WA</td>\n",
       "      <td>98042</td>\n",
       "      <td>2022</td>\n",
       "      <td>VOLVO</td>\n",
       "      <td>XC90</td>\n",
       "      <td>Plug-in Hybrid Electric Vehicle (PHEV)</td>\n",
       "      <td>Not eligible due to low battery range</td>\n",
       "      <td>18</td>\n",
       "      <td>0</td>\n",
       "      <td>47.0</td>\n",
       "      <td>194673692</td>\n",
       "      <td>POINT (-122.09124 47.33778)</td>\n",
       "      <td>PUGET SOUND ENERGY INC||CITY OF TACOMA - (WA)</td>\n",
       "      <td>53033032005</td>\n",
       "    </tr>\n",
       "  </tbody>\n",
       "</table>\n",
       "<p>112348 rows × 17 columns</p>\n",
       "</div>"
      ],
      "text/plain": [
       "        VIN (1-10)     County           City State  Postal Code  Model Year  \\\n",
       "2       JN1AZ0CP8B     Yakima         Yakima    WA        98901        2011   \n",
       "3       1G1FW6S08H     Skagit       Concrete    WA        98237        2017   \n",
       "4       3FA6P0SU1K  Snohomish        Everett    WA        98201        2019   \n",
       "5       5YJ3E1EB5J  Snohomish        Bothell    WA        98021        2018   \n",
       "6       1N4AZ0CP4D  Snohomish        Everett    WA        98203        2013   \n",
       "...            ...        ...            ...   ...          ...         ...   \n",
       "112629  7SAYGDEF2N       King         Duvall    WA        98019        2022   \n",
       "112630  1N4BZ1CP7K   San Juan  Friday Harbor    WA        98250        2019   \n",
       "112631  1FMCU0KZ4N       King         Vashon    WA        98070        2022   \n",
       "112632  KNDCD3LD4J       King      Covington    WA        98042        2018   \n",
       "112633  YV4BR0CL8N       King      Covington    WA        98042        2022   \n",
       "\n",
       "            Maker    Model                   Electric Vehicle Type  \\\n",
       "2          NISSAN     LEAF          Battery Electric Vehicle (BEV)   \n",
       "3       CHEVROLET  BOLT EV          Battery Electric Vehicle (BEV)   \n",
       "4            FORD   FUSION  Plug-in Hybrid Electric Vehicle (PHEV)   \n",
       "5           TESLA  MODEL 3          Battery Electric Vehicle (BEV)   \n",
       "6          NISSAN     LEAF          Battery Electric Vehicle (BEV)   \n",
       "...           ...      ...                                     ...   \n",
       "112629      TESLA  MODEL Y          Battery Electric Vehicle (BEV)   \n",
       "112630     NISSAN     LEAF          Battery Electric Vehicle (BEV)   \n",
       "112631       FORD   ESCAPE  Plug-in Hybrid Electric Vehicle (PHEV)   \n",
       "112632        KIA     NIRO  Plug-in Hybrid Electric Vehicle (PHEV)   \n",
       "112633      VOLVO     XC90  Plug-in Hybrid Electric Vehicle (PHEV)   \n",
       "\n",
       "        Clean Alternative Fuel Vehicle (CAFV) Eligibility  Electric Range  \\\n",
       "2                 Clean Alternative Fuel Vehicle Eligible              73   \n",
       "3                 Clean Alternative Fuel Vehicle Eligible             238   \n",
       "4                   Not eligible due to low battery range              26   \n",
       "5                 Clean Alternative Fuel Vehicle Eligible             215   \n",
       "6                 Clean Alternative Fuel Vehicle Eligible              75   \n",
       "...                                                   ...             ...   \n",
       "112629  Eligibility unknown as battery range has not b...               0   \n",
       "112630            Clean Alternative Fuel Vehicle Eligible             150   \n",
       "112631            Clean Alternative Fuel Vehicle Eligible              38   \n",
       "112632              Not eligible due to low battery range              26   \n",
       "112633              Not eligible due to low battery range              18   \n",
       "\n",
       "        Base MSRP  Legislative District  DOL Vehicle ID  \\\n",
       "2               0                  15.0       218972519   \n",
       "3               0                  39.0       186750406   \n",
       "4               0                  38.0         2006714   \n",
       "5               0                   1.0       475635324   \n",
       "6               0                  38.0       253546023   \n",
       "...           ...                   ...             ...   \n",
       "112629          0                  45.0       217955265   \n",
       "112630          0                  40.0       103663227   \n",
       "112631          0                  34.0       193878387   \n",
       "112632          0                  47.0       125039043   \n",
       "112633          0                  47.0       194673692   \n",
       "\n",
       "                   Vehicle Location  \\\n",
       "2       POINT (-120.50721 46.60448)   \n",
       "3        POINT (-121.7515 48.53892)   \n",
       "4       POINT (-122.20596 47.97659)   \n",
       "5        POINT (-122.18384 47.8031)   \n",
       "6       POINT (-122.23019 47.94949)   \n",
       "...                             ...   \n",
       "112629  POINT (-121.98609 47.74068)   \n",
       "112630  POINT (-123.01648 48.53448)   \n",
       "112631   POINT (-122.4573 47.44929)   \n",
       "112632  POINT (-122.09124 47.33778)   \n",
       "112633  POINT (-122.09124 47.33778)   \n",
       "\n",
       "                                         Electric Utility  2020 Census Tract  \n",
       "2                                              PACIFICORP        53077001602  \n",
       "3                                  PUGET SOUND ENERGY INC        53057951101  \n",
       "4                                  PUGET SOUND ENERGY INC        53061041500  \n",
       "5                                  PUGET SOUND ENERGY INC        53061051916  \n",
       "6                                  PUGET SOUND ENERGY INC        53061040900  \n",
       "...                                                   ...                ...  \n",
       "112629      PUGET SOUND ENERGY INC||CITY OF TACOMA - (WA)        53033032401  \n",
       "112630  BONNEVILLE POWER ADMINISTRATION||ORCAS POWER &...        53055960301  \n",
       "112631      PUGET SOUND ENERGY INC||CITY OF TACOMA - (WA)        53033027702  \n",
       "112632      PUGET SOUND ENERGY INC||CITY OF TACOMA - (WA)        53033032007  \n",
       "112633      PUGET SOUND ENERGY INC||CITY OF TACOMA - (WA)        53033032005  \n",
       "\n",
       "[112348 rows x 17 columns]"
      ]
     },
     "execution_count": 118,
     "metadata": {},
     "output_type": "execute_result"
    }
   ],
   "source": [
    "df_wa"
   ]
  },
  {
   "cell_type": "code",
   "execution_count": 119,
   "id": "5ec56bc5-5ff9-451a-8cd9-2bbb9e21b417",
   "metadata": {},
   "outputs": [],
   "source": [
    "import matplotlib.pyplot as plt"
   ]
  },
  {
   "cell_type": "code",
   "execution_count": 120,
   "id": "46e05a82-c729-4335-a04b-c9ba6ff80743",
   "metadata": {},
   "outputs": [
    {
     "data": {
      "image/png": "[encoded data removed]",
      "text/plain": [
       "<Figure size 640x480 with 1 Axes>"
      ]
     },
     "metadata": {},
     "output_type": "display_data"
    }
   ],
   "source": [
    "df_wa['County'].value_counts().plot(kind='bar')\n",
    "plt.xlabel('County')\n",
    "plt.ylabel('No of vehicles')\n",
    "plt.show()"
   ]
  },
  {
   "cell_type": "code",
   "execution_count": 121,
   "id": "80013773-1300-40a1-a11b-d00c0a53af76",
   "metadata": {},
   "outputs": [
    {
     "data": {
      "text/plain": [
       "Seattle        20305\n",
       "Bellevue        5920\n",
       "Redmond         4201\n",
       "Vancouver       4013\n",
       "Kirkland        3598\n",
       "               ...  \n",
       "Clallam Bay        1\n",
       "Malott             1\n",
       "Rockport           1\n",
       "Bucoda             1\n",
       "Uniontown          1\n",
       "Name: City, Length: 440, dtype: int64"
      ]
     },
     "execution_count": 121,
     "metadata": {},
     "output_type": "execute_result"
    }
   ],
   "source": [
    "df_wa['City'].value_counts()"
   ]
  },
  {
   "cell_type": "code",
   "execution_count": 122,
   "id": "32b5963f-9bdd-422a-8093-2519d3fb06a0",
   "metadata": {},
   "outputs": [],
   "source": [
    "# here they have given vehicle location using string operations we can extract latitudes and longitudes and use it for plotting later"
   ]
  },
  {
   "cell_type": "code",
   "execution_count": 123,
   "id": "6f4355bc-e29a-4492-a931-3af7d075fccf",
   "metadata": {},
   "outputs": [
    {
     "name": "stderr",
     "output_type": "stream",
     "text": [
      "C:\\Users\\karna\\AppData\\Local\\Temp\\ipykernel_24684\\2971894095.py:1: SettingWithCopyWarning:\n",
      "\n",
      "\n",
      "A value is trying to be set on a copy of a slice from a DataFrame.\n",
      "Try using .loc[row_indexer,col_indexer] = value instead\n",
      "\n",
      "See the caveats in the documentation: https://pandas.pydata.org/pandas-docs/stable/user_guide/indexing.html#returning-a-view-versus-a-copy\n",
      "\n"
     ]
    }
   ],
   "source": [
    "df_wa['Lon'] = df_wa['Vehicle Location'].str.split(' ').str[1].str.split('(').str[1].astype(float)"
   ]
  },
  {
   "cell_type": "code",
   "execution_count": 124,
   "id": "1a5b074d-14ef-48a4-b939-cbe1013529a1",
   "metadata": {},
   "outputs": [
    {
     "name": "stderr",
     "output_type": "stream",
     "text": [
      "C:\\Users\\karna\\AppData\\Local\\Temp\\ipykernel_24684\\4289203784.py:1: SettingWithCopyWarning:\n",
      "\n",
      "\n",
      "A value is trying to be set on a copy of a slice from a DataFrame.\n",
      "Try using .loc[row_indexer,col_indexer] = value instead\n",
      "\n",
      "See the caveats in the documentation: https://pandas.pydata.org/pandas-docs/stable/user_guide/indexing.html#returning-a-view-versus-a-copy\n",
      "\n"
     ]
    }
   ],
   "source": [
    "df_wa['Lat'] = df_wa['Vehicle Location'].str.split(' ').str[2].str.split(')').str[0].astype(float)"
   ]
  },
  {
   "cell_type": "code",
   "execution_count": 125,
   "id": "006a21eb-9228-4c6e-b8a4-78979b9361c3",
   "metadata": {},
   "outputs": [
    {
     "data": {
      "text/html": [
       "<div>\n",
       "<style scoped>\n",
       "    .dataframe tbody tr th:only-of-type {\n",
       "        vertical-align: middle;\n",
       "    }\n",
       "\n",
       "    .dataframe tbody tr th {\n",
       "        vertical-align: top;\n",
       "    }\n",
       "\n",
       "    .dataframe thead th {\n",
       "        text-align: right;\n",
       "    }\n",
       "</style>\n",
       "<table border=\"1\" class=\"dataframe\">\n",
       "  <thead>\n",
       "    <tr style=\"text-align: right;\">\n",
       "      <th></th>\n",
       "      <th>Postal Code</th>\n",
       "      <th>Model Year</th>\n",
       "      <th>Electric Range</th>\n",
       "      <th>Base MSRP</th>\n",
       "      <th>Legislative District</th>\n",
       "      <th>DOL Vehicle ID</th>\n",
       "      <th>2020 Census Tract</th>\n",
       "      <th>Lon</th>\n",
       "      <th>Lat</th>\n",
       "    </tr>\n",
       "  </thead>\n",
       "  <tbody>\n",
       "    <tr>\n",
       "      <th>count</th>\n",
       "      <td>112348.000000</td>\n",
       "      <td>112348.000000</td>\n",
       "      <td>112348.000000</td>\n",
       "      <td>112348.000000</td>\n",
       "      <td>112348.000000</td>\n",
       "      <td>1.123480e+05</td>\n",
       "      <td>1.123480e+05</td>\n",
       "      <td>112329.000000</td>\n",
       "      <td>112329.000000</td>\n",
       "    </tr>\n",
       "    <tr>\n",
       "      <th>mean</th>\n",
       "      <td>98259.260058</td>\n",
       "      <td>2019.003551</td>\n",
       "      <td>87.822080</td>\n",
       "      <td>1794.526738</td>\n",
       "      <td>29.805604</td>\n",
       "      <td>1.994769e+08</td>\n",
       "      <td>5.303961e+10</td>\n",
       "      <td>-121.356241</td>\n",
       "      <td>47.336475</td>\n",
       "    </tr>\n",
       "    <tr>\n",
       "      <th>std</th>\n",
       "      <td>303.190160</td>\n",
       "      <td>2.892796</td>\n",
       "      <td>102.328948</td>\n",
       "      <td>10785.707353</td>\n",
       "      <td>14.700545</td>\n",
       "      <td>9.400247e+07</td>\n",
       "      <td>1.618635e+07</td>\n",
       "      <td>13.185506</td>\n",
       "      <td>2.493383</td>\n",
       "    </tr>\n",
       "    <tr>\n",
       "      <th>min</th>\n",
       "      <td>98001.000000</td>\n",
       "      <td>1997.000000</td>\n",
       "      <td>0.000000</td>\n",
       "      <td>0.000000</td>\n",
       "      <td>1.000000</td>\n",
       "      <td>4.777000e+03</td>\n",
       "      <td>5.300195e+10</td>\n",
       "      <td>-124.627350</td>\n",
       "      <td>4.177560</td>\n",
       "    </tr>\n",
       "    <tr>\n",
       "      <th>25%</th>\n",
       "      <td>98052.000000</td>\n",
       "      <td>2017.000000</td>\n",
       "      <td>0.000000</td>\n",
       "      <td>0.000000</td>\n",
       "      <td>18.000000</td>\n",
       "      <td>1.484196e+08</td>\n",
       "      <td>5.303301e+10</td>\n",
       "      <td>-122.406180</td>\n",
       "      <td>47.356890</td>\n",
       "    </tr>\n",
       "    <tr>\n",
       "      <th>50%</th>\n",
       "      <td>98121.000000</td>\n",
       "      <td>2020.000000</td>\n",
       "      <td>32.000000</td>\n",
       "      <td>0.000000</td>\n",
       "      <td>34.000000</td>\n",
       "      <td>1.923979e+08</td>\n",
       "      <td>5.303303e+10</td>\n",
       "      <td>-122.292450</td>\n",
       "      <td>47.610010</td>\n",
       "    </tr>\n",
       "    <tr>\n",
       "      <th>75%</th>\n",
       "      <td>98370.000000</td>\n",
       "      <td>2022.000000</td>\n",
       "      <td>208.000000</td>\n",
       "      <td>0.000000</td>\n",
       "      <td>43.000000</td>\n",
       "      <td>2.191931e+08</td>\n",
       "      <td>5.305307e+10</td>\n",
       "      <td>-122.131580</td>\n",
       "      <td>47.722010</td>\n",
       "    </tr>\n",
       "    <tr>\n",
       "      <th>max</th>\n",
       "      <td>99403.000000</td>\n",
       "      <td>2023.000000</td>\n",
       "      <td>337.000000</td>\n",
       "      <td>845000.000000</td>\n",
       "      <td>49.000000</td>\n",
       "      <td>4.792548e+08</td>\n",
       "      <td>5.307794e+10</td>\n",
       "      <td>114.324660</td>\n",
       "      <td>67.018650</td>\n",
       "    </tr>\n",
       "  </tbody>\n",
       "</table>\n",
       "</div>"
      ],
      "text/plain": [
       "         Postal Code     Model Year  Electric Range      Base MSRP  \\\n",
       "count  112348.000000  112348.000000   112348.000000  112348.000000   \n",
       "mean    98259.260058    2019.003551       87.822080    1794.526738   \n",
       "std       303.190160       2.892796      102.328948   10785.707353   \n",
       "min     98001.000000    1997.000000        0.000000       0.000000   \n",
       "25%     98052.000000    2017.000000        0.000000       0.000000   \n",
       "50%     98121.000000    2020.000000       32.000000       0.000000   \n",
       "75%     98370.000000    2022.000000      208.000000       0.000000   \n",
       "max     99403.000000    2023.000000      337.000000  845000.000000   \n",
       "\n",
       "       Legislative District  DOL Vehicle ID  2020 Census Tract            Lon  \\\n",
       "count         112348.000000    1.123480e+05       1.123480e+05  112329.000000   \n",
       "mean              29.805604    1.994769e+08       5.303961e+10    -121.356241   \n",
       "std               14.700545    9.400247e+07       1.618635e+07      13.185506   \n",
       "min                1.000000    4.777000e+03       5.300195e+10    -124.627350   \n",
       "25%               18.000000    1.484196e+08       5.303301e+10    -122.406180   \n",
       "50%               34.000000    1.923979e+08       5.303303e+10    -122.292450   \n",
       "75%               43.000000    2.191931e+08       5.305307e+10    -122.131580   \n",
       "max               49.000000    4.792548e+08       5.307794e+10     114.324660   \n",
       "\n",
       "                 Lat  \n",
       "count  112329.000000  \n",
       "mean       47.336475  \n",
       "std         2.493383  \n",
       "min         4.177560  \n",
       "25%        47.356890  \n",
       "50%        47.610010  \n",
       "75%        47.722010  \n",
       "max        67.018650  "
      ]
     },
     "execution_count": 125,
     "metadata": {},
     "output_type": "execute_result"
    }
   ],
   "source": [
    "df_wa.describe()"
   ]
  },
  {
   "cell_type": "code",
   "execution_count": 126,
   "id": "4748ac9d-8ce2-4b60-ba61-8c59ed93fa47",
   "metadata": {},
   "outputs": [
    {
     "name": "stdout",
     "output_type": "stream",
     "text": [
      "<class 'pandas.core.frame.DataFrame'>\n",
      "Int64Index: 112348 entries, 2 to 112633\n",
      "Data columns (total 19 columns):\n",
      " #   Column                                             Non-Null Count   Dtype  \n",
      "---  ------                                             --------------   -----  \n",
      " 0   VIN (1-10)                                         112348 non-null  object \n",
      " 1   County                                             112348 non-null  object \n",
      " 2   City                                               112348 non-null  object \n",
      " 3   State                                              112348 non-null  object \n",
      " 4   Postal Code                                        112348 non-null  int64  \n",
      " 5   Model Year                                         112348 non-null  int64  \n",
      " 6   Maker                                              112348 non-null  object \n",
      " 7   Model                                              112328 non-null  object \n",
      " 8   Electric Vehicle Type                              112348 non-null  object \n",
      " 9   Clean Alternative Fuel Vehicle (CAFV) Eligibility  112348 non-null  object \n",
      " 10  Electric Range                                     112348 non-null  int64  \n",
      " 11  Base MSRP                                          112348 non-null  int64  \n",
      " 12  Legislative District                               112348 non-null  float64\n",
      " 13  DOL Vehicle ID                                     112348 non-null  int64  \n",
      " 14  Vehicle Location                                   112329 non-null  object \n",
      " 15  Electric Utility                                   112191 non-null  object \n",
      " 16  2020 Census Tract                                  112348 non-null  int64  \n",
      " 17  Lon                                                112329 non-null  float64\n",
      " 18  Lat                                                112329 non-null  float64\n",
      "dtypes: float64(3), int64(6), object(10)\n",
      "memory usage: 17.1+ MB\n"
     ]
    }
   ],
   "source": [
    "df_wa.info()"
   ]
  },
  {
   "cell_type": "code",
   "execution_count": 127,
   "id": "69a54b6b-2e5c-4494-ac17-6a59dd2a9f1c",
   "metadata": {},
   "outputs": [
    {
     "data": {
      "image/png": "[encoded data removed]",
      "text/plain": [
       "<Figure size 640x480 with 1 Axes>"
      ]
     },
     "metadata": {},
     "output_type": "display_data"
    }
   ],
   "source": [
    "df_wa['Electric Range'].plot(kind='hist',bins=10,density=True)\n",
    "df_wa['Electric Range'].plot(kind='kde',color='red')\n",
    "plt.show()"
   ]
  },
  {
   "cell_type": "code",
   "execution_count": 128,
   "id": "97c178cd-aae9-43be-bf59-de25ae5f3218",
   "metadata": {},
   "outputs": [
    {
     "data": {
      "text/plain": [
       "0      39154\n",
       "215     6288\n",
       "84      4113\n",
       "220     4019\n",
       "238     3470\n",
       "       ...  \n",
       "11         3\n",
       "95         2\n",
       "57         1\n",
       "39         1\n",
       "59         1\n",
       "Name: Electric Range, Length: 101, dtype: int64"
      ]
     },
     "execution_count": 128,
     "metadata": {},
     "output_type": "execute_result"
    }
   ],
   "source": [
    "df_wa['Electric Range'].value_counts()"
   ]
  },
  {
   "cell_type": "code",
   "execution_count": 129,
   "id": "ffea0fac-449e-423c-b7e5-8a2cf01c4da6",
   "metadata": {},
   "outputs": [],
   "source": [
    "# Analysis"
   ]
  },
  {
   "cell_type": "code",
   "execution_count": 130,
   "id": "212cc18b-2421-4057-aae5-df6f6baea3ae",
   "metadata": {},
   "outputs": [],
   "source": [
    "# Lets see top 10 vehicles which has the best electric range"
   ]
  },
  {
   "cell_type": "code",
   "execution_count": 131,
   "id": "371144ea-b0eb-4f39-81ae-bd229c5638d2",
   "metadata": {},
   "outputs": [],
   "source": [
    "vehicle_range= df_wa.groupby('Model')['Electric Range'].max()"
   ]
  },
  {
   "cell_type": "code",
   "execution_count": 132,
   "id": "9fcd0927-5eb7-412e-b97f-f87e09aef63c",
   "metadata": {},
   "outputs": [
    {
     "data": {
      "image/png": "[encoded data removed]",
      "text/plain": [
       "<Figure size 640x480 with 1 Axes>"
      ]
     },
     "metadata": {},
     "output_type": "display_data"
    }
   ],
   "source": [
    "vehicle_range.sort_values(ascending=False).iloc[:10].plot(kind='bar')\n",
    "plt.xlabel('Model')\n",
    "plt.ylabel('Range')\n",
    "plt.show()"
   ]
  },
  {
   "cell_type": "code",
   "execution_count": 133,
   "id": "d69c5a4a-5434-40a5-bc9c-e8b68a908025",
   "metadata": {},
   "outputs": [],
   "source": [
    "#Most used EV vehicles"
   ]
  },
  {
   "cell_type": "code",
   "execution_count": 134,
   "id": "9eff0302-9f5b-4f17-a881-578519a38a41",
   "metadata": {},
   "outputs": [
    {
     "data": {
      "text/plain": [
       "MODEL 3        23063\n",
       "MODEL Y        17104\n",
       "LEAF           12866\n",
       "MODEL S         7362\n",
       "BOLT EV         4905\n",
       "VOLT            4882\n",
       "MODEL X         4361\n",
       "PRIUS PRIME     2373\n",
       "NIRO            2255\n",
       "I3              1893\n",
       "Name: Model, dtype: int64"
      ]
     },
     "execution_count": 134,
     "metadata": {},
     "output_type": "execute_result"
    }
   ],
   "source": [
    "df_wa['Model'].value_counts().iloc[0:10]"
   ]
  },
  {
   "cell_type": "code",
   "execution_count": 135,
   "id": "f5cec29d-b6b4-4938-be6d-22e39eb577d4",
   "metadata": {},
   "outputs": [],
   "source": [
    "# Lets see which city has more EV vehicles \""
   ]
  },
  {
   "cell_type": "code",
   "execution_count": 136,
   "id": "bd638781-b775-414a-a622-76b7180ddd10",
   "metadata": {},
   "outputs": [
    {
     "data": {
      "image/png": "[encoded data removed]",
      "text/plain": [
       "<Figure size 640x480 with 1 Axes>"
      ]
     },
     "metadata": {},
     "output_type": "display_data"
    }
   ],
   "source": [
    "df_wa['City'].value_counts().iloc[0:10].plot(kind='pie',autopct='%1.1f%%')\n",
    "plt.show()"
   ]
  },
  {
   "cell_type": "code",
   "execution_count": 137,
   "id": "7406e1d2-d23d-4300-bd2b-b7e6428f8ded",
   "metadata": {},
   "outputs": [],
   "source": [
    "#Lets see sales of electric vehicles in each year"
   ]
  },
  {
   "cell_type": "code",
   "execution_count": 138,
   "id": "d0d3ea00-6809-4011-a09a-e12498538a7b",
   "metadata": {},
   "outputs": [
    {
     "data": {
      "image/png": "[encoded data removed]",
      "text/plain": [
       "<Figure size 640x480 with 1 Axes>"
      ]
     },
     "metadata": {},
     "output_type": "display_data"
    }
   ],
   "source": [
    "df_wa['Model Year'].plot(kind='hist',bins=20)\n",
    "plt.ylabel('No of Vehicles')\n",
    "plt.xlabel('Year')\n",
    "plt.show()"
   ]
  },
  {
   "cell_type": "code",
   "execution_count": 139,
   "id": "be480984-8bd5-4d0d-9932-3d72bad445c8",
   "metadata": {},
   "outputs": [],
   "source": [
    "# plotting choropleth using plotly"
   ]
  },
  {
   "cell_type": "code",
   "execution_count": 142,
   "id": "6818ff06-fb93-489d-9617-d3a5627e3740",
   "metadata": {},
   "outputs": [],
   "source": [
    "import plotly.express as px"
   ]
  },
  {
   "cell_type": "code",
   "execution_count": 162,
   "id": "6c578f67-113a-455d-b3c5-9a897ac6c765",
   "metadata": {},
   "outputs": [
    {
     "data": {
      "text/plain": [
       "WA    112348\n",
       "CA        76\n",
       "VA        36\n",
       "MD        26\n",
       "TX        14\n",
       "CO         9\n",
       "NV         8\n",
       "GA         7\n",
       "NC         7\n",
       "CT         6\n",
       "DC         6\n",
       "FL         6\n",
       "AZ         6\n",
       "IL         6\n",
       "SC         5\n",
       "OR         5\n",
       "NE         5\n",
       "HI         4\n",
       "UT         4\n",
       "AR         4\n",
       "NY         4\n",
       "TN         3\n",
       "KS         3\n",
       "MO         3\n",
       "PA         3\n",
       "MA         3\n",
       "LA         3\n",
       "NJ         3\n",
       "NH         2\n",
       "OH         2\n",
       "WY         2\n",
       "ID         2\n",
       "KY         1\n",
       "RI         1\n",
       "ME         1\n",
       "MN         1\n",
       "SD         1\n",
       "WI         1\n",
       "NM         1\n",
       "AK         1\n",
       "MS         1\n",
       "AL         1\n",
       "DE         1\n",
       "OK         1\n",
       "ND         1\n",
       "Name: State, dtype: int64"
      ]
     },
     "execution_count": 162,
     "metadata": {},
     "output_type": "execute_result"
    }
   ],
   "source": [
    "df['State'].value_counts()"
   ]
  },
  {
   "cell_type": "code",
   "execution_count": 160,
   "id": "4ddae228-faa9-4a89-bdf0-a7ac5662a5f4",
   "metadata": {},
   "outputs": [],
   "source": [
    "dict={'State':df_state.index,'No of vehicles':df_state.values}"
   ]
  },
  {
   "cell_type": "code",
   "execution_count": 164,
   "id": "b1feca40-4d9b-421e-95a1-247fd1391fbe",
   "metadata": {},
   "outputs": [],
   "source": [
    "df_state =pd.DataFrame(dict)"
   ]
  },
  {
   "cell_type": "code",
   "execution_count": 166,
   "id": "666a42a1-1c6f-47c4-b1d2-5c64b9c68813",
   "metadata": {},
   "outputs": [
    {
     "data": {
      "text/html": [
       "<div>\n",
       "<style scoped>\n",
       "    .dataframe tbody tr th:only-of-type {\n",
       "        vertical-align: middle;\n",
       "    }\n",
       "\n",
       "    .dataframe tbody tr th {\n",
       "        vertical-align: top;\n",
       "    }\n",
       "\n",
       "    .dataframe thead th {\n",
       "        text-align: right;\n",
       "    }\n",
       "</style>\n",
       "<table border=\"1\" class=\"dataframe\">\n",
       "  <thead>\n",
       "    <tr style=\"text-align: right;\">\n",
       "      <th></th>\n",
       "      <th>State</th>\n",
       "      <th>No of vehicles</th>\n",
       "    </tr>\n",
       "  </thead>\n",
       "  <tbody>\n",
       "    <tr>\n",
       "      <th>0</th>\n",
       "      <td>WA</td>\n",
       "      <td>112348</td>\n",
       "    </tr>\n",
       "    <tr>\n",
       "      <th>1</th>\n",
       "      <td>CA</td>\n",
       "      <td>76</td>\n",
       "    </tr>\n",
       "    <tr>\n",
       "      <th>2</th>\n",
       "      <td>VA</td>\n",
       "      <td>36</td>\n",
       "    </tr>\n",
       "    <tr>\n",
       "      <th>3</th>\n",
       "      <td>MD</td>\n",
       "      <td>26</td>\n",
       "    </tr>\n",
       "    <tr>\n",
       "      <th>4</th>\n",
       "      <td>TX</td>\n",
       "      <td>14</td>\n",
       "    </tr>\n",
       "    <tr>\n",
       "      <th>5</th>\n",
       "      <td>CO</td>\n",
       "      <td>9</td>\n",
       "    </tr>\n",
       "    <tr>\n",
       "      <th>6</th>\n",
       "      <td>NV</td>\n",
       "      <td>8</td>\n",
       "    </tr>\n",
       "    <tr>\n",
       "      <th>7</th>\n",
       "      <td>GA</td>\n",
       "      <td>7</td>\n",
       "    </tr>\n",
       "    <tr>\n",
       "      <th>8</th>\n",
       "      <td>NC</td>\n",
       "      <td>7</td>\n",
       "    </tr>\n",
       "    <tr>\n",
       "      <th>9</th>\n",
       "      <td>CT</td>\n",
       "      <td>6</td>\n",
       "    </tr>\n",
       "    <tr>\n",
       "      <th>10</th>\n",
       "      <td>DC</td>\n",
       "      <td>6</td>\n",
       "    </tr>\n",
       "    <tr>\n",
       "      <th>11</th>\n",
       "      <td>FL</td>\n",
       "      <td>6</td>\n",
       "    </tr>\n",
       "    <tr>\n",
       "      <th>12</th>\n",
       "      <td>AZ</td>\n",
       "      <td>6</td>\n",
       "    </tr>\n",
       "    <tr>\n",
       "      <th>13</th>\n",
       "      <td>IL</td>\n",
       "      <td>6</td>\n",
       "    </tr>\n",
       "    <tr>\n",
       "      <th>14</th>\n",
       "      <td>SC</td>\n",
       "      <td>5</td>\n",
       "    </tr>\n",
       "    <tr>\n",
       "      <th>15</th>\n",
       "      <td>OR</td>\n",
       "      <td>5</td>\n",
       "    </tr>\n",
       "    <tr>\n",
       "      <th>16</th>\n",
       "      <td>NE</td>\n",
       "      <td>5</td>\n",
       "    </tr>\n",
       "    <tr>\n",
       "      <th>17</th>\n",
       "      <td>HI</td>\n",
       "      <td>4</td>\n",
       "    </tr>\n",
       "    <tr>\n",
       "      <th>18</th>\n",
       "      <td>UT</td>\n",
       "      <td>4</td>\n",
       "    </tr>\n",
       "    <tr>\n",
       "      <th>19</th>\n",
       "      <td>AR</td>\n",
       "      <td>4</td>\n",
       "    </tr>\n",
       "    <tr>\n",
       "      <th>20</th>\n",
       "      <td>NY</td>\n",
       "      <td>4</td>\n",
       "    </tr>\n",
       "    <tr>\n",
       "      <th>21</th>\n",
       "      <td>TN</td>\n",
       "      <td>3</td>\n",
       "    </tr>\n",
       "    <tr>\n",
       "      <th>22</th>\n",
       "      <td>KS</td>\n",
       "      <td>3</td>\n",
       "    </tr>\n",
       "    <tr>\n",
       "      <th>23</th>\n",
       "      <td>MO</td>\n",
       "      <td>3</td>\n",
       "    </tr>\n",
       "    <tr>\n",
       "      <th>24</th>\n",
       "      <td>PA</td>\n",
       "      <td>3</td>\n",
       "    </tr>\n",
       "    <tr>\n",
       "      <th>25</th>\n",
       "      <td>MA</td>\n",
       "      <td>3</td>\n",
       "    </tr>\n",
       "    <tr>\n",
       "      <th>26</th>\n",
       "      <td>LA</td>\n",
       "      <td>3</td>\n",
       "    </tr>\n",
       "    <tr>\n",
       "      <th>27</th>\n",
       "      <td>NJ</td>\n",
       "      <td>3</td>\n",
       "    </tr>\n",
       "    <tr>\n",
       "      <th>28</th>\n",
       "      <td>NH</td>\n",
       "      <td>2</td>\n",
       "    </tr>\n",
       "    <tr>\n",
       "      <th>29</th>\n",
       "      <td>OH</td>\n",
       "      <td>2</td>\n",
       "    </tr>\n",
       "    <tr>\n",
       "      <th>30</th>\n",
       "      <td>WY</td>\n",
       "      <td>2</td>\n",
       "    </tr>\n",
       "    <tr>\n",
       "      <th>31</th>\n",
       "      <td>ID</td>\n",
       "      <td>2</td>\n",
       "    </tr>\n",
       "    <tr>\n",
       "      <th>32</th>\n",
       "      <td>KY</td>\n",
       "      <td>1</td>\n",
       "    </tr>\n",
       "    <tr>\n",
       "      <th>33</th>\n",
       "      <td>RI</td>\n",
       "      <td>1</td>\n",
       "    </tr>\n",
       "    <tr>\n",
       "      <th>34</th>\n",
       "      <td>ME</td>\n",
       "      <td>1</td>\n",
       "    </tr>\n",
       "    <tr>\n",
       "      <th>35</th>\n",
       "      <td>MN</td>\n",
       "      <td>1</td>\n",
       "    </tr>\n",
       "    <tr>\n",
       "      <th>36</th>\n",
       "      <td>SD</td>\n",
       "      <td>1</td>\n",
       "    </tr>\n",
       "    <tr>\n",
       "      <th>37</th>\n",
       "      <td>WI</td>\n",
       "      <td>1</td>\n",
       "    </tr>\n",
       "    <tr>\n",
       "      <th>38</th>\n",
       "      <td>NM</td>\n",
       "      <td>1</td>\n",
       "    </tr>\n",
       "    <tr>\n",
       "      <th>39</th>\n",
       "      <td>AK</td>\n",
       "      <td>1</td>\n",
       "    </tr>\n",
       "    <tr>\n",
       "      <th>40</th>\n",
       "      <td>MS</td>\n",
       "      <td>1</td>\n",
       "    </tr>\n",
       "    <tr>\n",
       "      <th>41</th>\n",
       "      <td>AL</td>\n",
       "      <td>1</td>\n",
       "    </tr>\n",
       "    <tr>\n",
       "      <th>42</th>\n",
       "      <td>DE</td>\n",
       "      <td>1</td>\n",
       "    </tr>\n",
       "    <tr>\n",
       "      <th>43</th>\n",
       "      <td>OK</td>\n",
       "      <td>1</td>\n",
       "    </tr>\n",
       "    <tr>\n",
       "      <th>44</th>\n",
       "      <td>ND</td>\n",
       "      <td>1</td>\n",
       "    </tr>\n",
       "  </tbody>\n",
       "</table>\n",
       "</div>"
      ],
      "text/plain": [
       "   State  No of vehicles\n",
       "0     WA          112348\n",
       "1     CA              76\n",
       "2     VA              36\n",
       "3     MD              26\n",
       "4     TX              14\n",
       "5     CO               9\n",
       "6     NV               8\n",
       "7     GA               7\n",
       "8     NC               7\n",
       "9     CT               6\n",
       "10    DC               6\n",
       "11    FL               6\n",
       "12    AZ               6\n",
       "13    IL               6\n",
       "14    SC               5\n",
       "15    OR               5\n",
       "16    NE               5\n",
       "17    HI               4\n",
       "18    UT               4\n",
       "19    AR               4\n",
       "20    NY               4\n",
       "21    TN               3\n",
       "22    KS               3\n",
       "23    MO               3\n",
       "24    PA               3\n",
       "25    MA               3\n",
       "26    LA               3\n",
       "27    NJ               3\n",
       "28    NH               2\n",
       "29    OH               2\n",
       "30    WY               2\n",
       "31    ID               2\n",
       "32    KY               1\n",
       "33    RI               1\n",
       "34    ME               1\n",
       "35    MN               1\n",
       "36    SD               1\n",
       "37    WI               1\n",
       "38    NM               1\n",
       "39    AK               1\n",
       "40    MS               1\n",
       "41    AL               1\n",
       "42    DE               1\n",
       "43    OK               1\n",
       "44    ND               1"
      ]
     },
     "execution_count": 166,
     "metadata": {},
     "output_type": "execute_result"
    }
   ],
   "source": [
    "df_state"
   ]
  },
  {
   "cell_type": "code",
   "execution_count": 290,
   "id": "2e5f2894-869f-4443-8ddd-44856c601c76",
   "metadata": {},
   "outputs": [
    {
     "data": {
      "application/vnd.plotly.v1+json": {
       "config": {
        "plotlyServerURL": "https://plot.ly"
       },
       "data": [
        {
         "coloraxis": "coloraxis",
         "geo": "geo",
         "hovertemplate": "<b>%{hovertext}</b><br><br>State=%{location}<br>No of vehicles=%{z}<extra></extra>",
         "hovertext": [
          112348,
          76,
          36,
          26,
          14,
          9,
          8,
          7,
          7,
          6,
          6,
          6,
          6,
          6,
          5,
          5,
          5,
          4,
          4,
          4,
          4,
          3,
          3,
          3,
          3,
          3,
          3,
          3,
          2,
          2,
          2,
          2,
          1,
          1,
          1,
          1,
          1,
          1,
          1,
          1,
          1,
          1,
          1,
          1,
          1
         ],
         "locationmode": "USA-states",
         "locations": [
          "WA",
          "CA",
          "VA",
          "MD",
          "TX",
          "CO",
          "NV",
          "GA",
          "NC",
          "CT",
          "DC",
          "FL",
          "AZ",
          "IL",
          "SC",
          "OR",
          "NE",
          "HI",
          "UT",
          "AR",
          "NY",
          "TN",
          "KS",
          "MO",
          "PA",
          "MA",
          "LA",
          "NJ",
          "NH",
          "OH",
          "WY",
          "ID",
          "KY",
          "RI",
          "ME",
          "MN",
          "SD",
          "WI",
          "NM",
          "AK",
          "MS",
          "AL",
          "DE",
          "OK",
          "ND"
         ],
         "name": "",
         "type": "choropleth",
         "z": [
          112348,
          76,
          36,
          26,
          14,
          9,
          8,
          7,
          7,
          6,
          6,
          6,
          6,
          6,
          5,
          5,
          5,
          4,
          4,
          4,
          4,
          3,
          3,
          3,
          3,
          3,
          3,
          3,
          2,
          2,
          2,
          2,
          1,
          1,
          1,
          1,
          1,
          1,
          1,
          1,
          1,
          1,
          1,
          1,
          1
         ]
        }
       ],
       "layout": {
        "autosize": true,
        "coloraxis": {
         "colorbar": {
          "title": {
           "text": "No of vehicles"
          }
         },
         "colorscale": [
          [
           0,
           "#0d0887"
          ],
          [
           0.1111111111111111,
           "#46039f"
          ],
          [
           0.2222222222222222,
           "#7201a8"
          ],
          [
           0.3333333333333333,
           "#9c179e"
          ],
          [
           0.4444444444444444,
           "#bd3786"
          ],
          [
           0.5555555555555556,
           "#d8576b"
          ],
          [
           0.6666666666666666,
           "#ed7953"
          ],
          [
           0.7777777777777778,
           "#fb9f3a"
          ],
          [
           0.8888888888888888,
           "#fdca26"
          ],
          [
           1,
           "#f0f921"
          ]
         ]
        },
        "geo": {
         "center": {
          "lat": 54.886268330083496,
          "lon": -64.11398505773911
         },
         "domain": {
          "x": [
           0,
           1
          ],
          "y": [
           0,
           1
          ]
         },
         "projection": {
          "scale": 0.2916322598940284
         },
         "scope": "usa"
        },
        "legend": {
         "tracegroupgap": 0
        },
        "margin": {
         "t": 60
        },
        "template": {
         "data": {
          "bar": [
           {
            "error_x": {
             "color": "#2a3f5f"
            },
            "error_y": {
             "color": "#2a3f5f"
            },
            "marker": {
             "line": {
              "color": "#E5ECF6",
              "width": 0.5
             },
             "pattern": {
              "fillmode": "overlay",
              "size": 10,
              "solidity": 0.2
             }
            },
            "type": "bar"
           }
          ],
          "barpolar": [
           {
            "marker": {
             "line": {
              "color": "#E5ECF6",
              "width": 0.5
             },
             "pattern": {
              "fillmode": "overlay",
              "size": 10,
              "solidity": 0.2
             }
            },
            "type": "barpolar"
           }
          ],
          "carpet": [
           {
            "aaxis": {
             "endlinecolor": "#2a3f5f",
             "gridcolor": "white",
             "linecolor": "white",
             "minorgridcolor": "white",
             "startlinecolor": "#2a3f5f"
            },
            "baxis": {
             "endlinecolor": "#2a3f5f",
             "gridcolor": "white",
             "linecolor": "white",
             "minorgridcolor": "white",
             "startlinecolor": "#2a3f5f"
            },
            "type": "carpet"
           }
          ],
          "choropleth": [
           {
            "colorbar": {
             "outlinewidth": 0,
             "ticks": ""
            },
            "type": "choropleth"
           }
          ],
          "contour": [
           {
            "colorbar": {
             "outlinewidth": 0,
             "ticks": ""
            },
            "colorscale": [
             [
              0,
              "#0d0887"
             ],
             [
              0.1111111111111111,
              "#46039f"
             ],
             [
              0.2222222222222222,
              "#7201a8"
             ],
             [
              0.3333333333333333,
              "#9c179e"
             ],
             [
              0.4444444444444444,
              "#bd3786"
             ],
             [
              0.5555555555555556,
              "#d8576b"
             ],
             [
              0.6666666666666666,
              "#ed7953"
             ],
             [
              0.7777777777777778,
              "#fb9f3a"
             ],
             [
              0.8888888888888888,
              "#fdca26"
             ],
             [
              1,
              "#f0f921"
             ]
            ],
            "type": "contour"
           }
          ],
          "contourcarpet": [
           {
            "colorbar": {
             "outlinewidth": 0,
             "ticks": ""
            },
            "type": "contourcarpet"
           }
          ],
          "heatmap": [
           {
            "colorbar": {
             "outlinewidth": 0,
             "ticks": ""
            },
            "colorscale": [
             [
              0,
              "#0d0887"
             ],
             [
              0.1111111111111111,
              "#46039f"
             ],
             [
              0.2222222222222222,
              "#7201a8"
             ],
             [
              0.3333333333333333,
              "#9c179e"
             ],
             [
              0.4444444444444444,
              "#bd3786"
             ],
             [
              0.5555555555555556,
              "#d8576b"
             ],
             [
              0.6666666666666666,
              "#ed7953"
             ],
             [
              0.7777777777777778,
              "#fb9f3a"
             ],
             [
              0.8888888888888888,
              "#fdca26"
             ],
             [
              1,
              "#f0f921"
             ]
            ],
            "type": "heatmap"
           }
          ],
          "heatmapgl": [
           {
            "colorbar": {
             "outlinewidth": 0,
             "ticks": ""
            },
            "colorscale": [
             [
              0,
              "#0d0887"
             ],
             [
              0.1111111111111111,
              "#46039f"
             ],
             [
              0.2222222222222222,
              "#7201a8"
             ],
             [
              0.3333333333333333,
              "#9c179e"
             ],
             [
              0.4444444444444444,
              "#bd3786"
             ],
             [
              0.5555555555555556,
              "#d8576b"
             ],
             [
              0.6666666666666666,
              "#ed7953"
             ],
             [
              0.7777777777777778,
              "#fb9f3a"
             ],
             [
              0.8888888888888888,
              "#fdca26"
             ],
             [
              1,
              "#f0f921"
             ]
            ],
            "type": "heatmapgl"
           }
          ],
          "histogram": [
           {
            "marker": {
             "pattern": {
              "fillmode": "overlay",
              "size": 10,
              "solidity": 0.2
             }
            },
            "type": "histogram"
           }
          ],
          "histogram2d": [
           {
            "colorbar": {
             "outlinewidth": 0,
             "ticks": ""
            },
            "colorscale": [
             [
              0,
              "#0d0887"
             ],
             [
              0.1111111111111111,
              "#46039f"
             ],
             [
              0.2222222222222222,
              "#7201a8"
             ],
             [
              0.3333333333333333,
              "#9c179e"
             ],
             [
              0.4444444444444444,
              "#bd3786"
             ],
             [
              0.5555555555555556,
              "#d8576b"
             ],
             [
              0.6666666666666666,
              "#ed7953"
             ],
             [
              0.7777777777777778,
              "#fb9f3a"
             ],
             [
              0.8888888888888888,
              "#fdca26"
             ],
             [
              1,
              "#f0f921"
             ]
            ],
            "type": "histogram2d"
           }
          ],
          "histogram2dcontour": [
           {
            "colorbar": {
             "outlinewidth": 0,
             "ticks": ""
            },
            "colorscale": [
             [
              0,
              "#0d0887"
             ],
             [
              0.1111111111111111,
              "#46039f"
             ],
             [
              0.2222222222222222,
              "#7201a8"
             ],
             [
              0.3333333333333333,
              "#9c179e"
             ],
             [
              0.4444444444444444,
              "#bd3786"
             ],
             [
              0.5555555555555556,
              "#d8576b"
             ],
             [
              0.6666666666666666,
              "#ed7953"
             ],
             [
              0.7777777777777778,
              "#fb9f3a"
             ],
             [
              0.8888888888888888,
              "#fdca26"
             ],
             [
              1,
              "#f0f921"
             ]
            ],
            "type": "histogram2dcontour"
           }
          ],
          "mesh3d": [
           {
            "colorbar": {
             "outlinewidth": 0,
             "ticks": ""
            },
            "type": "mesh3d"
           }
          ],
          "parcoords": [
           {
            "line": {
             "colorbar": {
              "outlinewidth": 0,
              "ticks": ""
             }
            },
            "type": "parcoords"
           }
          ],
          "pie": [
           {
            "automargin": true,
            "type": "pie"
           }
          ],
          "scatter": [
           {
            "fillpattern": {
             "fillmode": "overlay",
             "size": 10,
             "solidity": 0.2
            },
            "type": "scatter"
           }
          ],
          "scatter3d": [
           {
            "line": {
             "colorbar": {
              "outlinewidth": 0,
              "ticks": ""
             }
            },
            "marker": {
             "colorbar": {
              "outlinewidth": 0,
              "ticks": ""
             }
            },
            "type": "scatter3d"
           }
          ],
          "scattercarpet": [
           {
            "marker": {
             "colorbar": {
              "outlinewidth": 0,
              "ticks": ""
             }
            },
            "type": "scattercarpet"
           }
          ],
          "scattergeo": [
           {
            "marker": {
             "colorbar": {
              "outlinewidth": 0,
              "ticks": ""
             }
            },
            "type": "scattergeo"
           }
          ],
          "scattergl": [
           {
            "marker": {
             "colorbar": {
              "outlinewidth": 0,
              "ticks": ""
             }
            },
            "type": "scattergl"
           }
          ],
          "scattermapbox": [
           {
            "marker": {
             "colorbar": {
              "outlinewidth": 0,
              "ticks": ""
             }
            },
            "type": "scattermapbox"
           }
          ],
          "scatterpolar": [
           {
            "marker": {
             "colorbar": {
              "outlinewidth": 0,
              "ticks": ""
             }
            },
            "type": "scatterpolar"
           }
          ],
          "scatterpolargl": [
           {
            "marker": {
             "colorbar": {
              "outlinewidth": 0,
              "ticks": ""
             }
            },
            "type": "scatterpolargl"
           }
          ],
          "scatterternary": [
           {
            "marker": {
             "colorbar": {
              "outlinewidth": 0,
              "ticks": ""
             }
            },
            "type": "scatterternary"
           }
          ],
          "surface": [
           {
            "colorbar": {
             "outlinewidth": 0,
             "ticks": ""
            },
            "colorscale": [
             [
              0,
              "#0d0887"
             ],
             [
              0.1111111111111111,
              "#46039f"
             ],
             [
              0.2222222222222222,
              "#7201a8"
             ],
             [
              0.3333333333333333,
              "#9c179e"
             ],
             [
              0.4444444444444444,
              "#bd3786"
             ],
             [
              0.5555555555555556,
              "#d8576b"
             ],
             [
              0.6666666666666666,
              "#ed7953"
             ],
             [
              0.7777777777777778,
              "#fb9f3a"
             ],
             [
              0.8888888888888888,
              "#fdca26"
             ],
             [
              1,
              "#f0f921"
             ]
            ],
            "type": "surface"
           }
          ],
          "table": [
           {
            "cells": {
             "fill": {
              "color": "#EBF0F8"
             },
             "line": {
              "color": "white"
             }
            },
            "header": {
             "fill": {
              "color": "#C8D4E3"
             },
             "line": {
              "color": "white"
             }
            },
            "type": "table"
           }
          ]
         },
         "layout": {
          "annotationdefaults": {
           "arrowcolor": "#2a3f5f",
           "arrowhead": 0,
           "arrowwidth": 1
          },
          "autotypenumbers": "strict",
          "coloraxis": {
           "colorbar": {
            "outlinewidth": 0,
            "ticks": ""
           }
          },
          "colorscale": {
           "diverging": [
            [
             0,
             "#8e0152"
            ],
            [
             0.1,
             "#c51b7d"
            ],
            [
             0.2,
             "#de77ae"
            ],
            [
             0.3,
             "#f1b6da"
            ],
            [
             0.4,
             "#fde0ef"
            ],
            [
             0.5,
             "#f7f7f7"
            ],
            [
             0.6,
             "#e6f5d0"
            ],
            [
             0.7,
             "#b8e186"
            ],
            [
             0.8,
             "#7fbc41"
            ],
            [
             0.9,
             "#4d9221"
            ],
            [
             1,
             "#276419"
            ]
           ],
           "sequential": [
            [
             0,
             "#0d0887"
            ],
            [
             0.1111111111111111,
             "#46039f"
            ],
            [
             0.2222222222222222,
             "#7201a8"
            ],
            [
             0.3333333333333333,
             "#9c179e"
            ],
            [
             0.4444444444444444,
             "#bd3786"
            ],
            [
             0.5555555555555556,
             "#d8576b"
            ],
            [
             0.6666666666666666,
             "#ed7953"
            ],
            [
             0.7777777777777778,
             "#fb9f3a"
            ],
            [
             0.8888888888888888,
             "#fdca26"
            ],
            [
             1,
             "#f0f921"
            ]
           ],
           "sequentialminus": [
            [
             0,
             "#0d0887"
            ],
            [
             0.1111111111111111,
             "#46039f"
            ],
            [
             0.2222222222222222,
             "#7201a8"
            ],
            [
             0.3333333333333333,
             "#9c179e"
            ],
            [
             0.4444444444444444,
             "#bd3786"
            ],
            [
             0.5555555555555556,
             "#d8576b"
            ],
            [
             0.6666666666666666,
             "#ed7953"
            ],
            [
             0.7777777777777778,
             "#fb9f3a"
            ],
            [
             0.8888888888888888,
             "#fdca26"
            ],
            [
             1,
             "#f0f921"
            ]
           ]
          },
          "colorway": [
           "#636efa",
           "#EF553B",
           "#00cc96",
           "#ab63fa",
           "#FFA15A",
           "#19d3f3",
           "#FF6692",
           "#B6E880",
           "#FF97FF",
           "#FECB52"
          ],
          "font": {
           "color": "#2a3f5f"
          },
          "geo": {
           "bgcolor": "white",
           "lakecolor": "white",
           "landcolor": "#E5ECF6",
           "showlakes": true,
           "showland": true,
           "subunitcolor": "white"
          },
          "hoverlabel": {
           "align": "left"
          },
          "hovermode": "closest",
          "mapbox": {
           "style": "light"
          },
          "paper_bgcolor": "white",
          "plot_bgcolor": "#E5ECF6",
          "polar": {
           "angularaxis": {
            "gridcolor": "white",
            "linecolor": "white",
            "ticks": ""
           },
           "bgcolor": "#E5ECF6",
           "radialaxis": {
            "gridcolor": "white",
            "linecolor": "white",
            "ticks": ""
           }
          },
          "scene": {
           "xaxis": {
            "backgroundcolor": "#E5ECF6",
            "gridcolor": "white",
            "gridwidth": 2,
            "linecolor": "white",
            "showbackground": true,
            "ticks": "",
            "zerolinecolor": "white"
           },
           "yaxis": {
            "backgroundcolor": "#E5ECF6",
            "gridcolor": "white",
            "gridwidth": 2,
            "linecolor": "white",
            "showbackground": true,
            "ticks": "",
            "zerolinecolor": "white"
           },
           "zaxis": {
            "backgroundcolor": "#E5ECF6",
            "gridcolor": "white",
            "gridwidth": 2,
            "linecolor": "white",
            "showbackground": true,
            "ticks": "",
            "zerolinecolor": "white"
           }
          },
          "shapedefaults": {
           "line": {
            "color": "#2a3f5f"
           }
          },
          "ternary": {
           "aaxis": {
            "gridcolor": "white",
            "linecolor": "white",
            "ticks": ""
           },
           "baxis": {
            "gridcolor": "white",
            "linecolor": "white",
            "ticks": ""
           },
           "bgcolor": "#E5ECF6",
           "caxis": {
            "gridcolor": "white",
            "linecolor": "white",
            "ticks": ""
           }
          },
          "title": {
           "x": 0.05
          },
          "xaxis": {
           "automargin": true,
           "gridcolor": "white",
           "linecolor": "white",
           "ticks": "",
           "title": {
            "standoff": 15
           },
           "zerolinecolor": "white",
           "zerolinewidth": 2
          },
          "yaxis": {
           "automargin": true,
           "gridcolor": "white",
           "linecolor": "white",
           "ticks": "",
           "title": {
            "standoff": 15
           },
           "zerolinecolor": "white",
           "zerolinewidth": 2
          }
         }
        }
       }
      },
      "image/png": "[encoded data removed]",
      "text/html": [
       "<div>                            <div id=\"539944e6-23bf-487c-b495-0c497aa5b48b\" class=\"plotly-graph-div\" style=\"height:525px; width:100%;\"></div>            <script type=\"text/javascript\">                require([\"plotly\"], function(Plotly) {                    window.PLOTLYENV=window.PLOTLYENV || {};                                    if (document.getElementById(\"539944e6-23bf-487c-b495-0c497aa5b48b\")) {                    Plotly.newPlot(                        \"539944e6-23bf-487c-b495-0c497aa5b48b\",                        [{\"coloraxis\":\"coloraxis\",\"geo\":\"geo\",\"hovertemplate\":\"\\u003cb\\u003e%{hovertext}\\u003c\\u002fb\\u003e\\u003cbr\\u003e\\u003cbr\\u003eState=%{location}\\u003cbr\\u003eNo of vehicles=%{z}\\u003cextra\\u003e\\u003c\\u002fextra\\u003e\",\"hovertext\":[112348.0,76.0,36.0,26.0,14.0,9.0,8.0,7.0,7.0,6.0,6.0,6.0,6.0,6.0,5.0,5.0,5.0,4.0,4.0,4.0,4.0,3.0,3.0,3.0,3.0,3.0,3.0,3.0,2.0,2.0,2.0,2.0,1.0,1.0,1.0,1.0,1.0,1.0,1.0,1.0,1.0,1.0,1.0,1.0,1.0],\"locationmode\":\"USA-states\",\"locations\":[\"WA\",\"CA\",\"VA\",\"MD\",\"TX\",\"CO\",\"NV\",\"GA\",\"NC\",\"CT\",\"DC\",\"FL\",\"AZ\",\"IL\",\"SC\",\"OR\",\"NE\",\"HI\",\"UT\",\"AR\",\"NY\",\"TN\",\"KS\",\"MO\",\"PA\",\"MA\",\"LA\",\"NJ\",\"NH\",\"OH\",\"WY\",\"ID\",\"KY\",\"RI\",\"ME\",\"MN\",\"SD\",\"WI\",\"NM\",\"AK\",\"MS\",\"AL\",\"DE\",\"OK\",\"ND\"],\"name\":\"\",\"z\":[112348,76,36,26,14,9,8,7,7,6,6,6,6,6,5,5,5,4,4,4,4,3,3,3,3,3,3,3,2,2,2,2,1,1,1,1,1,1,1,1,1,1,1,1,1],\"type\":\"choropleth\"}],                        {\"template\":{\"data\":{\"histogram2dcontour\":[{\"type\":\"histogram2dcontour\",\"colorbar\":{\"outlinewidth\":0,\"ticks\":\"\"},\"colorscale\":[[0.0,\"#0d0887\"],[0.1111111111111111,\"#46039f\"],[0.2222222222222222,\"#7201a8\"],[0.3333333333333333,\"#9c179e\"],[0.4444444444444444,\"#bd3786\"],[0.5555555555555556,\"#d8576b\"],[0.6666666666666666,\"#ed7953\"],[0.7777777777777778,\"#fb9f3a\"],[0.8888888888888888,\"#fdca26\"],[1.0,\"#f0f921\"]]}],\"choropleth\":[{\"type\":\"choropleth\",\"colorbar\":{\"outlinewidth\":0,\"ticks\":\"\"}}],\"histogram2d\":[{\"type\":\"histogram2d\",\"colorbar\":{\"outlinewidth\":0,\"ticks\":\"\"},\"colorscale\":[[0.0,\"#0d0887\"],[0.1111111111111111,\"#46039f\"],[0.2222222222222222,\"#7201a8\"],[0.3333333333333333,\"#9c179e\"],[0.4444444444444444,\"#bd3786\"],[0.5555555555555556,\"#d8576b\"],[0.6666666666666666,\"#ed7953\"],[0.7777777777777778,\"#fb9f3a\"],[0.8888888888888888,\"#fdca26\"],[1.0,\"#f0f921\"]]}],\"heatmap\":[{\"type\":\"heatmap\",\"colorbar\":{\"outlinewidth\":0,\"ticks\":\"\"},\"colorscale\":[[0.0,\"#0d0887\"],[0.1111111111111111,\"#46039f\"],[0.2222222222222222,\"#7201a8\"],[0.3333333333333333,\"#9c179e\"],[0.4444444444444444,\"#bd3786\"],[0.5555555555555556,\"#d8576b\"],[0.6666666666666666,\"#ed7953\"],[0.7777777777777778,\"#fb9f3a\"],[0.8888888888888888,\"#fdca26\"],[1.0,\"#f0f921\"]]}],\"heatmapgl\":[{\"type\":\"heatmapgl\",\"colorbar\":{\"outlinewidth\":0,\"ticks\":\"\"},\"colorscale\":[[0.0,\"#0d0887\"],[0.1111111111111111,\"#46039f\"],[0.2222222222222222,\"#7201a8\"],[0.3333333333333333,\"#9c179e\"],[0.4444444444444444,\"#bd3786\"],[0.5555555555555556,\"#d8576b\"],[0.6666666666666666,\"#ed7953\"],[0.7777777777777778,\"#fb9f3a\"],[0.8888888888888888,\"#fdca26\"],[1.0,\"#f0f921\"]]}],\"contourcarpet\":[{\"type\":\"contourcarpet\",\"colorbar\":{\"outlinewidth\":0,\"ticks\":\"\"}}],\"contour\":[{\"type\":\"contour\",\"colorbar\":{\"outlinewidth\":0,\"ticks\":\"\"},\"colorscale\":[[0.0,\"#0d0887\"],[0.1111111111111111,\"#46039f\"],[0.2222222222222222,\"#7201a8\"],[0.3333333333333333,\"#9c179e\"],[0.4444444444444444,\"#bd3786\"],[0.5555555555555556,\"#d8576b\"],[0.6666666666666666,\"#ed7953\"],[0.7777777777777778,\"#fb9f3a\"],[0.8888888888888888,\"#fdca26\"],[1.0,\"#f0f921\"]]}],\"surface\":[{\"type\":\"surface\",\"colorbar\":{\"outlinewidth\":0,\"ticks\":\"\"},\"colorscale\":[[0.0,\"#0d0887\"],[0.1111111111111111,\"#46039f\"],[0.2222222222222222,\"#7201a8\"],[0.3333333333333333,\"#9c179e\"],[0.4444444444444444,\"#bd3786\"],[0.5555555555555556,\"#d8576b\"],[0.6666666666666666,\"#ed7953\"],[0.7777777777777778,\"#fb9f3a\"],[0.8888888888888888,\"#fdca26\"],[1.0,\"#f0f921\"]]}],\"mesh3d\":[{\"type\":\"mesh3d\",\"colorbar\":{\"outlinewidth\":0,\"ticks\":\"\"}}],\"scatter\":[{\"fillpattern\":{\"fillmode\":\"overlay\",\"size\":10,\"solidity\":0.2},\"type\":\"scatter\"}],\"parcoords\":[{\"type\":\"parcoords\",\"line\":{\"colorbar\":{\"outlinewidth\":0,\"ticks\":\"\"}}}],\"scatterpolargl\":[{\"type\":\"scatterpolargl\",\"marker\":{\"colorbar\":{\"outlinewidth\":0,\"ticks\":\"\"}}}],\"bar\":[{\"error_x\":{\"color\":\"#2a3f5f\"},\"error_y\":{\"color\":\"#2a3f5f\"},\"marker\":{\"line\":{\"color\":\"#E5ECF6\",\"width\":0.5},\"pattern\":{\"fillmode\":\"overlay\",\"size\":10,\"solidity\":0.2}},\"type\":\"bar\"}],\"scattergeo\":[{\"type\":\"scattergeo\",\"marker\":{\"colorbar\":{\"outlinewidth\":0,\"ticks\":\"\"}}}],\"scatterpolar\":[{\"type\":\"scatterpolar\",\"marker\":{\"colorbar\":{\"outlinewidth\":0,\"ticks\":\"\"}}}],\"histogram\":[{\"marker\":{\"pattern\":{\"fillmode\":\"overlay\",\"size\":10,\"solidity\":0.2}},\"type\":\"histogram\"}],\"scattergl\":[{\"type\":\"scattergl\",\"marker\":{\"colorbar\":{\"outlinewidth\":0,\"ticks\":\"\"}}}],\"scatter3d\":[{\"type\":\"scatter3d\",\"line\":{\"colorbar\":{\"outlinewidth\":0,\"ticks\":\"\"}},\"marker\":{\"colorbar\":{\"outlinewidth\":0,\"ticks\":\"\"}}}],\"scattermapbox\":[{\"type\":\"scattermapbox\",\"marker\":{\"colorbar\":{\"outlinewidth\":0,\"ticks\":\"\"}}}],\"scatterternary\":[{\"type\":\"scatterternary\",\"marker\":{\"colorbar\":{\"outlinewidth\":0,\"ticks\":\"\"}}}],\"scattercarpet\":[{\"type\":\"scattercarpet\",\"marker\":{\"colorbar\":{\"outlinewidth\":0,\"ticks\":\"\"}}}],\"carpet\":[{\"aaxis\":{\"endlinecolor\":\"#2a3f5f\",\"gridcolor\":\"white\",\"linecolor\":\"white\",\"minorgridcolor\":\"white\",\"startlinecolor\":\"#2a3f5f\"},\"baxis\":{\"endlinecolor\":\"#2a3f5f\",\"gridcolor\":\"white\",\"linecolor\":\"white\",\"minorgridcolor\":\"white\",\"startlinecolor\":\"#2a3f5f\"},\"type\":\"carpet\"}],\"table\":[{\"cells\":{\"fill\":{\"color\":\"#EBF0F8\"},\"line\":{\"color\":\"white\"}},\"header\":{\"fill\":{\"color\":\"#C8D4E3\"},\"line\":{\"color\":\"white\"}},\"type\":\"table\"}],\"barpolar\":[{\"marker\":{\"line\":{\"color\":\"#E5ECF6\",\"width\":0.5},\"pattern\":{\"fillmode\":\"overlay\",\"size\":10,\"solidity\":0.2}},\"type\":\"barpolar\"}],\"pie\":[{\"automargin\":true,\"type\":\"pie\"}]},\"layout\":{\"autotypenumbers\":\"strict\",\"colorway\":[\"#636efa\",\"#EF553B\",\"#00cc96\",\"#ab63fa\",\"#FFA15A\",\"#19d3f3\",\"#FF6692\",\"#B6E880\",\"#FF97FF\",\"#FECB52\"],\"font\":{\"color\":\"#2a3f5f\"},\"hovermode\":\"closest\",\"hoverlabel\":{\"align\":\"left\"},\"paper_bgcolor\":\"white\",\"plot_bgcolor\":\"#E5ECF6\",\"polar\":{\"bgcolor\":\"#E5ECF6\",\"angularaxis\":{\"gridcolor\":\"white\",\"linecolor\":\"white\",\"ticks\":\"\"},\"radialaxis\":{\"gridcolor\":\"white\",\"linecolor\":\"white\",\"ticks\":\"\"}},\"ternary\":{\"bgcolor\":\"#E5ECF6\",\"aaxis\":{\"gridcolor\":\"white\",\"linecolor\":\"white\",\"ticks\":\"\"},\"baxis\":{\"gridcolor\":\"white\",\"linecolor\":\"white\",\"ticks\":\"\"},\"caxis\":{\"gridcolor\":\"white\",\"linecolor\":\"white\",\"ticks\":\"\"}},\"coloraxis\":{\"colorbar\":{\"outlinewidth\":0,\"ticks\":\"\"}},\"colorscale\":{\"sequential\":[[0.0,\"#0d0887\"],[0.1111111111111111,\"#46039f\"],[0.2222222222222222,\"#7201a8\"],[0.3333333333333333,\"#9c179e\"],[0.4444444444444444,\"#bd3786\"],[0.5555555555555556,\"#d8576b\"],[0.6666666666666666,\"#ed7953\"],[0.7777777777777778,\"#fb9f3a\"],[0.8888888888888888,\"#fdca26\"],[1.0,\"#f0f921\"]],\"sequentialminus\":[[0.0,\"#0d0887\"],[0.1111111111111111,\"#46039f\"],[0.2222222222222222,\"#7201a8\"],[0.3333333333333333,\"#9c179e\"],[0.4444444444444444,\"#bd3786\"],[0.5555555555555556,\"#d8576b\"],[0.6666666666666666,\"#ed7953\"],[0.7777777777777778,\"#fb9f3a\"],[0.8888888888888888,\"#fdca26\"],[1.0,\"#f0f921\"]],\"diverging\":[[0,\"#8e0152\"],[0.1,\"#c51b7d\"],[0.2,\"#de77ae\"],[0.3,\"#f1b6da\"],[0.4,\"#fde0ef\"],[0.5,\"#f7f7f7\"],[0.6,\"#e6f5d0\"],[0.7,\"#b8e186\"],[0.8,\"#7fbc41\"],[0.9,\"#4d9221\"],[1,\"#276419\"]]},\"xaxis\":{\"gridcolor\":\"white\",\"linecolor\":\"white\",\"ticks\":\"\",\"title\":{\"standoff\":15},\"zerolinecolor\":\"white\",\"automargin\":true,\"zerolinewidth\":2},\"yaxis\":{\"gridcolor\":\"white\",\"linecolor\":\"white\",\"ticks\":\"\",\"title\":{\"standoff\":15},\"zerolinecolor\":\"white\",\"automargin\":true,\"zerolinewidth\":2},\"scene\":{\"xaxis\":{\"backgroundcolor\":\"#E5ECF6\",\"gridcolor\":\"white\",\"linecolor\":\"white\",\"showbackground\":true,\"ticks\":\"\",\"zerolinecolor\":\"white\",\"gridwidth\":2},\"yaxis\":{\"backgroundcolor\":\"#E5ECF6\",\"gridcolor\":\"white\",\"linecolor\":\"white\",\"showbackground\":true,\"ticks\":\"\",\"zerolinecolor\":\"white\",\"gridwidth\":2},\"zaxis\":{\"backgroundcolor\":\"#E5ECF6\",\"gridcolor\":\"white\",\"linecolor\":\"white\",\"showbackground\":true,\"ticks\":\"\",\"zerolinecolor\":\"white\",\"gridwidth\":2}},\"shapedefaults\":{\"line\":{\"color\":\"#2a3f5f\"}},\"annotationdefaults\":{\"arrowcolor\":\"#2a3f5f\",\"arrowhead\":0,\"arrowwidth\":1},\"geo\":{\"bgcolor\":\"white\",\"landcolor\":\"#E5ECF6\",\"subunitcolor\":\"white\",\"showland\":true,\"showlakes\":true,\"lakecolor\":\"white\"},\"title\":{\"x\":0.05},\"mapbox\":{\"style\":\"light\"}}},\"geo\":{\"domain\":{\"x\":[0.0,1.0],\"y\":[0.0,1.0]},\"center\":{},\"scope\":\"usa\"},\"coloraxis\":{\"colorbar\":{\"title\":{\"text\":\"No of vehicles\"}},\"colorscale\":[[0.0,\"#0d0887\"],[0.1111111111111111,\"#46039f\"],[0.2222222222222222,\"#7201a8\"],[0.3333333333333333,\"#9c179e\"],[0.4444444444444444,\"#bd3786\"],[0.5555555555555556,\"#d8576b\"],[0.6666666666666666,\"#ed7953\"],[0.7777777777777778,\"#fb9f3a\"],[0.8888888888888888,\"#fdca26\"],[1.0,\"#f0f921\"]]},\"legend\":{\"tracegroupgap\":0},\"margin\":{\"t\":60}},                        {\"responsive\": true}                    ).then(function(){\n",
       "                            \n",
       "var gd = document.getElementById('539944e6-23bf-487c-b495-0c497aa5b48b');\n",
       "var x = new MutationObserver(function (mutations, observer) {{\n",
       "        var display = window.getComputedStyle(gd).display;\n",
       "        if (!display || display === 'none') {{\n",
       "            console.log([gd, 'removed!']);\n",
       "            Plotly.purge(gd);\n",
       "            observer.disconnect();\n",
       "        }}\n",
       "}});\n",
       "\n",
       "// Listen for the removal of the full notebook cells\n",
       "var notebookContainer = gd.closest('#notebook-container');\n",
       "if (notebookContainer) {{\n",
       "    x.observe(notebookContainer, {childList: true});\n",
       "}}\n",
       "\n",
       "// Listen for the clearing of the current output cell\n",
       "var outputEl = gd.closest('.output');\n",
       "if (outputEl) {{\n",
       "    x.observe(outputEl, {childList: true});\n",
       "}}\n",
       "\n",
       "                        })                };                });            </script>        </div>"
      ]
     },
     "metadata": {},
     "output_type": "display_data"
    }
   ],
   "source": [
    "fig =px.choropleth(df_state,locations='State',color='No of vehicles',locationmode='USA-states',scope=\"usa\",hover_name='No of vehicles')\n",
    "fig.show()"
   ]
  },
  {
   "cell_type": "code",
   "execution_count": 176,
   "id": "3821eedd-ca34-4759-a673-83a6e3324b3a",
   "metadata": {},
   "outputs": [],
   "source": [
    "#since most of the vehicles are located in washington we need to download and use json file of the washington state to plot a choropleth map or\n",
    "#we have longitude and latitudes we can use them for plot"
   ]
  },
  {
   "cell_type": "code",
   "execution_count": 194,
   "id": "8e1f8299-20f1-44cf-8e51-4a3d6933ac82",
   "metadata": {},
   "outputs": [],
   "source": [
    "df_city =df_wa.groupby(['City']).size().reset_index(name='No of vehicles')"
   ]
  },
  {
   "cell_type": "code",
   "execution_count": 196,
   "id": "76553a89-4648-48b8-aca6-96a9b42438f0",
   "metadata": {},
   "outputs": [
    {
     "data": {
      "text/html": [
       "<div>\n",
       "<style scoped>\n",
       "    .dataframe tbody tr th:only-of-type {\n",
       "        vertical-align: middle;\n",
       "    }\n",
       "\n",
       "    .dataframe tbody tr th {\n",
       "        vertical-align: top;\n",
       "    }\n",
       "\n",
       "    .dataframe thead th {\n",
       "        text-align: right;\n",
       "    }\n",
       "</style>\n",
       "<table border=\"1\" class=\"dataframe\">\n",
       "  <thead>\n",
       "    <tr style=\"text-align: right;\">\n",
       "      <th></th>\n",
       "      <th>City</th>\n",
       "      <th>No of vehicles</th>\n",
       "    </tr>\n",
       "  </thead>\n",
       "  <tbody>\n",
       "    <tr>\n",
       "      <th>0</th>\n",
       "      <td>Aberdeen</td>\n",
       "      <td>99</td>\n",
       "    </tr>\n",
       "    <tr>\n",
       "      <th>1</th>\n",
       "      <td>Acme</td>\n",
       "      <td>6</td>\n",
       "    </tr>\n",
       "    <tr>\n",
       "      <th>2</th>\n",
       "      <td>Addy</td>\n",
       "      <td>3</td>\n",
       "    </tr>\n",
       "    <tr>\n",
       "      <th>3</th>\n",
       "      <td>Airway Heights</td>\n",
       "      <td>16</td>\n",
       "    </tr>\n",
       "    <tr>\n",
       "      <th>4</th>\n",
       "      <td>Algona</td>\n",
       "      <td>24</td>\n",
       "    </tr>\n",
       "    <tr>\n",
       "      <th>...</th>\n",
       "      <td>...</td>\n",
       "      <td>...</td>\n",
       "    </tr>\n",
       "    <tr>\n",
       "      <th>435</th>\n",
       "      <td>Yacolt</td>\n",
       "      <td>29</td>\n",
       "    </tr>\n",
       "    <tr>\n",
       "      <th>436</th>\n",
       "      <td>Yakima</td>\n",
       "      <td>400</td>\n",
       "    </tr>\n",
       "    <tr>\n",
       "      <th>437</th>\n",
       "      <td>Yarrow Point</td>\n",
       "      <td>116</td>\n",
       "    </tr>\n",
       "    <tr>\n",
       "      <th>438</th>\n",
       "      <td>Yelm</td>\n",
       "      <td>189</td>\n",
       "    </tr>\n",
       "    <tr>\n",
       "      <th>439</th>\n",
       "      <td>Zillah</td>\n",
       "      <td>22</td>\n",
       "    </tr>\n",
       "  </tbody>\n",
       "</table>\n",
       "<p>440 rows × 2 columns</p>\n",
       "</div>"
      ],
      "text/plain": [
       "               City  No of vehicles\n",
       "0          Aberdeen              99\n",
       "1              Acme               6\n",
       "2              Addy               3\n",
       "3    Airway Heights              16\n",
       "4            Algona              24\n",
       "..              ...             ...\n",
       "435          Yacolt              29\n",
       "436          Yakima             400\n",
       "437    Yarrow Point             116\n",
       "438            Yelm             189\n",
       "439          Zillah              22\n",
       "\n",
       "[440 rows x 2 columns]"
      ]
     },
     "execution_count": 196,
     "metadata": {},
     "output_type": "execute_result"
    }
   ],
   "source": [
    "df_city"
   ]
  },
  {
   "cell_type": "code",
   "execution_count": 186,
   "id": "1452d23a-ab2f-4d92-948b-0493fe4ecc81",
   "metadata": {},
   "outputs": [],
   "source": [
    "df_Lat =df_wa.groupby('City')['Lat'].agg(lambda x: x.mode()).reset_index(name='Lat')"
   ]
  },
  {
   "cell_type": "code",
   "execution_count": 188,
   "id": "e33204cf-328c-411f-a023-f9b73e34d3a9",
   "metadata": {},
   "outputs": [
    {
     "data": {
      "text/html": [
       "<div>\n",
       "<style scoped>\n",
       "    .dataframe tbody tr th:only-of-type {\n",
       "        vertical-align: middle;\n",
       "    }\n",
       "\n",
       "    .dataframe tbody tr th {\n",
       "        vertical-align: top;\n",
       "    }\n",
       "\n",
       "    .dataframe thead th {\n",
       "        text-align: right;\n",
       "    }\n",
       "</style>\n",
       "<table border=\"1\" class=\"dataframe\">\n",
       "  <thead>\n",
       "    <tr style=\"text-align: right;\">\n",
       "      <th></th>\n",
       "      <th>City</th>\n",
       "      <th>Lat</th>\n",
       "    </tr>\n",
       "  </thead>\n",
       "  <tbody>\n",
       "    <tr>\n",
       "      <th>0</th>\n",
       "      <td>Aberdeen</td>\n",
       "      <td>46.97606</td>\n",
       "    </tr>\n",
       "    <tr>\n",
       "      <th>1</th>\n",
       "      <td>Acme</td>\n",
       "      <td>48.71768</td>\n",
       "    </tr>\n",
       "    <tr>\n",
       "      <th>2</th>\n",
       "      <td>Addy</td>\n",
       "      <td>48.35609</td>\n",
       "    </tr>\n",
       "    <tr>\n",
       "      <th>3</th>\n",
       "      <td>Airway Heights</td>\n",
       "      <td>47.6443</td>\n",
       "    </tr>\n",
       "    <tr>\n",
       "      <th>4</th>\n",
       "      <td>Algona</td>\n",
       "      <td>47.3074</td>\n",
       "    </tr>\n",
       "    <tr>\n",
       "      <th>...</th>\n",
       "      <td>...</td>\n",
       "      <td>...</td>\n",
       "    </tr>\n",
       "    <tr>\n",
       "      <th>435</th>\n",
       "      <td>Yacolt</td>\n",
       "      <td>45.86679</td>\n",
       "    </tr>\n",
       "    <tr>\n",
       "      <th>436</th>\n",
       "      <td>Yakima</td>\n",
       "      <td>46.58514</td>\n",
       "    </tr>\n",
       "    <tr>\n",
       "      <th>437</th>\n",
       "      <td>Yarrow Point</td>\n",
       "      <td>47.61001</td>\n",
       "    </tr>\n",
       "    <tr>\n",
       "      <th>438</th>\n",
       "      <td>Yelm</td>\n",
       "      <td>46.94239</td>\n",
       "    </tr>\n",
       "    <tr>\n",
       "      <th>439</th>\n",
       "      <td>Zillah</td>\n",
       "      <td>46.40186</td>\n",
       "    </tr>\n",
       "  </tbody>\n",
       "</table>\n",
       "<p>440 rows × 2 columns</p>\n",
       "</div>"
      ],
      "text/plain": [
       "               City       Lat\n",
       "0          Aberdeen  46.97606\n",
       "1              Acme  48.71768\n",
       "2              Addy  48.35609\n",
       "3    Airway Heights   47.6443\n",
       "4            Algona   47.3074\n",
       "..              ...       ...\n",
       "435          Yacolt  45.86679\n",
       "436          Yakima  46.58514\n",
       "437    Yarrow Point  47.61001\n",
       "438            Yelm  46.94239\n",
       "439          Zillah  46.40186\n",
       "\n",
       "[440 rows x 2 columns]"
      ]
     },
     "execution_count": 188,
     "metadata": {},
     "output_type": "execute_result"
    }
   ],
   "source": [
    "df_Lat"
   ]
  },
  {
   "cell_type": "code",
   "execution_count": 190,
   "id": "aa682a80-d197-45ee-8728-8a32680df9d9",
   "metadata": {},
   "outputs": [],
   "source": [
    "df_Lon =df_wa.groupby('City')['Lon'].agg(lambda x: x.mode()).reset_index(name='Lon')"
   ]
  },
  {
   "cell_type": "code",
   "execution_count": 192,
   "id": "c9124261-ccbd-4103-9c6b-2850234c513f",
   "metadata": {},
   "outputs": [
    {
     "data": {
      "text/html": [
       "<div>\n",
       "<style scoped>\n",
       "    .dataframe tbody tr th:only-of-type {\n",
       "        vertical-align: middle;\n",
       "    }\n",
       "\n",
       "    .dataframe tbody tr th {\n",
       "        vertical-align: top;\n",
       "    }\n",
       "\n",
       "    .dataframe thead th {\n",
       "        text-align: right;\n",
       "    }\n",
       "</style>\n",
       "<table border=\"1\" class=\"dataframe\">\n",
       "  <thead>\n",
       "    <tr style=\"text-align: right;\">\n",
       "      <th></th>\n",
       "      <th>City</th>\n",
       "      <th>Lon</th>\n",
       "    </tr>\n",
       "  </thead>\n",
       "  <tbody>\n",
       "    <tr>\n",
       "      <th>0</th>\n",
       "      <td>Aberdeen</td>\n",
       "      <td>-123.81619</td>\n",
       "    </tr>\n",
       "    <tr>\n",
       "      <th>1</th>\n",
       "      <td>Acme</td>\n",
       "      <td>-122.20348</td>\n",
       "    </tr>\n",
       "    <tr>\n",
       "      <th>2</th>\n",
       "      <td>Addy</td>\n",
       "      <td>-117.8379</td>\n",
       "    </tr>\n",
       "    <tr>\n",
       "      <th>3</th>\n",
       "      <td>Airway Heights</td>\n",
       "      <td>-117.59311</td>\n",
       "    </tr>\n",
       "    <tr>\n",
       "      <th>4</th>\n",
       "      <td>Algona</td>\n",
       "      <td>-122.23035</td>\n",
       "    </tr>\n",
       "    <tr>\n",
       "      <th>...</th>\n",
       "      <td>...</td>\n",
       "      <td>...</td>\n",
       "    </tr>\n",
       "    <tr>\n",
       "      <th>435</th>\n",
       "      <td>Yacolt</td>\n",
       "      <td>-122.40908</td>\n",
       "    </tr>\n",
       "    <tr>\n",
       "      <th>436</th>\n",
       "      <td>Yakima</td>\n",
       "      <td>-120.56916</td>\n",
       "    </tr>\n",
       "    <tr>\n",
       "      <th>437</th>\n",
       "      <td>Yarrow Point</td>\n",
       "      <td>-122.1872</td>\n",
       "    </tr>\n",
       "    <tr>\n",
       "      <th>438</th>\n",
       "      <td>Yelm</td>\n",
       "      <td>-122.60735</td>\n",
       "    </tr>\n",
       "    <tr>\n",
       "      <th>439</th>\n",
       "      <td>Zillah</td>\n",
       "      <td>-120.26186</td>\n",
       "    </tr>\n",
       "  </tbody>\n",
       "</table>\n",
       "<p>440 rows × 2 columns</p>\n",
       "</div>"
      ],
      "text/plain": [
       "               City        Lon\n",
       "0          Aberdeen -123.81619\n",
       "1              Acme -122.20348\n",
       "2              Addy  -117.8379\n",
       "3    Airway Heights -117.59311\n",
       "4            Algona -122.23035\n",
       "..              ...        ...\n",
       "435          Yacolt -122.40908\n",
       "436          Yakima -120.56916\n",
       "437    Yarrow Point  -122.1872\n",
       "438            Yelm -122.60735\n",
       "439          Zillah -120.26186\n",
       "\n",
       "[440 rows x 2 columns]"
      ]
     },
     "execution_count": 192,
     "metadata": {},
     "output_type": "execute_result"
    }
   ],
   "source": [
    "df_Lon"
   ]
  },
  {
   "cell_type": "code",
   "execution_count": 204,
   "id": "64af8223-d4a5-4775-94e3-fababb415389",
   "metadata": {},
   "outputs": [],
   "source": [
    "df_merged = df_city.merge(df_Lat, on='City', how='inner').merge(df_Lon, on='City', how='inner')"
   ]
  },
  {
   "cell_type": "code",
   "execution_count": 206,
   "id": "8bdb1985-0d30-4078-a540-e6925d359d1a",
   "metadata": {},
   "outputs": [
    {
     "data": {
      "text/html": [
       "<div>\n",
       "<style scoped>\n",
       "    .dataframe tbody tr th:only-of-type {\n",
       "        vertical-align: middle;\n",
       "    }\n",
       "\n",
       "    .dataframe tbody tr th {\n",
       "        vertical-align: top;\n",
       "    }\n",
       "\n",
       "    .dataframe thead th {\n",
       "        text-align: right;\n",
       "    }\n",
       "</style>\n",
       "<table border=\"1\" class=\"dataframe\">\n",
       "  <thead>\n",
       "    <tr style=\"text-align: right;\">\n",
       "      <th></th>\n",
       "      <th>City</th>\n",
       "      <th>No of vehicles</th>\n",
       "      <th>Lat</th>\n",
       "      <th>Lon</th>\n",
       "    </tr>\n",
       "  </thead>\n",
       "  <tbody>\n",
       "    <tr>\n",
       "      <th>0</th>\n",
       "      <td>Aberdeen</td>\n",
       "      <td>99</td>\n",
       "      <td>46.97606</td>\n",
       "      <td>-123.81619</td>\n",
       "    </tr>\n",
       "    <tr>\n",
       "      <th>1</th>\n",
       "      <td>Acme</td>\n",
       "      <td>6</td>\n",
       "      <td>48.71768</td>\n",
       "      <td>-122.20348</td>\n",
       "    </tr>\n",
       "    <tr>\n",
       "      <th>2</th>\n",
       "      <td>Addy</td>\n",
       "      <td>3</td>\n",
       "      <td>48.35609</td>\n",
       "      <td>-117.8379</td>\n",
       "    </tr>\n",
       "    <tr>\n",
       "      <th>3</th>\n",
       "      <td>Airway Heights</td>\n",
       "      <td>16</td>\n",
       "      <td>47.6443</td>\n",
       "      <td>-117.59311</td>\n",
       "    </tr>\n",
       "    <tr>\n",
       "      <th>4</th>\n",
       "      <td>Algona</td>\n",
       "      <td>24</td>\n",
       "      <td>47.3074</td>\n",
       "      <td>-122.23035</td>\n",
       "    </tr>\n",
       "    <tr>\n",
       "      <th>...</th>\n",
       "      <td>...</td>\n",
       "      <td>...</td>\n",
       "      <td>...</td>\n",
       "      <td>...</td>\n",
       "    </tr>\n",
       "    <tr>\n",
       "      <th>435</th>\n",
       "      <td>Yacolt</td>\n",
       "      <td>29</td>\n",
       "      <td>45.86679</td>\n",
       "      <td>-122.40908</td>\n",
       "    </tr>\n",
       "    <tr>\n",
       "      <th>436</th>\n",
       "      <td>Yakima</td>\n",
       "      <td>400</td>\n",
       "      <td>46.58514</td>\n",
       "      <td>-120.56916</td>\n",
       "    </tr>\n",
       "    <tr>\n",
       "      <th>437</th>\n",
       "      <td>Yarrow Point</td>\n",
       "      <td>116</td>\n",
       "      <td>47.61001</td>\n",
       "      <td>-122.1872</td>\n",
       "    </tr>\n",
       "    <tr>\n",
       "      <th>438</th>\n",
       "      <td>Yelm</td>\n",
       "      <td>189</td>\n",
       "      <td>46.94239</td>\n",
       "      <td>-122.60735</td>\n",
       "    </tr>\n",
       "    <tr>\n",
       "      <th>439</th>\n",
       "      <td>Zillah</td>\n",
       "      <td>22</td>\n",
       "      <td>46.40186</td>\n",
       "      <td>-120.26186</td>\n",
       "    </tr>\n",
       "  </tbody>\n",
       "</table>\n",
       "<p>440 rows × 4 columns</p>\n",
       "</div>"
      ],
      "text/plain": [
       "               City  No of vehicles       Lat        Lon\n",
       "0          Aberdeen              99  46.97606 -123.81619\n",
       "1              Acme               6  48.71768 -122.20348\n",
       "2              Addy               3  48.35609  -117.8379\n",
       "3    Airway Heights              16   47.6443 -117.59311\n",
       "4            Algona              24   47.3074 -122.23035\n",
       "..              ...             ...       ...        ...\n",
       "435          Yacolt              29  45.86679 -122.40908\n",
       "436          Yakima             400  46.58514 -120.56916\n",
       "437    Yarrow Point             116  47.61001  -122.1872\n",
       "438            Yelm             189  46.94239 -122.60735\n",
       "439          Zillah              22  46.40186 -120.26186\n",
       "\n",
       "[440 rows x 4 columns]"
      ]
     },
     "execution_count": 206,
     "metadata": {},
     "output_type": "execute_result"
    }
   ],
   "source": [
    "df_merged"
   ]
  },
  {
   "cell_type": "code",
   "execution_count": 236,
   "id": "749055c8-89ed-49ce-a6e2-d4f53c7dd5b1",
   "metadata": {},
   "outputs": [
    {
     "data": {
      "application/vnd.plotly.v1+json": {
       "config": {
        "plotlyServerURL": "https://plot.ly"
       },
       "data": [
        {
         "geo": "geo",
         "hovertemplate": "<b>%{hovertext}</b><br><br>No of vehicles=%{marker.color}<br>Lat=%{lat}<br>Lon=%{lon}<extra></extra>",
         "hovertext": [
          "Aberdeen",
          "Acme",
          "Addy",
          "Airway Heights",
          "Algona",
          "Allyn",
          "Amanda Park",
          "Amboy",
          "Anacortes",
          "Anderson Island",
          "Ariel",
          "Arlington",
          "Artondale",
          "Ashford",
          "Asotin",
          "Auburn",
          "Bainbridge Island",
          "Baring",
          "Battle Ground",
          "Bay Center",
          "Beaux Arts",
          "Beaver",
          "Belfair",
          "Bellevue",
          "Bellingham",
          "Benton City",
          "Bingen",
          "Black Diamond",
          "Blaine",
          "Bonney Lake",
          "Bothell",
          "Bow",
          "Bremerton",
          "Brewster",
          "Bridgeport Bar",
          "Brier",
          "Brinnon",
          "Brush Prairie",
          "Buckley",
          "Bucoda",
          "Burbank",
          "Burien",
          "Burlington",
          "Bz Corner",
          "Camano Island",
          "Camas",
          "Carbonado",
          "Carlton",
          "Carnation",
          "Carrolls",
          "Carson",
          "Cashmere",
          "Castle Rock",
          "Cathlamet",
          "Centerville",
          "Centralia",
          "Chattaroy",
          "Chehalis",
          "Chelan",
          "Cheney",
          "Chewelah",
          "Chimacum",
          "Chinook",
          "Cinebar",
          "Clallam Bay",
          "Clarkston",
          "Clayton",
          "Cle Elum",
          "Clearlake",
          "Clinton",
          "Clyde Hill",
          "Colbert",
          "Colfax",
          "College Place",
          "Colton",
          "Colville",
          "Concrete",
          "Connell",
          "Copalis Beach",
          "Copalis Crossing",
          "Cosmopolis",
          "Cougar",
          "Coulee City",
          "Coulee Dam",
          "Coupeville",
          "Covington",
          "Curlew",
          "Curtis",
          "Cusick",
          "Custer",
          "Dallesport",
          "Danville",
          "Darrington",
          "Davenport",
          "Dayton",
          "Deer Meadows",
          "Deer Park",
          "Deming",
          "Des Moines",
          "Dupont",
          "Duvall",
          "East Wenatchee",
          "Easton",
          "Eastsound",
          "Eatonville",
          "Edgewood",
          "Edmonds",
          "Edwall",
          "Electric City",
          "Elk",
          "Ellensburg",
          "Elma",
          "Eltopia",
          "Endicott",
          "Entiat",
          "Enumclaw",
          "Ephrata",
          "Ethel",
          "Evans",
          "Everett",
          "Everson",
          "Fairchild Air Force Base",
          "Fairfield",
          "Fall City",
          "Federal Way",
          "Ferndale",
          "Fife",
          "Fircrest",
          "Ford",
          "Forks",
          "Fox Island",
          "Frances",
          "Freeland",
          "Friday Harbor",
          "Fruitland",
          "Garfield",
          "Gifford",
          "Gig Harbor",
          "Glacier",
          "Glenoma",
          "Glenwood",
          "Gold Bar",
          "Goldendale",
          "Graham",
          "Grand Coulee",
          "Grandview",
          "Granger",
          "Granite Falls",
          "Grapeview",
          "Grayland",
          "Grays River",
          "Greenacres",
          "Greenbank",
          "Hansville",
          "Harrington",
          "Hartline",
          "Holden Village",
          "Hoodsport",
          "Hoquiam",
          "Hunters",
          "Hunts Point",
          "Husum",
          "Ilwaco",
          "Inchelium",
          "Indianola",
          "Issaquah",
          "Joint Base Lewis Mcchord",
          "Kalama",
          "Kapowsin",
          "Kelso",
          "Kenmore",
          "Kennewick",
          "Kent",
          "Kettle Falls",
          "Keyport",
          "Kingston",
          "Kirkland",
          "Kittitas",
          "Klickitat",
          "La Center",
          "La Conner",
          "Lacey",
          "Lake Forest Park",
          "Lake Stevens",
          "Lake Tapps",
          "Lakebay",
          "Lakewood",
          "Lamont",
          "Langley",
          "Latah",
          "Leavenworth",
          "Lebam",
          "Liberty Lake",
          "Lilliwaup",
          "Lincoln",
          "Lind",
          "Long Beach",
          "Longbranch",
          "Longview",
          "Loon Lake",
          "Lopez Is",
          "Lopez Island",
          "Lummi Island",
          "Lyle",
          "Lyman",
          "Lynden",
          "Lynnwood",
          "Mabton",
          "Malaga",
          "Malott",
          "Mansfield",
          "Manson",
          "Maple Falls",
          "Maple Valley",
          "Marblemount",
          "Marlin",
          "Maryhill",
          "Marysville",
          "Matlock",
          "Mattawa",
          "Mazama",
          "McCleary",
          "Mcchord Afb",
          "Mccleary",
          "Mead",
          "Medical Lake",
          "Medina",
          "Menlo",
          "Mercer Island",
          "Mesa",
          "Methow",
          "Mica",
          "Mill Creek",
          "Milton",
          "Mineral",
          "Moclips",
          "Monroe",
          "Montesano",
          "Morton",
          "Moses Lake",
          "Mossyrock",
          "Mount Vernon",
          "Mountlake Terrace",
          "Moxee",
          "Mukilteo",
          "Murdock",
          "Naches",
          "Nahcotta",
          "Naselle",
          "Neah Bay",
          "Newcastle",
          "Newman Lake",
          "Newport",
          "Nine Mile Falls",
          "Nooksack",
          "Nordland",
          "Normandy Park",
          "North Bend",
          "North Bonneville",
          "North Cove",
          "Oak Harbor",
          "Oakville",
          "Ocean Park",
          "Ocean Shores",
          "Odessa",
          "Okanogan",
          "Olalla",
          "Olga",
          "Olympia",
          "Omak",
          "Onalaska",
          "Orcas Is",
          "Orondo",
          "Oroville",
          "Orting",
          "Othello",
          "Otis Orchards",
          "Outlook",
          "Oysterville",
          "Pacific",
          "Pacific Beach",
          "Packwood",
          "Palisades",
          "Palouse",
          "Parkland",
          "Pasco",
          "Pateros",
          "Pe Ell",
          "Peshastin",
          "Point Roberts",
          "Pomeroy",
          "Port Angeles",
          "Port Gamble",
          "Port Hadlock",
          "Port Ludlow",
          "Port Orchard",
          "Port Townsend",
          "Poulsbo",
          "Prescott",
          "Preston",
          "Prosser",
          "Pullman",
          "Puyallup",
          "Quilcene",
          "Quinault",
          "Quincy",
          "Rainier",
          "Randle",
          "Ravensdale",
          "Raymond",
          "Reardan",
          "Redmond",
          "Renton",
          "Republic",
          "Rice",
          "Richland",
          "Ridgefield",
          "Ritzville",
          "Riverside",
          "Rochester",
          "Rock Island",
          "Rockford",
          "Rockport",
          "Ronald",
          "Roosevelt",
          "Rosalia",
          "Rosburg",
          "Roslyn",
          "Roy",
          "Royal City",
          "Ruston",
          "Ryderwood",
          "Salkum",
          "Sammamish",
          "Satsop",
          "Seabeck",
          "Seatac",
          "Seattle",
          "Seaview",
          "Sedro Woolley",
          "Sedro-Woolley",
          "Sekiu",
          "Selah",
          "Sequim",
          "Seven Bays",
          "Shaw Island",
          "Shelton",
          "Shoreline",
          "Silver Creek",
          "Silverdale",
          "Silverlake",
          "Skamokawa",
          "Skykomish",
          "Smith Creek",
          "Snohomish",
          "Snoqualmie",
          "Snoqualmie Pass",
          "Snowden",
          "Soap Lake",
          "South Bend",
          "South Cle Elum",
          "South Hill",
          "South Prairie",
          "Southworth",
          "Spanaway",
          "Spangle",
          "Spokane",
          "Spokane Valley",
          "Sprague",
          "Springdale",
          "St John",
          "Stanwood",
          "Steilacoom",
          "Stevenson",
          "Stratford",
          "Sultan",
          "Sumas",
          "Sumner",
          "Sunnyside",
          "Suquamish",
          "Surfside",
          "Tacoma",
          "Taholah",
          "Tahuya",
          "Tekoa",
          "Tenino",
          "Thorp",
          "Tieton",
          "Tokeland",
          "Toledo",
          "Tonasket",
          "Toppenish",
          "Touchet",
          "Toutle",
          "Trout Lake",
          "Tukwila",
          "Tulalip",
          "Tumtum",
          "Tumwater",
          "Twisp",
          "Underwood",
          "Union",
          "Union Gap",
          "Uniontown",
          "University Place",
          "Usk",
          "Vader",
          "Valley",
          "Valleyford",
          "Vancouver",
          "Vantage",
          "Vashon",
          "Vaughn",
          "Veradale",
          "Wahkiacus",
          "Waitsburg",
          "Waldron",
          "Walla Walla",
          "Walla Walla Co",
          "Wapato",
          "Warden",
          "Washougal",
          "Waterville",
          "Wenatchee",
          "West Richland",
          "Westport",
          "White Salmon",
          "White Swan",
          "Wilbur",
          "Wilkeson",
          "Winlock",
          "Winthrop",
          "Woodinville",
          "Woodland",
          "Woodway",
          "Yacolt",
          "Yakima",
          "Yarrow Point",
          "Yelm",
          "Zillah"
         ],
         "lat": [
          46.97606,
          48.71768,
          48.35609,
          47.6443,
          47.3074,
          47.38174,
          47.45917,
          45.91958,
          48.51748,
          47.17794,
          45.98974,
          48.19471,
          47.328,
          46.75908,
          46.34056,
          47.32326,
          47.62728,
          47.77193,
          45.78092,
          [
           46.63188,
           46.66382
          ],
          47.61001,
          48.05431,
          47.45054,
          47.55584,
          48.74487,
          46.26543,
          45.71513,
          47.30893,
          48.99404,
          47.19175,
          47.83448,
          48.56045,
          47.56573,
          48.09967,
          48.09967,
          47.82557,
          47.69838,
          45.73473,
          47.16299,
          67.01865,
          46.1992,
          47.46665,
          48.46846,
          45.72776,
          48.23986,
          45.58694,
          47.08015,
          48.25448,
          47.64901,
          46.07142,
          45.72558,
          47.5224,
          46.27509,
          46.20728,
          45.75198,
          46.72894,
          47.89594,
          46.6621,
          47.83985,
          47.48928,
          48.28136,
          48.01182,
          46.27264,
          46.60409,
          48.25371,
          46.41402,
          47.99685,
          47.195,
          48.46376,
          47.9796,
          47.61001,
          47.83743,
          46.87965,
          46.03456,
          46.56801,
          48.54657,
          48.53892,
          46.66146,
          47.11487,
          47.11059,
          46.95413,
          46.04647,
          47.61233,
          47.9708,
          48.21857,
          47.33778,
          48.88101,
          46.56094,
          48.33866,
          48.91865,
          45.61623,
          48.99237,
          48.25431,
          47.65405,
          46.32189,
          47.65405,
          47.95431,
          48.8268,
          47.40139,
          47.09583,
          47.74068,
          47.41515,
          47.2378,
          48.69389,
          46.86733,
          47.18709,
          47.87166,
          47.50524,
          47.93348,
          48.01723,
          46.99703,
          47.00379,
          46.45698,
          46.92752,
          47.67562,
          47.20433,
          47.31867,
          46.53239,
          48.71331,
          47.89252,
          48.92009,
          47.64046,
          47.38522,
          47.56812,
          47.30297,
          48.84756,
          47.23679,
          47.23594,
          47.90886,
          47.95014,
          47.27375,
          46.68867,
          48.00956,
          48.53448,
          48.0784,
          47.00706,
          48.31085,
          47.328,
          48.8268,
          [
           46.53072,
           46.55465
          ],
          46.01842,
          47.85565,
          45.823,
          47.05703,
          47.94283,
          46.25606,
          46.33937,
          48.08157,
          47.32767,
          46.80933,
          46.35588,
          47.65699,
          48.08844,
          47.91795,
          47.4829,
          47.69015,
          47.83985,
          47.40639,
          46.97982,
          48.11777,
          47.61001,
          45.72776,
          46.3088,
          48.29812,
          47.7487,
          47.5301,
          47.10349,
          46.00813,
          [],
          46.14425,
          47.75892,
          46.20664,
          47.41185,
          48.61053,
          47.70251,
          47.79803,
          47.67887,
          46.98472,
          45.6939,
          45.86161,
          48.38874,
          47.04437,
          47.75736,
          48.01497,
          47.19175,
          47.25035,
          47.17997,
          47.20139,
          48.0399,
          47.27966,
          47.5982,
          46.68867,
          47.66829,
          47.47203,
          47.82937,
          46.97135,
          46.35232,
          47.21454,
          46.14681,
          48.06288,
          48.52342,
          48.52342,
          48.72043,
          45.6939,
          48.52525,
          48.9429,
          47.85727,
          46.21092,
          47.37238,
          48.3654,
          47.8118,
          47.8854,
          48.92369,
          47.39394,
          48.52739,
          47.40718,
          45.823,
          48.06114,
          47.23519,
          46.73777,
          48.59369,
          47.04946,
          47.13872,
          47.04946,
          47.7628,
          47.57261,
          47.61613,
          46.68867,
          47.57816,
          46.57833,
          48.12868,
          47.56436,
          47.83448,
          47.24898,
          46.71902,
          47.23932,
          47.8526,
          46.98384,
          46.55465,
          47.13196,
          46.52948,
          48.41644,
          47.78803,
          46.55621,
          47.89908,
          45.61623,
          46.7309,
          46.49147,
          46.36545,
          48.36778,
          47.50549,
          47.7251,
          48.18285,
          47.77676,
          48.92857,
          48.05105,
          47.46665,
          47.49348,
          45.64119,
          46.80933,
          48.29077,
          46.84077,
          46.49147,
          47.01156,
          47.33323,
          48.3654,
          47.42602,
          48.62356,
          47.03956,
          48.41078,
          46.57613,
          48.69389,
          47.62352,
          48.93881,
          47.09596,
          46.82616,
          47.70763,
          46.3294,
          46.49147,
          47.26465,
          47.20886,
          46.61019,
          47.41492,
          46.9101,
          47.16104,
          46.23542,
          48.05502,
          46.57001,
          47.56805,
          48.98867,
          46.47398,
          48.11872,
          47.73689,
          48.03591,
          47.92989,
          47.4916,
          48.1212,
          47.73689,
          46.29961,
          47.5301,
          46.20645,
          46.73015,
          47.146,
          47.82642,
          47.46807,
          47.23748,
          46.88897,
          46.53534,
          47.35298,
          46.68867,
          47.66951,
          47.67858,
          47.50549,
          48.64426,
          48.42934,
          46.27391,
          45.81539,
          47.1274,
          48.5012,
          46.82175,
          47.37163,
          47.45227,
          48.48758,
          47.23781,
          [
           45.74956,
           45.823
          ],
          47.23428,
          46.33397,
          47.22593,
          47.00328,
          46.90248,
          47.27779,
          46.37331,
          46.53186,
          47.60326,
          47.00236,
          47.64509,
          47.46155,
          47.70013,
          46.3354,
          48.50858,
          48.50858,
          48.25978,
          46.65404,
          48.07965,
          47.65405,
          48.58348,
          47.21248,
          47.71868,
          46.52793,
          47.65171,
          46.29694,
          46.2716,
          47.71192,
          46.68867,
          47.87115,
          47.52716,
          47.41873,
          45.72776,
          47.38898,
          46.66382,
          47.18891,
          47.146,
          47.13954,
          [],
          47.06512,
          47.42909,
          47.7333,
          47.6505,
          47.30036,
          48.05738,
          47.09185,
          48.24159,
          47.17303,
          45.69417,
          47.4263,
          47.8623,
          48.99956,
          47.2022,
          46.32379,
          47.73162,
          46.49147,
          47.27779,
          47.34257,
          47.37733,
          47.22679,
          46.85752,
          47.05139,
          46.70257,
          46.71227,
          46.44067,
          48.70854,
          46.37508,
          46.04238,
          46.32447,
          45.99588,
          47.50314,
          48.15353,
          47.8927,
          47.03956,
          48.3652,
          45.72902,
          47.35689,
          46.55282,
          46.53906,
          47.23594,
          48.31375,
          46.40201,
          48.17623,
          47.5353,
          45.69345,
          46.94468,
          47.44929,
          47.34347,
          47.65706,
          45.84657,
          46.27013,
          48.68843,
          46.07068,
          46.07068,
          46.44779,
          46.96971,
          45.57923,
          47.64963,
          47.41494,
          46.2969,
          46.89078,
          45.72776,
          46.38287,
          47.75942,
          [],
          46.49114,
          48.47396,
          47.75448,
          45.9094,
          47.81116,
          45.86679,
          46.58514,
          47.61001,
          46.94239,
          46.40186
         ],
         "legendgroup": "",
         "lon": [
          -123.81619,
          -122.20348,
          -117.8379,
          -117.59311,
          -122.23035,
          -122.82983,
          -123.89691,
          -122.42148,
          -122.61214,
          -122.67876,
          -122.53658,
          -122.1264,
          -122.58009,
          -122.03243,
          -117.04784,
          -122.17663,
          -122.521,
          -121.48491,
          -122.5331,
          [
           -123.95518,
           -123.81481
          ],
          -122.1872,
          -124.33152,
          -122.82764,
          -122.12096,
          -122.45516,
          -119.48756,
          -121.46623,
          -122.00143,
          -122.74888,
          -122.17144,
          -122.21061,
          -122.397,
          -122.66122,
          -119.78093,
          -119.78093,
          -122.29245,
          -122.89646,
          -122.54578,
          -122.02523,
          27.25316,
          -119.01561,
          -122.34118,
          -122.33029,
          -121.48704,
          -122.40049,
          -122.40199,
          -122.04735,
          -120.10803,
          -121.91353,
          -122.86239,
          -121.82048,
          -120.47005,
          -122.90724,
          -123.38568,
          -120.903,
          -122.95298,
          -117.35237,
          -122.96462,
          -120.01454,
          -117.57445,
          -117.71555,
          -122.77295,
          -123.94534,
          -122.49165,
          -124.26015,
          -117.04556,
          -117.57228,
          -120.93943,
          -122.23452,
          -122.35803,
          -122.1872,
          -117.35414,
          -117.36477,
          -118.38864,
          -117.12984,
          -117.90454,
          -121.7515,
          -118.86063,
          -124.16705,
          -124.07463,
          -123.76901,
          -122.30857,
          -119.28816,
          -118.97669,
          -122.68558,
          -122.09124,
          -118.60061,
          -123.13056,
          -117.30443,
          -122.64219,
          -121.14532,
          -118.50797,
          -121.60421,
          -118.14913,
          -117.97577,
          -118.14913,
          -117.47154,
          -122.21766,
          -122.29592,
          -122.62954,
          -121.98609,
          -120.29473,
          -121.17954,
          -122.91109,
          -122.26832,
          -122.28556,
          -122.31768,
          -117.95109,
          -119.03591,
          -117.27816,
          -120.54872,
          -123.40382,
          -119.01647,
          -117.68485,
          -120.20831,
          -121.99136,
          -119.55125,
          -122.7478,
          -118.02345,
          -122.18637,
          -122.34536,
          -117.64458,
          -117.17125,
          -121.89086,
          -122.35206,
          -122.59351,
          -122.35686,
          -122.5338,
          -117.80582,
          -124.38543,
          -122.65107,
          -123.72994,
          -122.52664,
          -123.01648,
          -118.19894,
          -117.13359,
          -118.13633,
          -122.58009,
          -122.21766,
          [
           -122.27511,
           -122.13017
          ],
          -121.29272,
          -121.69743,
          -120.82548,
          -122.29477,
          -119.00041,
          -119.90123,
          -120.18721,
          -121.96931,
          -122.82364,
          -124.09366,
          -123.61022,
          -117.1748,
          -122.56821,
          -122.54758,
          -118.25682,
          -119.10557,
          -120.01454,
          -123.14135,
          -123.88689,
          -118.20299,
          -122.1872,
          -121.48704,
          -124.03547,
          -118.19657,
          -122.51843,
          -122.03439,
          -122.57908,
          -122.84226,
          [],
          -122.89868,
          -122.24369,
          -119.3118,
          -122.17743,
          -118.06211,
          -122.62316,
          -122.49771,
          -122.2066,
          -120.41752,
          -121.28544,
          -122.67244,
          -122.49724,
          -122.82324,
          -122.31327,
          -122.06402,
          -122.17144,
          -122.75493,
          -122.54795,
          -117.90629,
          -122.40618,
          -117.15511,
          -120.65754,
          -123.72994,
          -117.1015,
          -123.0921,
          -118.41899,
          -118.61566,
          -124.05439,
          -122.75905,
          -122.95058,
          -117.63731,
          -122.91395,
          -122.91395,
          -122.68321,
          -121.28544,
          -122.05976,
          -122.45079,
          -122.27981,
          -119.99854,
          -120.20227,
          -119.57959,
          -119.63759,
          -120.16034,
          -122.07728,
          -122.04526,
          -121.41604,
          -118.98504,
          -120.82548,
          -122.1769,
          -123.40727,
          -119.9,
          -120.4072,
          -123.26405,
          -122.50156,
          -123.26405,
          -117.35586,
          -117.68269,
          -122.23892,
          -123.72994,
          -122.21238,
          -119.00503,
          -120.0051,
          -117.21611,
          -122.21061,
          -122.32172,
          -122.18768,
          -124.21349,
          -121.98087,
          -123.60076,
          -122.27511,
          -119.2771,
          -122.48446,
          -122.33891,
          -122.31111,
          -120.39197,
          -122.29196,
          -121.14532,
          -120.69972,
          -124.0495,
          -123.81154,
          -124.62735,
          -122.15771,
          -117.06882,
          -117.04398,
          -117.54392,
          -122.32181,
          -122.69107,
          -122.34118,
          -121.7831,
          -121.97,
          -124.09366,
          -122.64682,
          -123.23286,
          -124.0495,
          -124.16408,
          -118.68999,
          -119.57959,
          -122.54729,
          -122.8357,
          -122.89166,
          -119.52724,
          -122.69891,
          -122.91109,
          -120.22795,
          -119.43558,
          -122.20166,
          -119.1742,
          -117.11195,
          -120.08512,
          -124.0495,
          -122.24692,
          -124.20177,
          -121.66939,
          -119.9176,
          -117.0768,
          -122.37571,
          -119.09467,
          -119.89975,
          -123.29831,
          -120.60364,
          -123.05688,
          -117.58937,
          -123.4313,
          -122.64681,
          -122.75878,
          -122.68475,
          -122.65745,
          -122.77263,
          -122.64681,
          -118.31243,
          -122.03439,
          -119.76877,
          -117.18147,
          -122.28449,
          -122.8775,
          -123.84618,
          -119.85338,
          -122.68993,
          -121.95585,
          -121.98233,
          -123.72994,
          -117.87704,
          -122.13158,
          -122.15771,
          -118.73748,
          -118.16165,
          -119.27372,
          -122.74595,
          -118.37977,
          -119.50853,
          -123.08743,
          -120.14545,
          -117.13261,
          -121.59274,
          -121.02627,
          [
           -120.82548,
           -120.20117
          ],
          -117.37047,
          -123.6386,
          -120.99607,
          -122.54332,
          -119.63136,
          -122.51766,
          -123.04373,
          -122.6306,
          -122.02054,
          -123.48162,
          -122.81585,
          -122.32806,
          -122.31765,
          -124.05475,
          -122.23857,
          -122.23857,
          -124.30041,
          -120.53113,
          -123.10367,
          -118.14913,
          -122.92991,
          -123.10565,
          -122.3503,
          -122.60209,
          -122.69275,
          -122.8112,
          -123.45797,
          -121.35912,
          -123.72994,
          -122.1389,
          -121.82432,
          -121.41201,
          -121.48704,
          -119.48323,
          -123.81481,
          -120.94822,
          -122.28449,
          -122.09624,
          [],
          -122.41046,
          -117.38035,
          -117.45005,
          -117.3186,
          -117.97378,
          -117.74137,
          -117.5821,
          -122.37265,
          -122.59802,
          -121.88258,
          -119.27844,
          -121.81688,
          -122.26496,
          -122.23972,
          -120.00949,
          -122.55242,
          -124.0495,
          -122.51766,
          -124.28628,
          -123.04061,
          -117.07351,
          -122.85135,
          -120.66621,
          -120.75541,
          -123.99814,
          -122.84784,
          -119.43683,
          -120.31298,
          -118.66919,
          -122.73237,
          -121.52529,
          -122.3317,
          -122.19388,
          -117.67024,
          -122.89166,
          -120.1231,
          -121.52357,
          -123.09944,
          -120.47794,
          -117.08742,
          -122.5338,
          -117.28054,
          -122.95015,
          -117.72555,
          -117.23995,
          -122.55149,
          -119.9899,
          -122.4573,
          -122.76355,
          -117.19631,
          -121.10717,
          -118.15448,
          -123.03598,
          -118.34261,
          -118.34261,
          -120.42051,
          -119.04573,
          -122.35341,
          -120.07145,
          -120.30522,
          -119.33788,
          -124.10424,
          -121.48704,
          -120.73063,
          -118.70912,
          [],
          -122.93881,
          -120.17739,
          -122.15545,
          -122.74017,
          -122.37689,
          -122.40908,
          -120.56916,
          -122.1872,
          -122.60735,
          -120.26186
         ],
         "marker": {
          "color": [
           99,
           6,
           3,
           16,
           24,
           49,
           1,
           14,
           459,
           25,
           11,
           363,
           1,
           6,
           9,
           1173,
           1236,
           3,
           355,
           2,
           33,
           1,
           104,
           5920,
           1952,
           42,
           3,
           192,
           275,
           586,
           3335,
           75,
           805,
           6,
           1,
           154,
           16,
           199,
           148,
           1,
           11,
           533,
           99,
           5,
           319,
           1020,
           4,
           6,
           234,
           1,
           15,
           46,
           49,
           30,
           1,
           145,
           21,
           138,
           114,
           108,
           12,
           23,
           2,
           2,
           1,
           39,
           1,
           137,
           2,
           163,
           237,
           68,
           12,
           40,
           2,
           37,
           21,
           5,
           1,
           2,
           8,
           2,
           8,
           2,
           149,
           329,
           7,
           5,
           3,
           22,
           5,
           1,
           8,
           4,
           13,
           2,
           51,
           16,
           299,
           120,
           384,
           169,
           17,
           227,
           80,
           196,
           1280,
           3,
           4,
           18,
           178,
           40,
           4,
           2,
           15,
           215,
           34,
           5,
           4,
           1477,
           59,
           10,
           1,
           160,
           853,
           238,
           79,
           86,
           2,
           15,
           136,
           3,
           139,
           332,
           2,
           2,
           1,
           1266,
           6,
           2,
           2,
           41,
           24,
           204,
           5,
           22,
           6,
           98,
           48,
           5,
           1,
           78,
           42,
           41,
           3,
           1,
           1,
           32,
           42,
           1,
           47,
           12,
           10,
           2,
           40,
           1789,
           41,
           76,
           1,
           104,
           682,
           567,
           1610,
           18,
           8,
           183,
           3598,
           4,
           1,
           127,
           60,
           570,
           462,
           756,
           203,
           65,
           438,
           1,
           181,
           1,
           150,
           3,
           118,
           4,
           2,
           2,
           23,
           13,
           220,
           9,
           3,
           95,
           33,
           14,
           1,
           134,
           1468,
           1,
           18,
           1,
           2,
           44,
           21,
           824,
           2,
           2,
           1,
           692,
           1,
           16,
           13,
           1,
           2,
           19,
           41,
           36,
           242,
           4,
           1639,
           5,
           1,
           5,
           405,
           46,
           5,
           3,
           457,
           53,
           10,
           173,
           17,
           425,
           276,
           22,
           494,
           1,
           17,
           2,
           14,
           7,
           554,
           25,
           25,
           76,
           3,
           38,
           194,
           467,
           7,
           3,
           314,
           12,
           26,
           89,
           1,
           4,
           66,
           38,
           2745,
           12,
           16,
           6,
           37,
           12,
           98,
           31,
           27,
           3,
           4,
           45,
           16,
           10,
           2,
           10,
           59,
           347,
           5,
           1,
           14,
           44,
           4,
           298,
           1,
           34,
           86,
           645,
           452,
           481,
           1,
           24,
           36,
           138,
           684,
           37,
           1,
           63,
           37,
           3,
           62,
           19,
           6,
           4201,
           2778,
           10,
           4,
           588,
           564,
           10,
           4,
           75,
           4,
           5,
           1,
           26,
           2,
           5,
           1,
           11,
           89,
           13,
           26,
           1,
           3,
           3292,
           2,
           55,
           798,
           20305,
           7,
           35,
           104,
           2,
           63,
           419,
           2,
           11,
           255,
           1256,
           7,
           233,
           20,
           4,
           3,
           2,
           1324,
           532,
           13,
           9,
           13,
           2,
           2,
           353,
           2,
           2,
           244,
           7,
           1677,
           396,
           1,
           3,
           2,
           276,
           118,
           43,
           1,
           89,
           10,
           120,
           39,
           48,
           18,
           2379,
           2,
           16,
           3,
           65,
           3,
           5,
           6,
           23,
           13,
           9,
           4,
           3,
           14,
           332,
           3,
           1,
           436,
           31,
           23,
           32,
           4,
           1,
           464,
           2,
           4,
           6,
           16,
           4013,
           1,
           472,
           18,
           34,
           2,
           8,
           2,
           247,
           1,
           4,
           2,
           381,
           4,
           253,
           142,
           15,
           82,
           1,
           4,
           4,
           41,
           40,
           1599,
           109,
           62,
           29,
           400,
           116,
           189,
           22
          ],
          "coloraxis": "coloraxis",
          "size": [
           99,
           6,
           3,
           16,
           24,
           49,
           1,
           14,
           459,
           25,
           11,
           363,
           1,
           6,
           9,
           1173,
           1236,
           3,
           355,
           2,
           33,
           1,
           104,
           5920,
           1952,
           42,
           3,
           192,
           275,
           586,
           3335,
           75,
           805,
           6,
           1,
           154,
           16,
           199,
           148,
           1,
           11,
           533,
           99,
           5,
           319,
           1020,
           4,
           6,
           234,
           1,
           15,
           46,
           49,
           30,
           1,
           145,
           21,
           138,
           114,
           108,
           12,
           23,
           2,
           2,
           1,
           39,
           1,
           137,
           2,
           163,
           237,
           68,
           12,
           40,
           2,
           37,
           21,
           5,
           1,
           2,
           8,
           2,
           8,
           2,
           149,
           329,
           7,
           5,
           3,
           22,
           5,
           1,
           8,
           4,
           13,
           2,
           51,
           16,
           299,
           120,
           384,
           169,
           17,
           227,
           80,
           196,
           1280,
           3,
           4,
           18,
           178,
           40,
           4,
           2,
           15,
           215,
           34,
           5,
           4,
           1477,
           59,
           10,
           1,
           160,
           853,
           238,
           79,
           86,
           2,
           15,
           136,
           3,
           139,
           332,
           2,
           2,
           1,
           1266,
           6,
           2,
           2,
           41,
           24,
           204,
           5,
           22,
           6,
           98,
           48,
           5,
           1,
           78,
           42,
           41,
           3,
           1,
           1,
           32,
           42,
           1,
           47,
           12,
           10,
           2,
           40,
           1789,
           41,
           76,
           1,
           104,
           682,
           567,
           1610,
           18,
           8,
           183,
           3598,
           4,
           1,
           127,
           60,
           570,
           462,
           756,
           203,
           65,
           438,
           1,
           181,
           1,
           150,
           3,
           118,
           4,
           2,
           2,
           23,
           13,
           220,
           9,
           3,
           95,
           33,
           14,
           1,
           134,
           1468,
           1,
           18,
           1,
           2,
           44,
           21,
           824,
           2,
           2,
           1,
           692,
           1,
           16,
           13,
           1,
           2,
           19,
           41,
           36,
           242,
           4,
           1639,
           5,
           1,
           5,
           405,
           46,
           5,
           3,
           457,
           53,
           10,
           173,
           17,
           425,
           276,
           22,
           494,
           1,
           17,
           2,
           14,
           7,
           554,
           25,
           25,
           76,
           3,
           38,
           194,
           467,
           7,
           3,
           314,
           12,
           26,
           89,
           1,
           4,
           66,
           38,
           2745,
           12,
           16,
           6,
           37,
           12,
           98,
           31,
           27,
           3,
           4,
           45,
           16,
           10,
           2,
           10,
           59,
           347,
           5,
           1,
           14,
           44,
           4,
           298,
           1,
           34,
           86,
           645,
           452,
           481,
           1,
           24,
           36,
           138,
           684,
           37,
           1,
           63,
           37,
           3,
           62,
           19,
           6,
           4201,
           2778,
           10,
           4,
           588,
           564,
           10,
           4,
           75,
           4,
           5,
           1,
           26,
           2,
           5,
           1,
           11,
           89,
           13,
           26,
           1,
           3,
           3292,
           2,
           55,
           798,
           20305,
           7,
           35,
           104,
           2,
           63,
           419,
           2,
           11,
           255,
           1256,
           7,
           233,
           20,
           4,
           3,
           2,
           1324,
           532,
           13,
           9,
           13,
           2,
           2,
           353,
           2,
           2,
           244,
           7,
           1677,
           396,
           1,
           3,
           2,
           276,
           118,
           43,
           1,
           89,
           10,
           120,
           39,
           48,
           18,
           2379,
           2,
           16,
           3,
           65,
           3,
           5,
           6,
           23,
           13,
           9,
           4,
           3,
           14,
           332,
           3,
           1,
           436,
           31,
           23,
           32,
           4,
           1,
           464,
           2,
           4,
           6,
           16,
           4013,
           1,
           472,
           18,
           34,
           2,
           8,
           2,
           247,
           1,
           4,
           2,
           381,
           4,
           253,
           142,
           15,
           82,
           1,
           4,
           4,
           41,
           40,
           1599,
           109,
           62,
           29,
           400,
           116,
           189,
           22
          ],
          "sizemode": "area",
          "sizeref": 50.7625,
          "symbol": "circle"
         },
         "mode": "markers",
         "name": "",
         "showlegend": false,
         "type": "scattergeo"
        }
       ],
       "layout": {
        "autosize": true,
        "coloraxis": {
         "colorbar": {
          "title": {
           "text": "No of vehicles"
          }
         },
         "colorscale": [
          [
           0,
           "#0d0887"
          ],
          [
           0.1111111111111111,
           "#46039f"
          ],
          [
           0.2222222222222222,
           "#7201a8"
          ],
          [
           0.3333333333333333,
           "#9c179e"
          ],
          [
           0.4444444444444444,
           "#bd3786"
          ],
          [
           0.5555555555555556,
           "#d8576b"
          ],
          [
           0.6666666666666666,
           "#ed7953"
          ],
          [
           0.7777777777777778,
           "#fb9f3a"
          ],
          [
           0.8888888888888888,
           "#fdca26"
          ],
          [
           1,
           "#f0f921"
          ]
         ]
        },
        "geo": {
         "center": {
          "lat": 49.076784264347786,
          "lon": -116.2605749344606
         },
         "domain": {
          "x": [
           0,
           1
          ],
          "y": [
           0,
           1
          ]
         },
         "projection": {
          "scale": 3.5000000000000044
         },
         "scope": "usa"
        },
        "legend": {
         "itemsizing": "constant",
         "tracegroupgap": 0
        },
        "template": {
         "data": {
          "bar": [
           {
            "error_x": {
             "color": "#2a3f5f"
            },
            "error_y": {
             "color": "#2a3f5f"
            },
            "marker": {
             "line": {
              "color": "#E5ECF6",
              "width": 0.5
             },
             "pattern": {
              "fillmode": "overlay",
              "size": 10,
              "solidity": 0.2
             }
            },
            "type": "bar"
           }
          ],
          "barpolar": [
           {
            "marker": {
             "line": {
              "color": "#E5ECF6",
              "width": 0.5
             },
             "pattern": {
              "fillmode": "overlay",
              "size": 10,
              "solidity": 0.2
             }
            },
            "type": "barpolar"
           }
          ],
          "carpet": [
           {
            "aaxis": {
             "endlinecolor": "#2a3f5f",
             "gridcolor": "white",
             "linecolor": "white",
             "minorgridcolor": "white",
             "startlinecolor": "#2a3f5f"
            },
            "baxis": {
             "endlinecolor": "#2a3f5f",
             "gridcolor": "white",
             "linecolor": "white",
             "minorgridcolor": "white",
             "startlinecolor": "#2a3f5f"
            },
            "type": "carpet"
           }
          ],
          "choropleth": [
           {
            "colorbar": {
             "outlinewidth": 0,
             "ticks": ""
            },
            "type": "choropleth"
           }
          ],
          "contour": [
           {
            "colorbar": {
             "outlinewidth": 0,
             "ticks": ""
            },
            "colorscale": [
             [
              0,
              "#0d0887"
             ],
             [
              0.1111111111111111,
              "#46039f"
             ],
             [
              0.2222222222222222,
              "#7201a8"
             ],
             [
              0.3333333333333333,
              "#9c179e"
             ],
             [
              0.4444444444444444,
              "#bd3786"
             ],
             [
              0.5555555555555556,
              "#d8576b"
             ],
             [
              0.6666666666666666,
              "#ed7953"
             ],
             [
              0.7777777777777778,
              "#fb9f3a"
             ],
             [
              0.8888888888888888,
              "#fdca26"
             ],
             [
              1,
              "#f0f921"
             ]
            ],
            "type": "contour"
           }
          ],
          "contourcarpet": [
           {
            "colorbar": {
             "outlinewidth": 0,
             "ticks": ""
            },
            "type": "contourcarpet"
           }
          ],
          "heatmap": [
           {
            "colorbar": {
             "outlinewidth": 0,
             "ticks": ""
            },
            "colorscale": [
             [
              0,
              "#0d0887"
             ],
             [
              0.1111111111111111,
              "#46039f"
             ],
             [
              0.2222222222222222,
              "#7201a8"
             ],
             [
              0.3333333333333333,
              "#9c179e"
             ],
             [
              0.4444444444444444,
              "#bd3786"
             ],
             [
              0.5555555555555556,
              "#d8576b"
             ],
             [
              0.6666666666666666,
              "#ed7953"
             ],
             [
              0.7777777777777778,
              "#fb9f3a"
             ],
             [
              0.8888888888888888,
              "#fdca26"
             ],
             [
              1,
              "#f0f921"
             ]
            ],
            "type": "heatmap"
           }
          ],
          "heatmapgl": [
           {
            "colorbar": {
             "outlinewidth": 0,
             "ticks": ""
            },
            "colorscale": [
             [
              0,
              "#0d0887"
             ],
             [
              0.1111111111111111,
              "#46039f"
             ],
             [
              0.2222222222222222,
              "#7201a8"
             ],
             [
              0.3333333333333333,
              "#9c179e"
             ],
             [
              0.4444444444444444,
              "#bd3786"
             ],
             [
              0.5555555555555556,
              "#d8576b"
             ],
             [
              0.6666666666666666,
              "#ed7953"
             ],
             [
              0.7777777777777778,
              "#fb9f3a"
             ],
             [
              0.8888888888888888,
              "#fdca26"
             ],
             [
              1,
              "#f0f921"
             ]
            ],
            "type": "heatmapgl"
           }
          ],
          "histogram": [
           {
            "marker": {
             "pattern": {
              "fillmode": "overlay",
              "size": 10,
              "solidity": 0.2
             }
            },
            "type": "histogram"
           }
          ],
          "histogram2d": [
           {
            "colorbar": {
             "outlinewidth": 0,
             "ticks": ""
            },
            "colorscale": [
             [
              0,
              "#0d0887"
             ],
             [
              0.1111111111111111,
              "#46039f"
             ],
             [
              0.2222222222222222,
              "#7201a8"
             ],
             [
              0.3333333333333333,
              "#9c179e"
             ],
             [
              0.4444444444444444,
              "#bd3786"
             ],
             [
              0.5555555555555556,
              "#d8576b"
             ],
             [
              0.6666666666666666,
              "#ed7953"
             ],
             [
              0.7777777777777778,
              "#fb9f3a"
             ],
             [
              0.8888888888888888,
              "#fdca26"
             ],
             [
              1,
              "#f0f921"
             ]
            ],
            "type": "histogram2d"
           }
          ],
          "histogram2dcontour": [
           {
            "colorbar": {
             "outlinewidth": 0,
             "ticks": ""
            },
            "colorscale": [
             [
              0,
              "#0d0887"
             ],
             [
              0.1111111111111111,
              "#46039f"
             ],
             [
              0.2222222222222222,
              "#7201a8"
             ],
             [
              0.3333333333333333,
              "#9c179e"
             ],
             [
              0.4444444444444444,
              "#bd3786"
             ],
             [
              0.5555555555555556,
              "#d8576b"
             ],
             [
              0.6666666666666666,
              "#ed7953"
             ],
             [
              0.7777777777777778,
              "#fb9f3a"
             ],
             [
              0.8888888888888888,
              "#fdca26"
             ],
             [
              1,
              "#f0f921"
             ]
            ],
            "type": "histogram2dcontour"
           }
          ],
          "mesh3d": [
           {
            "colorbar": {
             "outlinewidth": 0,
             "ticks": ""
            },
            "type": "mesh3d"
           }
          ],
          "parcoords": [
           {
            "line": {
             "colorbar": {
              "outlinewidth": 0,
              "ticks": ""
             }
            },
            "type": "parcoords"
           }
          ],
          "pie": [
           {
            "automargin": true,
            "type": "pie"
           }
          ],
          "scatter": [
           {
            "fillpattern": {
             "fillmode": "overlay",
             "size": 10,
             "solidity": 0.2
            },
            "type": "scatter"
           }
          ],
          "scatter3d": [
           {
            "line": {
             "colorbar": {
              "outlinewidth": 0,
              "ticks": ""
             }
            },
            "marker": {
             "colorbar": {
              "outlinewidth": 0,
              "ticks": ""
             }
            },
            "type": "scatter3d"
           }
          ],
          "scattercarpet": [
           {
            "marker": {
             "colorbar": {
              "outlinewidth": 0,
              "ticks": ""
             }
            },
            "type": "scattercarpet"
           }
          ],
          "scattergeo": [
           {
            "marker": {
             "colorbar": {
              "outlinewidth": 0,
              "ticks": ""
             }
            },
            "type": "scattergeo"
           }
          ],
          "scattergl": [
           {
            "marker": {
             "colorbar": {
              "outlinewidth": 0,
              "ticks": ""
             }
            },
            "type": "scattergl"
           }
          ],
          "scattermapbox": [
           {
            "marker": {
             "colorbar": {
              "outlinewidth": 0,
              "ticks": ""
             }
            },
            "type": "scattermapbox"
           }
          ],
          "scatterpolar": [
           {
            "marker": {
             "colorbar": {
              "outlinewidth": 0,
              "ticks": ""
             }
            },
            "type": "scatterpolar"
           }
          ],
          "scatterpolargl": [
           {
            "marker": {
             "colorbar": {
              "outlinewidth": 0,
              "ticks": ""
             }
            },
            "type": "scatterpolargl"
           }
          ],
          "scatterternary": [
           {
            "marker": {
             "colorbar": {
              "outlinewidth": 0,
              "ticks": ""
             }
            },
            "type": "scatterternary"
           }
          ],
          "surface": [
           {
            "colorbar": {
             "outlinewidth": 0,
             "ticks": ""
            },
            "colorscale": [
             [
              0,
              "#0d0887"
             ],
             [
              0.1111111111111111,
              "#46039f"
             ],
             [
              0.2222222222222222,
              "#7201a8"
             ],
             [
              0.3333333333333333,
              "#9c179e"
             ],
             [
              0.4444444444444444,
              "#bd3786"
             ],
             [
              0.5555555555555556,
              "#d8576b"
             ],
             [
              0.6666666666666666,
              "#ed7953"
             ],
             [
              0.7777777777777778,
              "#fb9f3a"
             ],
             [
              0.8888888888888888,
              "#fdca26"
             ],
             [
              1,
              "#f0f921"
             ]
            ],
            "type": "surface"
           }
          ],
          "table": [
           {
            "cells": {
             "fill": {
              "color": "#EBF0F8"
             },
             "line": {
              "color": "white"
             }
            },
            "header": {
             "fill": {
              "color": "#C8D4E3"
             },
             "line": {
              "color": "white"
             }
            },
            "type": "table"
           }
          ]
         },
         "layout": {
          "annotationdefaults": {
           "arrowcolor": "#2a3f5f",
           "arrowhead": 0,
           "arrowwidth": 1
          },
          "autotypenumbers": "strict",
          "coloraxis": {
           "colorbar": {
            "outlinewidth": 0,
            "ticks": ""
           }
          },
          "colorscale": {
           "diverging": [
            [
             0,
             "#8e0152"
            ],
            [
             0.1,
             "#c51b7d"
            ],
            [
             0.2,
             "#de77ae"
            ],
            [
             0.3,
             "#f1b6da"
            ],
            [
             0.4,
             "#fde0ef"
            ],
            [
             0.5,
             "#f7f7f7"
            ],
            [
             0.6,
             "#e6f5d0"
            ],
            [
             0.7,
             "#b8e186"
            ],
            [
             0.8,
             "#7fbc41"
            ],
            [
             0.9,
             "#4d9221"
            ],
            [
             1,
             "#276419"
            ]
           ],
           "sequential": [
            [
             0,
             "#0d0887"
            ],
            [
             0.1111111111111111,
             "#46039f"
            ],
            [
             0.2222222222222222,
             "#7201a8"
            ],
            [
             0.3333333333333333,
             "#9c179e"
            ],
            [
             0.4444444444444444,
             "#bd3786"
            ],
            [
             0.5555555555555556,
             "#d8576b"
            ],
            [
             0.6666666666666666,
             "#ed7953"
            ],
            [
             0.7777777777777778,
             "#fb9f3a"
            ],
            [
             0.8888888888888888,
             "#fdca26"
            ],
            [
             1,
             "#f0f921"
            ]
           ],
           "sequentialminus": [
            [
             0,
             "#0d0887"
            ],
            [
             0.1111111111111111,
             "#46039f"
            ],
            [
             0.2222222222222222,
             "#7201a8"
            ],
            [
             0.3333333333333333,
             "#9c179e"
            ],
            [
             0.4444444444444444,
             "#bd3786"
            ],
            [
             0.5555555555555556,
             "#d8576b"
            ],
            [
             0.6666666666666666,
             "#ed7953"
            ],
            [
             0.7777777777777778,
             "#fb9f3a"
            ],
            [
             0.8888888888888888,
             "#fdca26"
            ],
            [
             1,
             "#f0f921"
            ]
           ]
          },
          "colorway": [
           "#636efa",
           "#EF553B",
           "#00cc96",
           "#ab63fa",
           "#FFA15A",
           "#19d3f3",
           "#FF6692",
           "#B6E880",
           "#FF97FF",
           "#FECB52"
          ],
          "font": {
           "color": "#2a3f5f"
          },
          "geo": {
           "bgcolor": "white",
           "lakecolor": "white",
           "landcolor": "#E5ECF6",
           "showlakes": true,
           "showland": true,
           "subunitcolor": "white"
          },
          "hoverlabel": {
           "align": "left"
          },
          "hovermode": "closest",
          "mapbox": {
           "style": "light"
          },
          "paper_bgcolor": "white",
          "plot_bgcolor": "#E5ECF6",
          "polar": {
           "angularaxis": {
            "gridcolor": "white",
            "linecolor": "white",
            "ticks": ""
           },
           "bgcolor": "#E5ECF6",
           "radialaxis": {
            "gridcolor": "white",
            "linecolor": "white",
            "ticks": ""
           }
          },
          "scene": {
           "xaxis": {
            "backgroundcolor": "#E5ECF6",
            "gridcolor": "white",
            "gridwidth": 2,
            "linecolor": "white",
            "showbackground": true,
            "ticks": "",
            "zerolinecolor": "white"
           },
           "yaxis": {
            "backgroundcolor": "#E5ECF6",
            "gridcolor": "white",
            "gridwidth": 2,
            "linecolor": "white",
            "showbackground": true,
            "ticks": "",
            "zerolinecolor": "white"
           },
           "zaxis": {
            "backgroundcolor": "#E5ECF6",
            "gridcolor": "white",
            "gridwidth": 2,
            "linecolor": "white",
            "showbackground": true,
            "ticks": "",
            "zerolinecolor": "white"
           }
          },
          "shapedefaults": {
           "line": {
            "color": "#2a3f5f"
           }
          },
          "ternary": {
           "aaxis": {
            "gridcolor": "white",
            "linecolor": "white",
            "ticks": ""
           },
           "baxis": {
            "gridcolor": "white",
            "linecolor": "white",
            "ticks": ""
           },
           "bgcolor": "#E5ECF6",
           "caxis": {
            "gridcolor": "white",
            "linecolor": "white",
            "ticks": ""
           }
          },
          "title": {
           "x": 0.05
          },
          "xaxis": {
           "automargin": true,
           "gridcolor": "white",
           "linecolor": "white",
           "ticks": "",
           "title": {
            "standoff": 15
           },
           "zerolinecolor": "white",
           "zerolinewidth": 2
          },
          "yaxis": {
           "automargin": true,
           "gridcolor": "white",
           "linecolor": "white",
           "ticks": "",
           "title": {
            "standoff": 15
           },
           "zerolinecolor": "white",
           "zerolinewidth": 2
          }
         }
        },
        "title": {
         "text": "Electric Vehicle Count by City in Washington"
        }
       }
      },
      "image/png": "[encoded data removed]",
      "text/html": [
       "<div>                            <div id=\"d1129c5f-f9f0-4700-b8bd-36ca73de0576\" class=\"plotly-graph-div\" style=\"height:525px; width:100%;\"></div>            <script type=\"text/javascript\">                require([\"plotly\"], function(Plotly) {                    window.PLOTLYENV=window.PLOTLYENV || {};                                    if (document.getElementById(\"d1129c5f-f9f0-4700-b8bd-36ca73de0576\")) {                    Plotly.newPlot(                        \"d1129c5f-f9f0-4700-b8bd-36ca73de0576\",                        [{\"geo\":\"geo\",\"hovertemplate\":\"\\u003cb\\u003e%{hovertext}\\u003c\\u002fb\\u003e\\u003cbr\\u003e\\u003cbr\\u003eNo of vehicles=%{marker.color}\\u003cbr\\u003eLat=%{lat}\\u003cbr\\u003eLon=%{lon}\\u003cextra\\u003e\\u003c\\u002fextra\\u003e\",\"hovertext\":[\"Aberdeen\",\"Acme\",\"Addy\",\"Airway Heights\",\"Algona\",\"Allyn\",\"Amanda Park\",\"Amboy\",\"Anacortes\",\"Anderson Island\",\"Ariel\",\"Arlington\",\"Artondale\",\"Ashford\",\"Asotin\",\"Auburn\",\"Bainbridge Island\",\"Baring\",\"Battle Ground\",\"Bay Center\",\"Beaux Arts\",\"Beaver\",\"Belfair\",\"Bellevue\",\"Bellingham\",\"Benton City\",\"Bingen\",\"Black Diamond\",\"Blaine\",\"Bonney Lake\",\"Bothell\",\"Bow\",\"Bremerton\",\"Brewster\",\"Bridgeport Bar\",\"Brier\",\"Brinnon\",\"Brush Prairie\",\"Buckley\",\"Bucoda\",\"Burbank\",\"Burien\",\"Burlington\",\"Bz Corner\",\"Camano Island\",\"Camas\",\"Carbonado\",\"Carlton\",\"Carnation\",\"Carrolls\",\"Carson\",\"Cashmere\",\"Castle Rock\",\"Cathlamet\",\"Centerville\",\"Centralia\",\"Chattaroy\",\"Chehalis\",\"Chelan\",\"Cheney\",\"Chewelah\",\"Chimacum\",\"Chinook\",\"Cinebar\",\"Clallam Bay\",\"Clarkston\",\"Clayton\",\"Cle Elum\",\"Clearlake\",\"Clinton\",\"Clyde Hill\",\"Colbert\",\"Colfax\",\"College Place\",\"Colton\",\"Colville\",\"Concrete\",\"Connell\",\"Copalis Beach\",\"Copalis Crossing\",\"Cosmopolis\",\"Cougar\",\"Coulee City\",\"Coulee Dam\",\"Coupeville\",\"Covington\",\"Curlew\",\"Curtis\",\"Cusick\",\"Custer\",\"Dallesport\",\"Danville\",\"Darrington\",\"Davenport\",\"Dayton\",\"Deer Meadows\",\"Deer Park\",\"Deming\",\"Des Moines\",\"Dupont\",\"Duvall\",\"East Wenatchee\",\"Easton\",\"Eastsound\",\"Eatonville\",\"Edgewood\",\"Edmonds\",\"Edwall\",\"Electric City\",\"Elk\",\"Ellensburg\",\"Elma\",\"Eltopia\",\"Endicott\",\"Entiat\",\"Enumclaw\",\"Ephrata\",\"Ethel\",\"Evans\",\"Everett\",\"Everson\",\"Fairchild Air Force Base\",\"Fairfield\",\"Fall City\",\"Federal Way\",\"Ferndale\",\"Fife\",\"Fircrest\",\"Ford\",\"Forks\",\"Fox Island\",\"Frances\",\"Freeland\",\"Friday Harbor\",\"Fruitland\",\"Garfield\",\"Gifford\",\"Gig Harbor\",\"Glacier\",\"Glenoma\",\"Glenwood\",\"Gold Bar\",\"Goldendale\",\"Graham\",\"Grand Coulee\",\"Grandview\",\"Granger\",\"Granite Falls\",\"Grapeview\",\"Grayland\",\"Grays River\",\"Greenacres\",\"Greenbank\",\"Hansville\",\"Harrington\",\"Hartline\",\"Holden Village\",\"Hoodsport\",\"Hoquiam\",\"Hunters\",\"Hunts Point\",\"Husum\",\"Ilwaco\",\"Inchelium\",\"Indianola\",\"Issaquah\",\"Joint Base Lewis Mcchord\",\"Kalama\",\"Kapowsin\",\"Kelso\",\"Kenmore\",\"Kennewick\",\"Kent\",\"Kettle Falls\",\"Keyport\",\"Kingston\",\"Kirkland\",\"Kittitas\",\"Klickitat\",\"La Center\",\"La Conner\",\"Lacey\",\"Lake Forest Park\",\"Lake Stevens\",\"Lake Tapps\",\"Lakebay\",\"Lakewood\",\"Lamont\",\"Langley\",\"Latah\",\"Leavenworth\",\"Lebam\",\"Liberty Lake\",\"Lilliwaup\",\"Lincoln\",\"Lind\",\"Long Beach\",\"Longbranch\",\"Longview\",\"Loon Lake\",\"Lopez Is\",\"Lopez Island\",\"Lummi Island\",\"Lyle\",\"Lyman\",\"Lynden\",\"Lynnwood\",\"Mabton\",\"Malaga\",\"Malott\",\"Mansfield\",\"Manson\",\"Maple Falls\",\"Maple Valley\",\"Marblemount\",\"Marlin\",\"Maryhill\",\"Marysville\",\"Matlock\",\"Mattawa\",\"Mazama\",\"McCleary\",\"Mcchord Afb\",\"Mccleary\",\"Mead\",\"Medical Lake\",\"Medina\",\"Menlo\",\"Mercer Island\",\"Mesa\",\"Methow\",\"Mica\",\"Mill Creek\",\"Milton\",\"Mineral\",\"Moclips\",\"Monroe\",\"Montesano\",\"Morton\",\"Moses Lake\",\"Mossyrock\",\"Mount Vernon\",\"Mountlake Terrace\",\"Moxee\",\"Mukilteo\",\"Murdock\",\"Naches\",\"Nahcotta\",\"Naselle\",\"Neah Bay\",\"Newcastle\",\"Newman Lake\",\"Newport\",\"Nine Mile Falls\",\"Nooksack\",\"Nordland\",\"Normandy Park\",\"North Bend\",\"North Bonneville\",\"North Cove\",\"Oak Harbor\",\"Oakville\",\"Ocean Park\",\"Ocean Shores\",\"Odessa\",\"Okanogan\",\"Olalla\",\"Olga\",\"Olympia\",\"Omak\",\"Onalaska\",\"Orcas Is\",\"Orondo\",\"Oroville\",\"Orting\",\"Othello\",\"Otis Orchards\",\"Outlook\",\"Oysterville\",\"Pacific\",\"Pacific Beach\",\"Packwood\",\"Palisades\",\"Palouse\",\"Parkland\",\"Pasco\",\"Pateros\",\"Pe Ell\",\"Peshastin\",\"Point Roberts\",\"Pomeroy\",\"Port Angeles\",\"Port Gamble\",\"Port Hadlock\",\"Port Ludlow\",\"Port Orchard\",\"Port Townsend\",\"Poulsbo\",\"Prescott\",\"Preston\",\"Prosser\",\"Pullman\",\"Puyallup\",\"Quilcene\",\"Quinault\",\"Quincy\",\"Rainier\",\"Randle\",\"Ravensdale\",\"Raymond\",\"Reardan\",\"Redmond\",\"Renton\",\"Republic\",\"Rice\",\"Richland\",\"Ridgefield\",\"Ritzville\",\"Riverside\",\"Rochester\",\"Rock Island\",\"Rockford\",\"Rockport\",\"Ronald\",\"Roosevelt\",\"Rosalia\",\"Rosburg\",\"Roslyn\",\"Roy\",\"Royal City\",\"Ruston\",\"Ryderwood\",\"Salkum\",\"Sammamish\",\"Satsop\",\"Seabeck\",\"Seatac\",\"Seattle\",\"Seaview\",\"Sedro Woolley\",\"Sedro-Woolley\",\"Sekiu\",\"Selah\",\"Sequim\",\"Seven Bays\",\"Shaw Island\",\"Shelton\",\"Shoreline\",\"Silver Creek\",\"Silverdale\",\"Silverlake\",\"Skamokawa\",\"Skykomish\",\"Smith Creek\",\"Snohomish\",\"Snoqualmie\",\"Snoqualmie Pass\",\"Snowden\",\"Soap Lake\",\"South Bend\",\"South Cle Elum\",\"South Hill\",\"South Prairie\",\"Southworth\",\"Spanaway\",\"Spangle\",\"Spokane\",\"Spokane Valley\",\"Sprague\",\"Springdale\",\"St John\",\"Stanwood\",\"Steilacoom\",\"Stevenson\",\"Stratford\",\"Sultan\",\"Sumas\",\"Sumner\",\"Sunnyside\",\"Suquamish\",\"Surfside\",\"Tacoma\",\"Taholah\",\"Tahuya\",\"Tekoa\",\"Tenino\",\"Thorp\",\"Tieton\",\"Tokeland\",\"Toledo\",\"Tonasket\",\"Toppenish\",\"Touchet\",\"Toutle\",\"Trout Lake\",\"Tukwila\",\"Tulalip\",\"Tumtum\",\"Tumwater\",\"Twisp\",\"Underwood\",\"Union\",\"Union Gap\",\"Uniontown\",\"University Place\",\"Usk\",\"Vader\",\"Valley\",\"Valleyford\",\"Vancouver\",\"Vantage\",\"Vashon\",\"Vaughn\",\"Veradale\",\"Wahkiacus\",\"Waitsburg\",\"Waldron\",\"Walla Walla\",\"Walla Walla Co\",\"Wapato\",\"Warden\",\"Washougal\",\"Waterville\",\"Wenatchee\",\"West Richland\",\"Westport\",\"White Salmon\",\"White Swan\",\"Wilbur\",\"Wilkeson\",\"Winlock\",\"Winthrop\",\"Woodinville\",\"Woodland\",\"Woodway\",\"Yacolt\",\"Yakima\",\"Yarrow Point\",\"Yelm\",\"Zillah\"],\"lat\":[46.97606,48.71768,48.35609,47.6443,47.3074,47.38174,47.45917,45.91958,48.51748,47.17794,45.98974,48.19471,47.328,46.75908,46.34056,47.32326,47.62728,47.77193,45.78092,[46.63188,46.66382],47.61001,48.05431,47.45054,47.55584,48.74487,46.26543,45.71513,47.30893,48.99404,47.19175,47.83448,48.56045,47.56573,48.09967,48.09967,47.82557,47.69838,45.73473,47.16299,67.01865,46.1992,47.46665,48.46846,45.72776,48.23986,45.58694,47.08015,48.25448,47.64901,46.07142,45.72558,47.5224,46.27509,46.20728,45.75198,46.72894,47.89594,46.6621,47.83985,47.48928,48.28136,48.01182,46.27264,46.60409,48.25371,46.41402,47.99685,47.195,48.46376,47.9796,47.61001,47.83743,46.87965,46.03456,46.56801,48.54657,48.53892,46.66146,47.11487,47.11059,46.95413,46.04647,47.61233,47.9708,48.21857,47.33778,48.88101,46.56094,48.33866,48.91865,45.61623,48.99237,48.25431,47.65405,46.32189,47.65405,47.95431,48.8268,47.40139,47.09583,47.74068,47.41515,47.2378,48.69389,46.86733,47.18709,47.87166,47.50524,47.93348,48.01723,46.99703,47.00379,46.45698,46.92752,47.67562,47.20433,47.31867,46.53239,48.71331,47.89252,48.92009,47.64046,47.38522,47.56812,47.30297,48.84756,47.23679,47.23594,47.90886,47.95014,47.27375,46.68867,48.00956,48.53448,48.0784,47.00706,48.31085,47.328,48.8268,[46.53072,46.55465],46.01842,47.85565,45.823,47.05703,47.94283,46.25606,46.33937,48.08157,47.32767,46.80933,46.35588,47.65699,48.08844,47.91795,47.4829,47.69015,47.83985,47.40639,46.97982,48.11777,47.61001,45.72776,46.3088,48.29812,47.7487,47.5301,47.10349,46.00813,[],46.14425,47.75892,46.20664,47.41185,48.61053,47.70251,47.79803,47.67887,46.98472,45.6939,45.86161,48.38874,47.04437,47.75736,48.01497,47.19175,47.25035,47.17997,47.20139,48.0399,47.27966,47.5982,46.68867,47.66829,47.47203,47.82937,46.97135,46.35232,47.21454,46.14681,48.06288,48.52342,48.52342,48.72043,45.6939,48.52525,48.9429,47.85727,46.21092,47.37238,48.3654,47.8118,47.8854,48.92369,47.39394,48.52739,47.40718,45.823,48.06114,47.23519,46.73777,48.59369,47.04946,47.13872,47.04946,47.7628,47.57261,47.61613,46.68867,47.57816,46.57833,48.12868,47.56436,47.83448,47.24898,46.71902,47.23932,47.8526,46.98384,46.55465,47.13196,46.52948,48.41644,47.78803,46.55621,47.89908,45.61623,46.7309,46.49147,46.36545,48.36778,47.50549,47.7251,48.18285,47.77676,48.92857,48.05105,47.46665,47.49348,45.64119,46.80933,48.29077,46.84077,46.49147,47.01156,47.33323,48.3654,47.42602,48.62356,47.03956,48.41078,46.57613,48.69389,47.62352,48.93881,47.09596,46.82616,47.70763,46.3294,46.49147,47.26465,47.20886,46.61019,47.41492,46.9101,47.16104,46.23542,48.05502,46.57001,47.56805,48.98867,46.47398,48.11872,47.73689,48.03591,47.92989,47.4916,48.1212,47.73689,46.29961,47.5301,46.20645,46.73015,47.146,47.82642,47.46807,47.23748,46.88897,46.53534,47.35298,46.68867,47.66951,47.67858,47.50549,48.64426,48.42934,46.27391,45.81539,47.1274,48.5012,46.82175,47.37163,47.45227,48.48758,47.23781,[45.74956,45.823],47.23428,46.33397,47.22593,47.00328,46.90248,47.27779,46.37331,46.53186,47.60326,47.00236,47.64509,47.46155,47.70013,46.3354,48.50858,48.50858,48.25978,46.65404,48.07965,47.65405,48.58348,47.21248,47.71868,46.52793,47.65171,46.29694,46.2716,47.71192,46.68867,47.87115,47.52716,47.41873,45.72776,47.38898,46.66382,47.18891,47.146,47.13954,[],47.06512,47.42909,47.7333,47.6505,47.30036,48.05738,47.09185,48.24159,47.17303,45.69417,47.4263,47.8623,48.99956,47.2022,46.32379,47.73162,46.49147,47.27779,47.34257,47.37733,47.22679,46.85752,47.05139,46.70257,46.71227,46.44067,48.70854,46.37508,46.04238,46.32447,45.99588,47.50314,48.15353,47.8927,47.03956,48.3652,45.72902,47.35689,46.55282,46.53906,47.23594,48.31375,46.40201,48.17623,47.5353,45.69345,46.94468,47.44929,47.34347,47.65706,45.84657,46.27013,48.68843,46.07068,46.07068,46.44779,46.96971,45.57923,47.64963,47.41494,46.2969,46.89078,45.72776,46.38287,47.75942,[],46.49114,48.47396,47.75448,45.9094,47.81116,45.86679,46.58514,47.61001,46.94239,46.40186],\"legendgroup\":\"\",\"lon\":[-123.81619,-122.20348,-117.8379,-117.59311,-122.23035,-122.82983,-123.89691,-122.42148,-122.61214,-122.67876,-122.53658,-122.1264,-122.58009,-122.03243,-117.04784,-122.17663,-122.521,-121.48491,-122.5331,[-123.95518,-123.81481],-122.1872,-124.33152,-122.82764,-122.12096,-122.45516,-119.48756,-121.46623,-122.00143,-122.74888,-122.17144,-122.21061,-122.397,-122.66122,-119.78093,-119.78093,-122.29245,-122.89646,-122.54578,-122.02523,27.25316,-119.01561,-122.34118,-122.33029,-121.48704,-122.40049,-122.40199,-122.04735,-120.10803,-121.91353,-122.86239,-121.82048,-120.47005,-122.90724,-123.38568,-120.903,-122.95298,-117.35237,-122.96462,-120.01454,-117.57445,-117.71555,-122.77295,-123.94534,-122.49165,-124.26015,-117.04556,-117.57228,-120.93943,-122.23452,-122.35803,-122.1872,-117.35414,-117.36477,-118.38864,-117.12984,-117.90454,-121.7515,-118.86063,-124.16705,-124.07463,-123.76901,-122.30857,-119.28816,-118.97669,-122.68558,-122.09124,-118.60061,-123.13056,-117.30443,-122.64219,-121.14532,-118.50797,-121.60421,-118.14913,-117.97577,-118.14913,-117.47154,-122.21766,-122.29592,-122.62954,-121.98609,-120.29473,-121.17954,-122.91109,-122.26832,-122.28556,-122.31768,-117.95109,-119.03591,-117.27816,-120.54872,-123.40382,-119.01647,-117.68485,-120.20831,-121.99136,-119.55125,-122.7478,-118.02345,-122.18637,-122.34536,-117.64458,-117.17125,-121.89086,-122.35206,-122.59351,-122.35686,-122.5338,-117.80582,-124.38543,-122.65107,-123.72994,-122.52664,-123.01648,-118.19894,-117.13359,-118.13633,-122.58009,-122.21766,[-122.27511,-122.13017],-121.29272,-121.69743,-120.82548,-122.29477,-119.00041,-119.90123,-120.18721,-121.96931,-122.82364,-124.09366,-123.61022,-117.1748,-122.56821,-122.54758,-118.25682,-119.10557,-120.01454,-123.14135,-123.88689,-118.20299,-122.1872,-121.48704,-124.03547,-118.19657,-122.51843,-122.03439,-122.57908,-122.84226,[],-122.89868,-122.24369,-119.3118,-122.17743,-118.06211,-122.62316,-122.49771,-122.2066,-120.41752,-121.28544,-122.67244,-122.49724,-122.82324,-122.31327,-122.06402,-122.17144,-122.75493,-122.54795,-117.90629,-122.40618,-117.15511,-120.65754,-123.72994,-117.1015,-123.0921,-118.41899,-118.61566,-124.05439,-122.75905,-122.95058,-117.63731,-122.91395,-122.91395,-122.68321,-121.28544,-122.05976,-122.45079,-122.27981,-119.99854,-120.20227,-119.57959,-119.63759,-120.16034,-122.07728,-122.04526,-121.41604,-118.98504,-120.82548,-122.1769,-123.40727,-119.9,-120.4072,-123.26405,-122.50156,-123.26405,-117.35586,-117.68269,-122.23892,-123.72994,-122.21238,-119.00503,-120.0051,-117.21611,-122.21061,-122.32172,-122.18768,-124.21349,-121.98087,-123.60076,-122.27511,-119.2771,-122.48446,-122.33891,-122.31111,-120.39197,-122.29196,-121.14532,-120.69972,-124.0495,-123.81154,-124.62735,-122.15771,-117.06882,-117.04398,-117.54392,-122.32181,-122.69107,-122.34118,-121.7831,-121.97,-124.09366,-122.64682,-123.23286,-124.0495,-124.16408,-118.68999,-119.57959,-122.54729,-122.8357,-122.89166,-119.52724,-122.69891,-122.91109,-120.22795,-119.43558,-122.20166,-119.1742,-117.11195,-120.08512,-124.0495,-122.24692,-124.20177,-121.66939,-119.9176,-117.0768,-122.37571,-119.09467,-119.89975,-123.29831,-120.60364,-123.05688,-117.58937,-123.4313,-122.64681,-122.75878,-122.68475,-122.65745,-122.77263,-122.64681,-118.31243,-122.03439,-119.76877,-117.18147,-122.28449,-122.8775,-123.84618,-119.85338,-122.68993,-121.95585,-121.98233,-123.72994,-117.87704,-122.13158,-122.15771,-118.73748,-118.16165,-119.27372,-122.74595,-118.37977,-119.50853,-123.08743,-120.14545,-117.13261,-121.59274,-121.02627,[-120.82548,-120.20117],-117.37047,-123.6386,-120.99607,-122.54332,-119.63136,-122.51766,-123.04373,-122.6306,-122.02054,-123.48162,-122.81585,-122.32806,-122.31765,-124.05475,-122.23857,-122.23857,-124.30041,-120.53113,-123.10367,-118.14913,-122.92991,-123.10565,-122.3503,-122.60209,-122.69275,-122.8112,-123.45797,-121.35912,-123.72994,-122.1389,-121.82432,-121.41201,-121.48704,-119.48323,-123.81481,-120.94822,-122.28449,-122.09624,[],-122.41046,-117.38035,-117.45005,-117.3186,-117.97378,-117.74137,-117.5821,-122.37265,-122.59802,-121.88258,-119.27844,-121.81688,-122.26496,-122.23972,-120.00949,-122.55242,-124.0495,-122.51766,-124.28628,-123.04061,-117.07351,-122.85135,-120.66621,-120.75541,-123.99814,-122.84784,-119.43683,-120.31298,-118.66919,-122.73237,-121.52529,-122.3317,-122.19388,-117.67024,-122.89166,-120.1231,-121.52357,-123.09944,-120.47794,-117.08742,-122.5338,-117.28054,-122.95015,-117.72555,-117.23995,-122.55149,-119.9899,-122.4573,-122.76355,-117.19631,-121.10717,-118.15448,-123.03598,-118.34261,-118.34261,-120.42051,-119.04573,-122.35341,-120.07145,-120.30522,-119.33788,-124.10424,-121.48704,-120.73063,-118.70912,[],-122.93881,-120.17739,-122.15545,-122.74017,-122.37689,-122.40908,-120.56916,-122.1872,-122.60735,-120.26186],\"marker\":{\"color\":[99,6,3,16,24,49,1,14,459,25,11,363,1,6,9,1173,1236,3,355,2,33,1,104,5920,1952,42,3,192,275,586,3335,75,805,6,1,154,16,199,148,1,11,533,99,5,319,1020,4,6,234,1,15,46,49,30,1,145,21,138,114,108,12,23,2,2,1,39,1,137,2,163,237,68,12,40,2,37,21,5,1,2,8,2,8,2,149,329,7,5,3,22,5,1,8,4,13,2,51,16,299,120,384,169,17,227,80,196,1280,3,4,18,178,40,4,2,15,215,34,5,4,1477,59,10,1,160,853,238,79,86,2,15,136,3,139,332,2,2,1,1266,6,2,2,41,24,204,5,22,6,98,48,5,1,78,42,41,3,1,1,32,42,1,47,12,10,2,40,1789,41,76,1,104,682,567,1610,18,8,183,3598,4,1,127,60,570,462,756,203,65,438,1,181,1,150,3,118,4,2,2,23,13,220,9,3,95,33,14,1,134,1468,1,18,1,2,44,21,824,2,2,1,692,1,16,13,1,2,19,41,36,242,4,1639,5,1,5,405,46,5,3,457,53,10,173,17,425,276,22,494,1,17,2,14,7,554,25,25,76,3,38,194,467,7,3,314,12,26,89,1,4,66,38,2745,12,16,6,37,12,98,31,27,3,4,45,16,10,2,10,59,347,5,1,14,44,4,298,1,34,86,645,452,481,1,24,36,138,684,37,1,63,37,3,62,19,6,4201,2778,10,4,588,564,10,4,75,4,5,1,26,2,5,1,11,89,13,26,1,3,3292,2,55,798,20305,7,35,104,2,63,419,2,11,255,1256,7,233,20,4,3,2,1324,532,13,9,13,2,2,353,2,2,244,7,1677,396,1,3,2,276,118,43,1,89,10,120,39,48,18,2379,2,16,3,65,3,5,6,23,13,9,4,3,14,332,3,1,436,31,23,32,4,1,464,2,4,6,16,4013,1,472,18,34,2,8,2,247,1,4,2,381,4,253,142,15,82,1,4,4,41,40,1599,109,62,29,400,116,189,22],\"coloraxis\":\"coloraxis\",\"size\":[99,6,3,16,24,49,1,14,459,25,11,363,1,6,9,1173,1236,3,355,2,33,1,104,5920,1952,42,3,192,275,586,3335,75,805,6,1,154,16,199,148,1,11,533,99,5,319,1020,4,6,234,1,15,46,49,30,1,145,21,138,114,108,12,23,2,2,1,39,1,137,2,163,237,68,12,40,2,37,21,5,1,2,8,2,8,2,149,329,7,5,3,22,5,1,8,4,13,2,51,16,299,120,384,169,17,227,80,196,1280,3,4,18,178,40,4,2,15,215,34,5,4,1477,59,10,1,160,853,238,79,86,2,15,136,3,139,332,2,2,1,1266,6,2,2,41,24,204,5,22,6,98,48,5,1,78,42,41,3,1,1,32,42,1,47,12,10,2,40,1789,41,76,1,104,682,567,1610,18,8,183,3598,4,1,127,60,570,462,756,203,65,438,1,181,1,150,3,118,4,2,2,23,13,220,9,3,95,33,14,1,134,1468,1,18,1,2,44,21,824,2,2,1,692,1,16,13,1,2,19,41,36,242,4,1639,5,1,5,405,46,5,3,457,53,10,173,17,425,276,22,494,1,17,2,14,7,554,25,25,76,3,38,194,467,7,3,314,12,26,89,1,4,66,38,2745,12,16,6,37,12,98,31,27,3,4,45,16,10,2,10,59,347,5,1,14,44,4,298,1,34,86,645,452,481,1,24,36,138,684,37,1,63,37,3,62,19,6,4201,2778,10,4,588,564,10,4,75,4,5,1,26,2,5,1,11,89,13,26,1,3,3292,2,55,798,20305,7,35,104,2,63,419,2,11,255,1256,7,233,20,4,3,2,1324,532,13,9,13,2,2,353,2,2,244,7,1677,396,1,3,2,276,118,43,1,89,10,120,39,48,18,2379,2,16,3,65,3,5,6,23,13,9,4,3,14,332,3,1,436,31,23,32,4,1,464,2,4,6,16,4013,1,472,18,34,2,8,2,247,1,4,2,381,4,253,142,15,82,1,4,4,41,40,1599,109,62,29,400,116,189,22],\"sizemode\":\"area\",\"sizeref\":50.7625,\"symbol\":\"circle\"},\"mode\":\"markers\",\"name\":\"\",\"showlegend\":false,\"type\":\"scattergeo\"}],                        {\"template\":{\"data\":{\"histogram2dcontour\":[{\"type\":\"histogram2dcontour\",\"colorbar\":{\"outlinewidth\":0,\"ticks\":\"\"},\"colorscale\":[[0.0,\"#0d0887\"],[0.1111111111111111,\"#46039f\"],[0.2222222222222222,\"#7201a8\"],[0.3333333333333333,\"#9c179e\"],[0.4444444444444444,\"#bd3786\"],[0.5555555555555556,\"#d8576b\"],[0.6666666666666666,\"#ed7953\"],[0.7777777777777778,\"#fb9f3a\"],[0.8888888888888888,\"#fdca26\"],[1.0,\"#f0f921\"]]}],\"choropleth\":[{\"type\":\"choropleth\",\"colorbar\":{\"outlinewidth\":0,\"ticks\":\"\"}}],\"histogram2d\":[{\"type\":\"histogram2d\",\"colorbar\":{\"outlinewidth\":0,\"ticks\":\"\"},\"colorscale\":[[0.0,\"#0d0887\"],[0.1111111111111111,\"#46039f\"],[0.2222222222222222,\"#7201a8\"],[0.3333333333333333,\"#9c179e\"],[0.4444444444444444,\"#bd3786\"],[0.5555555555555556,\"#d8576b\"],[0.6666666666666666,\"#ed7953\"],[0.7777777777777778,\"#fb9f3a\"],[0.8888888888888888,\"#fdca26\"],[1.0,\"#f0f921\"]]}],\"heatmap\":[{\"type\":\"heatmap\",\"colorbar\":{\"outlinewidth\":0,\"ticks\":\"\"},\"colorscale\":[[0.0,\"#0d0887\"],[0.1111111111111111,\"#46039f\"],[0.2222222222222222,\"#7201a8\"],[0.3333333333333333,\"#9c179e\"],[0.4444444444444444,\"#bd3786\"],[0.5555555555555556,\"#d8576b\"],[0.6666666666666666,\"#ed7953\"],[0.7777777777777778,\"#fb9f3a\"],[0.8888888888888888,\"#fdca26\"],[1.0,\"#f0f921\"]]}],\"heatmapgl\":[{\"type\":\"heatmapgl\",\"colorbar\":{\"outlinewidth\":0,\"ticks\":\"\"},\"colorscale\":[[0.0,\"#0d0887\"],[0.1111111111111111,\"#46039f\"],[0.2222222222222222,\"#7201a8\"],[0.3333333333333333,\"#9c179e\"],[0.4444444444444444,\"#bd3786\"],[0.5555555555555556,\"#d8576b\"],[0.6666666666666666,\"#ed7953\"],[0.7777777777777778,\"#fb9f3a\"],[0.8888888888888888,\"#fdca26\"],[1.0,\"#f0f921\"]]}],\"contourcarpet\":[{\"type\":\"contourcarpet\",\"colorbar\":{\"outlinewidth\":0,\"ticks\":\"\"}}],\"contour\":[{\"type\":\"contour\",\"colorbar\":{\"outlinewidth\":0,\"ticks\":\"\"},\"colorscale\":[[0.0,\"#0d0887\"],[0.1111111111111111,\"#46039f\"],[0.2222222222222222,\"#7201a8\"],[0.3333333333333333,\"#9c179e\"],[0.4444444444444444,\"#bd3786\"],[0.5555555555555556,\"#d8576b\"],[0.6666666666666666,\"#ed7953\"],[0.7777777777777778,\"#fb9f3a\"],[0.8888888888888888,\"#fdca26\"],[1.0,\"#f0f921\"]]}],\"surface\":[{\"type\":\"surface\",\"colorbar\":{\"outlinewidth\":0,\"ticks\":\"\"},\"colorscale\":[[0.0,\"#0d0887\"],[0.1111111111111111,\"#46039f\"],[0.2222222222222222,\"#7201a8\"],[0.3333333333333333,\"#9c179e\"],[0.4444444444444444,\"#bd3786\"],[0.5555555555555556,\"#d8576b\"],[0.6666666666666666,\"#ed7953\"],[0.7777777777777778,\"#fb9f3a\"],[0.8888888888888888,\"#fdca26\"],[1.0,\"#f0f921\"]]}],\"mesh3d\":[{\"type\":\"mesh3d\",\"colorbar\":{\"outlinewidth\":0,\"ticks\":\"\"}}],\"scatter\":[{\"fillpattern\":{\"fillmode\":\"overlay\",\"size\":10,\"solidity\":0.2},\"type\":\"scatter\"}],\"parcoords\":[{\"type\":\"parcoords\",\"line\":{\"colorbar\":{\"outlinewidth\":0,\"ticks\":\"\"}}}],\"scatterpolargl\":[{\"type\":\"scatterpolargl\",\"marker\":{\"colorbar\":{\"outlinewidth\":0,\"ticks\":\"\"}}}],\"bar\":[{\"error_x\":{\"color\":\"#2a3f5f\"},\"error_y\":{\"color\":\"#2a3f5f\"},\"marker\":{\"line\":{\"color\":\"#E5ECF6\",\"width\":0.5},\"pattern\":{\"fillmode\":\"overlay\",\"size\":10,\"solidity\":0.2}},\"type\":\"bar\"}],\"scattergeo\":[{\"type\":\"scattergeo\",\"marker\":{\"colorbar\":{\"outlinewidth\":0,\"ticks\":\"\"}}}],\"scatterpolar\":[{\"type\":\"scatterpolar\",\"marker\":{\"colorbar\":{\"outlinewidth\":0,\"ticks\":\"\"}}}],\"histogram\":[{\"marker\":{\"pattern\":{\"fillmode\":\"overlay\",\"size\":10,\"solidity\":0.2}},\"type\":\"histogram\"}],\"scattergl\":[{\"type\":\"scattergl\",\"marker\":{\"colorbar\":{\"outlinewidth\":0,\"ticks\":\"\"}}}],\"scatter3d\":[{\"type\":\"scatter3d\",\"line\":{\"colorbar\":{\"outlinewidth\":0,\"ticks\":\"\"}},\"marker\":{\"colorbar\":{\"outlinewidth\":0,\"ticks\":\"\"}}}],\"scattermapbox\":[{\"type\":\"scattermapbox\",\"marker\":{\"colorbar\":{\"outlinewidth\":0,\"ticks\":\"\"}}}],\"scatterternary\":[{\"type\":\"scatterternary\",\"marker\":{\"colorbar\":{\"outlinewidth\":0,\"ticks\":\"\"}}}],\"scattercarpet\":[{\"type\":\"scattercarpet\",\"marker\":{\"colorbar\":{\"outlinewidth\":0,\"ticks\":\"\"}}}],\"carpet\":[{\"aaxis\":{\"endlinecolor\":\"#2a3f5f\",\"gridcolor\":\"white\",\"linecolor\":\"white\",\"minorgridcolor\":\"white\",\"startlinecolor\":\"#2a3f5f\"},\"baxis\":{\"endlinecolor\":\"#2a3f5f\",\"gridcolor\":\"white\",\"linecolor\":\"white\",\"minorgridcolor\":\"white\",\"startlinecolor\":\"#2a3f5f\"},\"type\":\"carpet\"}],\"table\":[{\"cells\":{\"fill\":{\"color\":\"#EBF0F8\"},\"line\":{\"color\":\"white\"}},\"header\":{\"fill\":{\"color\":\"#C8D4E3\"},\"line\":{\"color\":\"white\"}},\"type\":\"table\"}],\"barpolar\":[{\"marker\":{\"line\":{\"color\":\"#E5ECF6\",\"width\":0.5},\"pattern\":{\"fillmode\":\"overlay\",\"size\":10,\"solidity\":0.2}},\"type\":\"barpolar\"}],\"pie\":[{\"automargin\":true,\"type\":\"pie\"}]},\"layout\":{\"autotypenumbers\":\"strict\",\"colorway\":[\"#636efa\",\"#EF553B\",\"#00cc96\",\"#ab63fa\",\"#FFA15A\",\"#19d3f3\",\"#FF6692\",\"#B6E880\",\"#FF97FF\",\"#FECB52\"],\"font\":{\"color\":\"#2a3f5f\"},\"hovermode\":\"closest\",\"hoverlabel\":{\"align\":\"left\"},\"paper_bgcolor\":\"white\",\"plot_bgcolor\":\"#E5ECF6\",\"polar\":{\"bgcolor\":\"#E5ECF6\",\"angularaxis\":{\"gridcolor\":\"white\",\"linecolor\":\"white\",\"ticks\":\"\"},\"radialaxis\":{\"gridcolor\":\"white\",\"linecolor\":\"white\",\"ticks\":\"\"}},\"ternary\":{\"bgcolor\":\"#E5ECF6\",\"aaxis\":{\"gridcolor\":\"white\",\"linecolor\":\"white\",\"ticks\":\"\"},\"baxis\":{\"gridcolor\":\"white\",\"linecolor\":\"white\",\"ticks\":\"\"},\"caxis\":{\"gridcolor\":\"white\",\"linecolor\":\"white\",\"ticks\":\"\"}},\"coloraxis\":{\"colorbar\":{\"outlinewidth\":0,\"ticks\":\"\"}},\"colorscale\":{\"sequential\":[[0.0,\"#0d0887\"],[0.1111111111111111,\"#46039f\"],[0.2222222222222222,\"#7201a8\"],[0.3333333333333333,\"#9c179e\"],[0.4444444444444444,\"#bd3786\"],[0.5555555555555556,\"#d8576b\"],[0.6666666666666666,\"#ed7953\"],[0.7777777777777778,\"#fb9f3a\"],[0.8888888888888888,\"#fdca26\"],[1.0,\"#f0f921\"]],\"sequentialminus\":[[0.0,\"#0d0887\"],[0.1111111111111111,\"#46039f\"],[0.2222222222222222,\"#7201a8\"],[0.3333333333333333,\"#9c179e\"],[0.4444444444444444,\"#bd3786\"],[0.5555555555555556,\"#d8576b\"],[0.6666666666666666,\"#ed7953\"],[0.7777777777777778,\"#fb9f3a\"],[0.8888888888888888,\"#fdca26\"],[1.0,\"#f0f921\"]],\"diverging\":[[0,\"#8e0152\"],[0.1,\"#c51b7d\"],[0.2,\"#de77ae\"],[0.3,\"#f1b6da\"],[0.4,\"#fde0ef\"],[0.5,\"#f7f7f7\"],[0.6,\"#e6f5d0\"],[0.7,\"#b8e186\"],[0.8,\"#7fbc41\"],[0.9,\"#4d9221\"],[1,\"#276419\"]]},\"xaxis\":{\"gridcolor\":\"white\",\"linecolor\":\"white\",\"ticks\":\"\",\"title\":{\"standoff\":15},\"zerolinecolor\":\"white\",\"automargin\":true,\"zerolinewidth\":2},\"yaxis\":{\"gridcolor\":\"white\",\"linecolor\":\"white\",\"ticks\":\"\",\"title\":{\"standoff\":15},\"zerolinecolor\":\"white\",\"automargin\":true,\"zerolinewidth\":2},\"scene\":{\"xaxis\":{\"backgroundcolor\":\"#E5ECF6\",\"gridcolor\":\"white\",\"linecolor\":\"white\",\"showbackground\":true,\"ticks\":\"\",\"zerolinecolor\":\"white\",\"gridwidth\":2},\"yaxis\":{\"backgroundcolor\":\"#E5ECF6\",\"gridcolor\":\"white\",\"linecolor\":\"white\",\"showbackground\":true,\"ticks\":\"\",\"zerolinecolor\":\"white\",\"gridwidth\":2},\"zaxis\":{\"backgroundcolor\":\"#E5ECF6\",\"gridcolor\":\"white\",\"linecolor\":\"white\",\"showbackground\":true,\"ticks\":\"\",\"zerolinecolor\":\"white\",\"gridwidth\":2}},\"shapedefaults\":{\"line\":{\"color\":\"#2a3f5f\"}},\"annotationdefaults\":{\"arrowcolor\":\"#2a3f5f\",\"arrowhead\":0,\"arrowwidth\":1},\"geo\":{\"bgcolor\":\"white\",\"landcolor\":\"#E5ECF6\",\"subunitcolor\":\"white\",\"showland\":true,\"showlakes\":true,\"lakecolor\":\"white\"},\"title\":{\"x\":0.05},\"mapbox\":{\"style\":\"light\"}}},\"geo\":{\"domain\":{\"x\":[0.0,1.0],\"y\":[0.0,1.0]},\"center\":{\"lat\":47.7511,\"lon\":-120.7401},\"projection\":{\"scale\":7},\"scope\":\"usa\"},\"coloraxis\":{\"colorbar\":{\"title\":{\"text\":\"No of vehicles\"}},\"colorscale\":[[0.0,\"#0d0887\"],[0.1111111111111111,\"#46039f\"],[0.2222222222222222,\"#7201a8\"],[0.3333333333333333,\"#9c179e\"],[0.4444444444444444,\"#bd3786\"],[0.5555555555555556,\"#d8576b\"],[0.6666666666666666,\"#ed7953\"],[0.7777777777777778,\"#fb9f3a\"],[0.8888888888888888,\"#fdca26\"],[1.0,\"#f0f921\"]]},\"legend\":{\"tracegroupgap\":0,\"itemsizing\":\"constant\"},\"title\":{\"text\":\"Electric Vehicle Count by City in Washington\"}},                        {\"responsive\": true}                    ).then(function(){\n",
       "                            \n",
       "var gd = document.getElementById('d1129c5f-f9f0-4700-b8bd-36ca73de0576');\n",
       "var x = new MutationObserver(function (mutations, observer) {{\n",
       "        var display = window.getComputedStyle(gd).display;\n",
       "        if (!display || display === 'none') {{\n",
       "            console.log([gd, 'removed!']);\n",
       "            Plotly.purge(gd);\n",
       "            observer.disconnect();\n",
       "        }}\n",
       "}});\n",
       "\n",
       "// Listen for the removal of the full notebook cells\n",
       "var notebookContainer = gd.closest('#notebook-container');\n",
       "if (notebookContainer) {{\n",
       "    x.observe(notebookContainer, {childList: true});\n",
       "}}\n",
       "\n",
       "// Listen for the clearing of the current output cell\n",
       "var outputEl = gd.closest('.output');\n",
       "if (outputEl) {{\n",
       "    x.observe(outputEl, {childList: true});\n",
       "}}\n",
       "\n",
       "                        })                };                });            </script>        </div>"
      ]
     },
     "metadata": {},
     "output_type": "display_data"
    }
   ],
   "source": [
    "fig = px.scatter_geo(\n",
    "    df_merged,\n",
    "    lat=\"Lat\",                    \n",
    "    lon=\"Lon\",                     \n",
    "    hover_name=\"City\",             \n",
    "    size=\"No of vehicles\",          \n",
    "    color=\"No of vehicles\",         \n",
    "    title=\"Electric Vehicle Count by City in Washington\"\n",
    ")\n",
    "fig.update_geos(\n",
    "    scope=\"usa\",                   \n",
    "    center={\"lat\": 47.7511, \"lon\": -120.7401},\n",
    "    projection_scale=7)\n",
    "fig.show()"
   ]
  },
  {
   "cell_type": "code",
   "execution_count": 238,
   "id": "ba2f3774-3fff-4443-907e-ed5e23a1faa1",
   "metadata": {},
   "outputs": [],
   "source": [
    "#Plotting racing bar chart"
   ]
  },
  {
   "cell_type": "code",
   "execution_count": 240,
   "id": "b60f1a7e-573f-4bed-b31f-306989b424ae",
   "metadata": {},
   "outputs": [],
   "source": [
    "import bar_chart_race as bcr"
   ]
  },
  {
   "cell_type": "code",
   "execution_count": 242,
   "id": "6359a68d-1ac4-4c9d-ac83-0475624d6db0",
   "metadata": {},
   "outputs": [
    {
     "data": {
      "text/plain": [
       "2022    26530\n",
       "2021    18364\n",
       "2018    14246\n",
       "2020    11038\n",
       "2019    10266\n",
       "2017     8644\n",
       "2016     5735\n",
       "2015     4940\n",
       "2013     4691\n",
       "2014     3685\n",
       "2023     1886\n",
       "2012     1705\n",
       "2011      840\n",
       "2010       24\n",
       "2008       23\n",
       "2000       10\n",
       "1999        3\n",
       "2002        2\n",
       "1997        1\n",
       "1998        1\n",
       "Name: Model Year, dtype: int64"
      ]
     },
     "execution_count": 242,
     "metadata": {},
     "output_type": "execute_result"
    }
   ],
   "source": [
    "df['Model Year'].value_counts()"
   ]
  },
  {
   "cell_type": "code",
   "execution_count": 244,
   "id": "bf8104fa-fd68-42f0-8317-7186b42cf8cd",
   "metadata": {},
   "outputs": [],
   "source": [
    "#lets see for the last 5 years"
   ]
  },
  {
   "cell_type": "code",
   "execution_count": 246,
   "id": "fea4869f-828f-4dbc-b10c-a96d3a82472b",
   "metadata": {},
   "outputs": [],
   "source": [
    "df_new=df_wa[df_wa['Model Year'].isin([2022,2021,2020,2019,2018])]"
   ]
  },
  {
   "cell_type": "code",
   "execution_count": 248,
   "id": "5d641cc8-9cb5-48e6-9459-0592b8a1fc6d",
   "metadata": {},
   "outputs": [],
   "source": [
    "sales_table=pd.crosstab(df_new['Model Year'],df_new['Maker'])"
   ]
  },
  {
   "cell_type": "code",
   "execution_count": 250,
   "id": "fa0e7d34-481d-465d-a424-2f43ad140b05",
   "metadata": {},
   "outputs": [
    {
     "data": {
      "text/html": [
       "<div>\n",
       "<style scoped>\n",
       "    .dataframe tbody tr th:only-of-type {\n",
       "        vertical-align: middle;\n",
       "    }\n",
       "\n",
       "    .dataframe tbody tr th {\n",
       "        vertical-align: top;\n",
       "    }\n",
       "\n",
       "    .dataframe thead th {\n",
       "        text-align: right;\n",
       "    }\n",
       "</style>\n",
       "<table border=\"1\" class=\"dataframe\">\n",
       "  <thead>\n",
       "    <tr style=\"text-align: right;\">\n",
       "      <th>Maker</th>\n",
       "      <th>AUDI</th>\n",
       "      <th>BENTLEY</th>\n",
       "      <th>BMW</th>\n",
       "      <th>CADILLAC</th>\n",
       "      <th>CHEVROLET</th>\n",
       "      <th>CHRYSLER</th>\n",
       "      <th>FIAT</th>\n",
       "      <th>FORD</th>\n",
       "      <th>HONDA</th>\n",
       "      <th>HYUNDAI</th>\n",
       "      <th>...</th>\n",
       "      <th>NISSAN</th>\n",
       "      <th>POLESTAR</th>\n",
       "      <th>PORSCHE</th>\n",
       "      <th>RIVIAN</th>\n",
       "      <th>SMART</th>\n",
       "      <th>SUBARU</th>\n",
       "      <th>TESLA</th>\n",
       "      <th>TOYOTA</th>\n",
       "      <th>VOLKSWAGEN</th>\n",
       "      <th>VOLVO</th>\n",
       "    </tr>\n",
       "    <tr>\n",
       "      <th>Model Year</th>\n",
       "      <th></th>\n",
       "      <th></th>\n",
       "      <th></th>\n",
       "      <th></th>\n",
       "      <th></th>\n",
       "      <th></th>\n",
       "      <th></th>\n",
       "      <th></th>\n",
       "      <th></th>\n",
       "      <th></th>\n",
       "      <th></th>\n",
       "      <th></th>\n",
       "      <th></th>\n",
       "      <th></th>\n",
       "      <th></th>\n",
       "      <th></th>\n",
       "      <th></th>\n",
       "      <th></th>\n",
       "      <th></th>\n",
       "      <th></th>\n",
       "      <th></th>\n",
       "    </tr>\n",
       "  </thead>\n",
       "  <tbody>\n",
       "    <tr>\n",
       "      <th>2018</th>\n",
       "      <td>174</td>\n",
       "      <td>0</td>\n",
       "      <td>709</td>\n",
       "      <td>17</td>\n",
       "      <td>1122</td>\n",
       "      <td>548</td>\n",
       "      <td>53</td>\n",
       "      <td>170</td>\n",
       "      <td>612</td>\n",
       "      <td>20</td>\n",
       "      <td>...</td>\n",
       "      <td>1230</td>\n",
       "      <td>0</td>\n",
       "      <td>77</td>\n",
       "      <td>0</td>\n",
       "      <td>47</td>\n",
       "      <td>0</td>\n",
       "      <td>7900</td>\n",
       "      <td>659</td>\n",
       "      <td>39</td>\n",
       "      <td>226</td>\n",
       "    </tr>\n",
       "    <tr>\n",
       "      <th>2019</th>\n",
       "      <td>391</td>\n",
       "      <td>0</td>\n",
       "      <td>279</td>\n",
       "      <td>0</td>\n",
       "      <td>966</td>\n",
       "      <td>118</td>\n",
       "      <td>9</td>\n",
       "      <td>135</td>\n",
       "      <td>73</td>\n",
       "      <td>115</td>\n",
       "      <td>...</td>\n",
       "      <td>1407</td>\n",
       "      <td>0</td>\n",
       "      <td>62</td>\n",
       "      <td>0</td>\n",
       "      <td>9</td>\n",
       "      <td>58</td>\n",
       "      <td>4569</td>\n",
       "      <td>189</td>\n",
       "      <td>494</td>\n",
       "      <td>190</td>\n",
       "    </tr>\n",
       "    <tr>\n",
       "      <th>2020</th>\n",
       "      <td>224</td>\n",
       "      <td>1</td>\n",
       "      <td>143</td>\n",
       "      <td>0</td>\n",
       "      <td>1013</td>\n",
       "      <td>283</td>\n",
       "      <td>0</td>\n",
       "      <td>65</td>\n",
       "      <td>79</td>\n",
       "      <td>212</td>\n",
       "      <td>...</td>\n",
       "      <td>580</td>\n",
       "      <td>0</td>\n",
       "      <td>143</td>\n",
       "      <td>0</td>\n",
       "      <td>0</td>\n",
       "      <td>0</td>\n",
       "      <td>6996</td>\n",
       "      <td>310</td>\n",
       "      <td>0</td>\n",
       "      <td>162</td>\n",
       "    </tr>\n",
       "    <tr>\n",
       "      <th>2021</th>\n",
       "      <td>543</td>\n",
       "      <td>1</td>\n",
       "      <td>634</td>\n",
       "      <td>0</td>\n",
       "      <td>376</td>\n",
       "      <td>501</td>\n",
       "      <td>0</td>\n",
       "      <td>880</td>\n",
       "      <td>17</td>\n",
       "      <td>187</td>\n",
       "      <td>...</td>\n",
       "      <td>533</td>\n",
       "      <td>97</td>\n",
       "      <td>145</td>\n",
       "      <td>0</td>\n",
       "      <td>0</td>\n",
       "      <td>0</td>\n",
       "      <td>10990</td>\n",
       "      <td>930</td>\n",
       "      <td>984</td>\n",
       "      <td>577</td>\n",
       "    </tr>\n",
       "    <tr>\n",
       "      <th>2022</th>\n",
       "      <td>585</td>\n",
       "      <td>1</td>\n",
       "      <td>901</td>\n",
       "      <td>0</td>\n",
       "      <td>891</td>\n",
       "      <td>237</td>\n",
       "      <td>0</td>\n",
       "      <td>1248</td>\n",
       "      <td>0</td>\n",
       "      <td>631</td>\n",
       "      <td>...</td>\n",
       "      <td>969</td>\n",
       "      <td>372</td>\n",
       "      <td>200</td>\n",
       "      <td>884</td>\n",
       "      <td>0</td>\n",
       "      <td>0</td>\n",
       "      <td>14524</td>\n",
       "      <td>419</td>\n",
       "      <td>428</td>\n",
       "      <td>878</td>\n",
       "    </tr>\n",
       "  </tbody>\n",
       "</table>\n",
       "<p>5 rows × 30 columns</p>\n",
       "</div>"
      ],
      "text/plain": [
       "Maker       AUDI  BENTLEY  BMW  CADILLAC  CHEVROLET  CHRYSLER  FIAT  FORD  \\\n",
       "Model Year                                                                  \n",
       "2018         174        0  709        17       1122       548    53   170   \n",
       "2019         391        0  279         0        966       118     9   135   \n",
       "2020         224        1  143         0       1013       283     0    65   \n",
       "2021         543        1  634         0        376       501     0   880   \n",
       "2022         585        1  901         0        891       237     0  1248   \n",
       "\n",
       "Maker       HONDA  HYUNDAI  ...  NISSAN  POLESTAR  PORSCHE  RIVIAN  SMART  \\\n",
       "Model Year                  ...                                             \n",
       "2018          612       20  ...    1230         0       77       0     47   \n",
       "2019           73      115  ...    1407         0       62       0      9   \n",
       "2020           79      212  ...     580         0      143       0      0   \n",
       "2021           17      187  ...     533        97      145       0      0   \n",
       "2022            0      631  ...     969       372      200     884      0   \n",
       "\n",
       "Maker       SUBARU  TESLA  TOYOTA  VOLKSWAGEN  VOLVO  \n",
       "Model Year                                            \n",
       "2018             0   7900     659          39    226  \n",
       "2019            58   4569     189         494    190  \n",
       "2020             0   6996     310           0    162  \n",
       "2021             0  10990     930         984    577  \n",
       "2022             0  14524     419         428    878  \n",
       "\n",
       "[5 rows x 30 columns]"
      ]
     },
     "execution_count": 250,
     "metadata": {},
     "output_type": "execute_result"
    }
   ],
   "source": [
    "sales_table"
   ]
  },
  {
   "cell_type": "code",
   "execution_count": 252,
   "id": "39dc048e-3fa6-4eba-984d-25ed5854af01",
   "metadata": {},
   "outputs": [
    {
     "name": "stderr",
     "output_type": "stream",
     "text": [
      "C:\\Users\\karna\\anaconda3\\Lib\\site-packages\\bar_chart_race\\_make_chart.py:286: UserWarning:\n",
      "\n",
      "FixedFormatter should only be used together with FixedLocator\n",
      "\n",
      "C:\\Users\\karna\\anaconda3\\Lib\\site-packages\\bar_chart_race\\_make_chart.py:287: UserWarning:\n",
      "\n",
      "FixedFormatter should only be used together with FixedLocator\n",
      "\n",
      "C:\\Users\\karna\\anaconda3\\Lib\\site-packages\\bar_chart_race\\_make_chart.py:226: UserWarning:\n",
      "\n",
      "Some of your columns never make an appearance in the animation. To reduce color repetition, set `filter_column_colors` to `True`\n",
      "\n"
     ]
    }
   ],
   "source": [
    "bcr.bar_chart_race(df=sales_table,filename='racing_bar.mp4',title='Sales of cars',n_bars=10,steps_per_period=45,period_length=5000)\n",
    "                   "
   ]
  },
  {
   "cell_type": "code",
   "execution_count": null,
   "id": "fbe90649-bcc9-4eff-b091-afb0f99cbac4",
   "metadata": {},
   "outputs": [],
   "source": [
    "#link for plot"
   ]
  },
  {
   "cell_type": "code",
   "execution_count": null,
   "id": "5dfa3bd5-b41d-4f1c-8ac5-4336f8410ad2",
   "metadata": {},
   "outputs": [],
   "source": [
    "https://drive.google.com/file/d/1PQ7uQ2hx-GgLlcFaiJwTwIaBKRL6H1R2/view?usp=drive_link"
   ]
  },
  {
   "cell_type": "code",
   "execution_count": 288,
   "id": "610019f6-0c7b-4199-839d-67af19b5e027",
   "metadata": {},
   "outputs": [],
   "source": [
    "#The End"
   ]
  },
  {
   "cell_type": "code",
   "execution_count": null,
   "id": "dac0fa58-b329-4e4c-a9f3-818071db5fca",
   "metadata": {},
   "outputs": [],
   "source": []
  }
 ],
 "metadata": {
  "kernelspec": {
   "display_name": "Python 3 (ipykernel)",
   "language": "python",
   "name": "python3"
  },
  "language_info": {
   "codemirror_mode": {
    "name": "ipython",
    "version": 3
   },
   "file_extension": ".py",
   "mimetype": "text/x-python",
   "name": "python",
   "nbconvert_exporter": "python",
   "pygments_lexer": "ipython3",
   "version": "3.11.3"
  }
 },
 "nbformat": 4,
 "nbformat_minor": 5
}
